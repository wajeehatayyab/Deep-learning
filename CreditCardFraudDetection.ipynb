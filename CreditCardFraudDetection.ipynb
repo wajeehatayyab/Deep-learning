{
  "nbformat": 4,
  "nbformat_minor": 0,
  "metadata": {
    "accelerator": "GPU",
    "colab": {
      "name": "CreditCardFraudDetection.ipynb",
      "provenance": [],
      "collapsed_sections": [],
      "toc_visible": true,
      "include_colab_link": true
    },
    "kernelspec": {
      "display_name": "Python 3",
      "language": "python",
      "name": "python3"
    },
    "language_info": {
      "codemirror_mode": {
        "name": "ipython",
        "version": 3
      },
      "file_extension": ".py",
      "mimetype": "text/x-python",
      "name": "python",
      "nbconvert_exporter": "python",
      "pygments_lexer": "ipython3",
      "version": "3.9.2"
    }
  },
  "cells": [
    {
      "cell_type": "markdown",
      "metadata": {
        "id": "view-in-github",
        "colab_type": "text"
      },
      "source": [
        "<a href=\"https://colab.research.google.com/github/wajeehatayyab/Deep-learning/blob/main/CreditCardFraudDetection.ipynb\" target=\"_parent\"><img src=\"https://colab.research.google.com/assets/colab-badge.svg\" alt=\"Open In Colab\"/></a>"
      ]
    },
    {
      "cell_type": "code",
      "metadata": {
        "id": "8cbNewhMpOsZ"
      },
      "source": [
        ""
      ],
      "execution_count": 32,
      "outputs": []
    },
    {
      "cell_type": "markdown",
      "metadata": {
        "id": "OmTZgxyZo4J2"
      },
      "source": [
        "Credit Card Fraud Detection::\n",
        "Download dataset from this link:\n",
        "\n",
        "https://www.kaggle.com/mlg-ulb/creditcardfraud\n",
        "\n",
        "# Description about dataset:: \n",
        "The datasets contains transactions made by credit cards in September 2013 by european cardholders. This dataset presents transactions that occurred in two days, where we have 492 frauds out of 284,807 transactions. The dataset is highly unbalanced, the positive class (frauds) account for 0.172% of all transactions.\n",
        "\n",
        "It contains only numerical input variables which are the result of a PCA transformation. Unfortunately, due to confidentiality issues, we cannot provide the original features and more background information about the data. Features V1, V2, … V28 are the principal components obtained with PCA, the only features which have not been transformed with PCA are 'Time' and 'Amount'. Feature 'Time' contains the seconds elapsed between each transaction and the first transaction in the dataset. The feature 'Amount' is the transaction Amount, this feature can be used for example-dependant cost-senstive learning.\n",
        "\n",
        "Feature 'Class' is the response variable and it takes value 1 in case of fraud and 0 otherwise.\n",
        "## **WORKFLOW :**\n",
        "1.Load Data\n",
        "\n",
        "2.Check Missing Values ( If Exist ; Fill each record with mean of its feature )\n",
        "\n",
        "3.Standardized the Input Variables.\n",
        "\n",
        "4.Split into 50% Training(Samples,Labels) , 30% Test(Samples,Labels) and 20% Validation Data(Samples,Labels).\n",
        "\n",
        "5.Model : input Layer (No. of features ), 3 hidden layers including 10,8,6 unit & Output Layer with activation function relu/tanh (check by experiment).\n",
        "\n",
        "6.Compilation Step (Note : Its a Binary problem , select loss , metrics according to it)\n",
        "\n",
        "7.Train the Model with Epochs (100).\n",
        "\n",
        "8.If the model gets overfit tune your model by changing the units , No. of layers , epochs , add dropout layer or add Regularizer according to the need .\n",
        "\n",
        "9.Prediction should be > 92% 10.Evaluation Step 11Prediction\n",
        "\n",
        "# **Task:**\n"
      ]
    },
    {
      "cell_type": "code",
      "metadata": {
        "id": "LdNU892PIozd"
      },
      "source": [
        "import pandas as pd\n",
        "import numpy as np\n",
        "import matplotlib.pyplot as plt\n",
        "import tensorflow as tf"
      ],
      "execution_count": 33,
      "outputs": []
    },
    {
      "cell_type": "markdown",
      "metadata": {
        "id": "gXSlrsDd876H"
      },
      "source": [
        "# **Load Data**"
      ]
    },
    {
      "cell_type": "code",
      "metadata": {
        "colab": {
          "base_uri": "https://localhost:8080/"
        },
        "id": "QuPFX2v_pTbl",
        "outputId": "7ade4a68-b5d3-45e3-a827-72833a1a459c"
      },
      "source": [
        "from google.colab import drive\n",
        "drive.mount('/content/drive')"
      ],
      "execution_count": 34,
      "outputs": [
        {
          "output_type": "stream",
          "text": [
            "Drive already mounted at /content/drive; to attempt to forcibly remount, call drive.mount(\"/content/drive\", force_remount=True).\n"
          ],
          "name": "stdout"
        }
      ]
    },
    {
      "cell_type": "code",
      "metadata": {
        "colab": {
          "base_uri": "https://localhost:8080/"
        },
        "id": "rTRxR1zMpcZR",
        "outputId": "2475b14f-7157-4343-8d87-2afe2dbf5eea"
      },
      "source": [
        "cd /content/drive/MyDrive/"
      ],
      "execution_count": 35,
      "outputs": [
        {
          "output_type": "stream",
          "text": [
            "/content/drive/MyDrive\n"
          ],
          "name": "stdout"
        }
      ]
    },
    {
      "cell_type": "code",
      "metadata": {
        "colab": {
          "base_uri": "https://localhost:8080/"
        },
        "id": "0YUIL5I6pwtq",
        "outputId": "d233a71a-0fb1-4f10-e3ec-5db9223b8869"
      },
      "source": [
        "cd /content/drive/MyDrive/'Deeplearning_Assignment '/"
      ],
      "execution_count": 36,
      "outputs": [
        {
          "output_type": "stream",
          "text": [
            "/content/drive/MyDrive/Deeplearning_Assignment \n"
          ],
          "name": "stdout"
        }
      ]
    },
    {
      "cell_type": "code",
      "metadata": {
        "colab": {
          "base_uri": "https://localhost:8080/"
        },
        "id": "SvGjMEMjqvCI",
        "outputId": "06375140-b81e-4f27-d40f-a14d9600c049"
      },
      "source": [
        "ls"
      ],
      "execution_count": 37,
      "outputs": [
        {
          "output_type": "stream",
          "text": [
            " CarPrice_Assignment.csv                 CreditCardFraudDetection.ipynb\n",
            " Car_Price_Prediction_assignmenl.ipynb  'Data Dictionary - carprices.xlsx'\n",
            " compresive_strength_concrete.csv        flowerclassification_final.ipynb\n",
            " Concrete.ipynb                         'Ionosphere Assignment.ipynb'\n",
            " creditcard.csv                          ionosphere_data.csv\n"
          ],
          "name": "stdout"
        }
      ]
    },
    {
      "cell_type": "code",
      "metadata": {
        "id": "XXYefSPSOidg",
        "colab": {
          "base_uri": "https://localhost:8080/",
          "height": 224
        },
        "outputId": "51b23923-1456-4069-91e5-d27e20b01aad"
      },
      "source": [
        "data = pd.read_csv('/content/drive/MyDrive/Deeplearning_Assignment /creditcard.csv')\n",
        "data.head()"
      ],
      "execution_count": 38,
      "outputs": [
        {
          "output_type": "execute_result",
          "data": {
            "text/html": [
              "<div>\n",
              "<style scoped>\n",
              "    .dataframe tbody tr th:only-of-type {\n",
              "        vertical-align: middle;\n",
              "    }\n",
              "\n",
              "    .dataframe tbody tr th {\n",
              "        vertical-align: top;\n",
              "    }\n",
              "\n",
              "    .dataframe thead th {\n",
              "        text-align: right;\n",
              "    }\n",
              "</style>\n",
              "<table border=\"1\" class=\"dataframe\">\n",
              "  <thead>\n",
              "    <tr style=\"text-align: right;\">\n",
              "      <th></th>\n",
              "      <th>Time</th>\n",
              "      <th>V1</th>\n",
              "      <th>V2</th>\n",
              "      <th>V3</th>\n",
              "      <th>V4</th>\n",
              "      <th>V5</th>\n",
              "      <th>V6</th>\n",
              "      <th>V7</th>\n",
              "      <th>V8</th>\n",
              "      <th>V9</th>\n",
              "      <th>V10</th>\n",
              "      <th>V11</th>\n",
              "      <th>V12</th>\n",
              "      <th>V13</th>\n",
              "      <th>V14</th>\n",
              "      <th>V15</th>\n",
              "      <th>V16</th>\n",
              "      <th>V17</th>\n",
              "      <th>V18</th>\n",
              "      <th>V19</th>\n",
              "      <th>V20</th>\n",
              "      <th>V21</th>\n",
              "      <th>V22</th>\n",
              "      <th>V23</th>\n",
              "      <th>V24</th>\n",
              "      <th>V25</th>\n",
              "      <th>V26</th>\n",
              "      <th>V27</th>\n",
              "      <th>V28</th>\n",
              "      <th>Amount</th>\n",
              "      <th>Class</th>\n",
              "    </tr>\n",
              "  </thead>\n",
              "  <tbody>\n",
              "    <tr>\n",
              "      <th>0</th>\n",
              "      <td>0.0</td>\n",
              "      <td>-1.359807</td>\n",
              "      <td>-0.072781</td>\n",
              "      <td>2.536347</td>\n",
              "      <td>1.378155</td>\n",
              "      <td>-0.338321</td>\n",
              "      <td>0.462388</td>\n",
              "      <td>0.239599</td>\n",
              "      <td>0.098698</td>\n",
              "      <td>0.363787</td>\n",
              "      <td>0.090794</td>\n",
              "      <td>-0.551600</td>\n",
              "      <td>-0.617801</td>\n",
              "      <td>-0.991390</td>\n",
              "      <td>-0.311169</td>\n",
              "      <td>1.468177</td>\n",
              "      <td>-0.470401</td>\n",
              "      <td>0.207971</td>\n",
              "      <td>0.025791</td>\n",
              "      <td>0.403993</td>\n",
              "      <td>0.251412</td>\n",
              "      <td>-0.018307</td>\n",
              "      <td>0.277838</td>\n",
              "      <td>-0.110474</td>\n",
              "      <td>0.066928</td>\n",
              "      <td>0.128539</td>\n",
              "      <td>-0.189115</td>\n",
              "      <td>0.133558</td>\n",
              "      <td>-0.021053</td>\n",
              "      <td>149.62</td>\n",
              "      <td>0</td>\n",
              "    </tr>\n",
              "    <tr>\n",
              "      <th>1</th>\n",
              "      <td>0.0</td>\n",
              "      <td>1.191857</td>\n",
              "      <td>0.266151</td>\n",
              "      <td>0.166480</td>\n",
              "      <td>0.448154</td>\n",
              "      <td>0.060018</td>\n",
              "      <td>-0.082361</td>\n",
              "      <td>-0.078803</td>\n",
              "      <td>0.085102</td>\n",
              "      <td>-0.255425</td>\n",
              "      <td>-0.166974</td>\n",
              "      <td>1.612727</td>\n",
              "      <td>1.065235</td>\n",
              "      <td>0.489095</td>\n",
              "      <td>-0.143772</td>\n",
              "      <td>0.635558</td>\n",
              "      <td>0.463917</td>\n",
              "      <td>-0.114805</td>\n",
              "      <td>-0.183361</td>\n",
              "      <td>-0.145783</td>\n",
              "      <td>-0.069083</td>\n",
              "      <td>-0.225775</td>\n",
              "      <td>-0.638672</td>\n",
              "      <td>0.101288</td>\n",
              "      <td>-0.339846</td>\n",
              "      <td>0.167170</td>\n",
              "      <td>0.125895</td>\n",
              "      <td>-0.008983</td>\n",
              "      <td>0.014724</td>\n",
              "      <td>2.69</td>\n",
              "      <td>0</td>\n",
              "    </tr>\n",
              "    <tr>\n",
              "      <th>2</th>\n",
              "      <td>1.0</td>\n",
              "      <td>-1.358354</td>\n",
              "      <td>-1.340163</td>\n",
              "      <td>1.773209</td>\n",
              "      <td>0.379780</td>\n",
              "      <td>-0.503198</td>\n",
              "      <td>1.800499</td>\n",
              "      <td>0.791461</td>\n",
              "      <td>0.247676</td>\n",
              "      <td>-1.514654</td>\n",
              "      <td>0.207643</td>\n",
              "      <td>0.624501</td>\n",
              "      <td>0.066084</td>\n",
              "      <td>0.717293</td>\n",
              "      <td>-0.165946</td>\n",
              "      <td>2.345865</td>\n",
              "      <td>-2.890083</td>\n",
              "      <td>1.109969</td>\n",
              "      <td>-0.121359</td>\n",
              "      <td>-2.261857</td>\n",
              "      <td>0.524980</td>\n",
              "      <td>0.247998</td>\n",
              "      <td>0.771679</td>\n",
              "      <td>0.909412</td>\n",
              "      <td>-0.689281</td>\n",
              "      <td>-0.327642</td>\n",
              "      <td>-0.139097</td>\n",
              "      <td>-0.055353</td>\n",
              "      <td>-0.059752</td>\n",
              "      <td>378.66</td>\n",
              "      <td>0</td>\n",
              "    </tr>\n",
              "    <tr>\n",
              "      <th>3</th>\n",
              "      <td>1.0</td>\n",
              "      <td>-0.966272</td>\n",
              "      <td>-0.185226</td>\n",
              "      <td>1.792993</td>\n",
              "      <td>-0.863291</td>\n",
              "      <td>-0.010309</td>\n",
              "      <td>1.247203</td>\n",
              "      <td>0.237609</td>\n",
              "      <td>0.377436</td>\n",
              "      <td>-1.387024</td>\n",
              "      <td>-0.054952</td>\n",
              "      <td>-0.226487</td>\n",
              "      <td>0.178228</td>\n",
              "      <td>0.507757</td>\n",
              "      <td>-0.287924</td>\n",
              "      <td>-0.631418</td>\n",
              "      <td>-1.059647</td>\n",
              "      <td>-0.684093</td>\n",
              "      <td>1.965775</td>\n",
              "      <td>-1.232622</td>\n",
              "      <td>-0.208038</td>\n",
              "      <td>-0.108300</td>\n",
              "      <td>0.005274</td>\n",
              "      <td>-0.190321</td>\n",
              "      <td>-1.175575</td>\n",
              "      <td>0.647376</td>\n",
              "      <td>-0.221929</td>\n",
              "      <td>0.062723</td>\n",
              "      <td>0.061458</td>\n",
              "      <td>123.50</td>\n",
              "      <td>0</td>\n",
              "    </tr>\n",
              "    <tr>\n",
              "      <th>4</th>\n",
              "      <td>2.0</td>\n",
              "      <td>-1.158233</td>\n",
              "      <td>0.877737</td>\n",
              "      <td>1.548718</td>\n",
              "      <td>0.403034</td>\n",
              "      <td>-0.407193</td>\n",
              "      <td>0.095921</td>\n",
              "      <td>0.592941</td>\n",
              "      <td>-0.270533</td>\n",
              "      <td>0.817739</td>\n",
              "      <td>0.753074</td>\n",
              "      <td>-0.822843</td>\n",
              "      <td>0.538196</td>\n",
              "      <td>1.345852</td>\n",
              "      <td>-1.119670</td>\n",
              "      <td>0.175121</td>\n",
              "      <td>-0.451449</td>\n",
              "      <td>-0.237033</td>\n",
              "      <td>-0.038195</td>\n",
              "      <td>0.803487</td>\n",
              "      <td>0.408542</td>\n",
              "      <td>-0.009431</td>\n",
              "      <td>0.798278</td>\n",
              "      <td>-0.137458</td>\n",
              "      <td>0.141267</td>\n",
              "      <td>-0.206010</td>\n",
              "      <td>0.502292</td>\n",
              "      <td>0.219422</td>\n",
              "      <td>0.215153</td>\n",
              "      <td>69.99</td>\n",
              "      <td>0</td>\n",
              "    </tr>\n",
              "  </tbody>\n",
              "</table>\n",
              "</div>"
            ],
            "text/plain": [
              "   Time        V1        V2        V3  ...       V27       V28  Amount  Class\n",
              "0   0.0 -1.359807 -0.072781  2.536347  ...  0.133558 -0.021053  149.62      0\n",
              "1   0.0  1.191857  0.266151  0.166480  ... -0.008983  0.014724    2.69      0\n",
              "2   1.0 -1.358354 -1.340163  1.773209  ... -0.055353 -0.059752  378.66      0\n",
              "3   1.0 -0.966272 -0.185226  1.792993  ...  0.062723  0.061458  123.50      0\n",
              "4   2.0 -1.158233  0.877737  1.548718  ...  0.219422  0.215153   69.99      0\n",
              "\n",
              "[5 rows x 31 columns]"
            ]
          },
          "metadata": {
            "tags": []
          },
          "execution_count": 38
        }
      ]
    },
    {
      "cell_type": "code",
      "metadata": {
        "id": "behOpLeGqtSd",
        "colab": {
          "base_uri": "https://localhost:8080/"
        },
        "outputId": "5e6ac9a2-5a22-40ff-e830-31ecb1a6b5ad"
      },
      "source": [
        "ls"
      ],
      "execution_count": 39,
      "outputs": [
        {
          "output_type": "stream",
          "text": [
            " CarPrice_Assignment.csv                 CreditCardFraudDetection.ipynb\n",
            " Car_Price_Prediction_assignmenl.ipynb  'Data Dictionary - carprices.xlsx'\n",
            " compresive_strength_concrete.csv        flowerclassification_final.ipynb\n",
            " Concrete.ipynb                         'Ionosphere Assignment.ipynb'\n",
            " creditcard.csv                          ionosphere_data.csv\n"
          ],
          "name": "stdout"
        }
      ]
    },
    {
      "cell_type": "code",
      "metadata": {
        "id": "0PNVjjw3qS5Q",
        "colab": {
          "base_uri": "https://localhost:8080/"
        },
        "outputId": "83ea751d-2b04-4a17-b488-700d68cc397e"
      },
      "source": [
        "data.info()"
      ],
      "execution_count": 40,
      "outputs": [
        {
          "output_type": "stream",
          "text": [
            "<class 'pandas.core.frame.DataFrame'>\n",
            "RangeIndex: 284807 entries, 0 to 284806\n",
            "Data columns (total 31 columns):\n",
            " #   Column  Non-Null Count   Dtype  \n",
            "---  ------  --------------   -----  \n",
            " 0   Time    284807 non-null  float64\n",
            " 1   V1      284807 non-null  float64\n",
            " 2   V2      284807 non-null  float64\n",
            " 3   V3      284807 non-null  float64\n",
            " 4   V4      284807 non-null  float64\n",
            " 5   V5      284807 non-null  float64\n",
            " 6   V6      284807 non-null  float64\n",
            " 7   V7      284807 non-null  float64\n",
            " 8   V8      284807 non-null  float64\n",
            " 9   V9      284807 non-null  float64\n",
            " 10  V10     284807 non-null  float64\n",
            " 11  V11     284807 non-null  float64\n",
            " 12  V12     284807 non-null  float64\n",
            " 13  V13     284807 non-null  float64\n",
            " 14  V14     284807 non-null  float64\n",
            " 15  V15     284807 non-null  float64\n",
            " 16  V16     284807 non-null  float64\n",
            " 17  V17     284807 non-null  float64\n",
            " 18  V18     284807 non-null  float64\n",
            " 19  V19     284807 non-null  float64\n",
            " 20  V20     284807 non-null  float64\n",
            " 21  V21     284807 non-null  float64\n",
            " 22  V22     284807 non-null  float64\n",
            " 23  V23     284807 non-null  float64\n",
            " 24  V24     284807 non-null  float64\n",
            " 25  V25     284807 non-null  float64\n",
            " 26  V26     284807 non-null  float64\n",
            " 27  V27     284807 non-null  float64\n",
            " 28  V28     284807 non-null  float64\n",
            " 29  Amount  284807 non-null  float64\n",
            " 30  Class   284807 non-null  int64  \n",
            "dtypes: float64(30), int64(1)\n",
            "memory usage: 67.4 MB\n"
          ],
          "name": "stdout"
        }
      ]
    },
    {
      "cell_type": "code",
      "metadata": {
        "colab": {
          "base_uri": "https://localhost:8080/",
          "height": 317
        },
        "id": "5O1cZFf1OmFo",
        "outputId": "7617a313-4bcc-4c51-9394-8226135edfaa"
      },
      "source": [
        "data.describe()"
      ],
      "execution_count": 41,
      "outputs": [
        {
          "output_type": "execute_result",
          "data": {
            "text/html": [
              "<div>\n",
              "<style scoped>\n",
              "    .dataframe tbody tr th:only-of-type {\n",
              "        vertical-align: middle;\n",
              "    }\n",
              "\n",
              "    .dataframe tbody tr th {\n",
              "        vertical-align: top;\n",
              "    }\n",
              "\n",
              "    .dataframe thead th {\n",
              "        text-align: right;\n",
              "    }\n",
              "</style>\n",
              "<table border=\"1\" class=\"dataframe\">\n",
              "  <thead>\n",
              "    <tr style=\"text-align: right;\">\n",
              "      <th></th>\n",
              "      <th>Time</th>\n",
              "      <th>V1</th>\n",
              "      <th>V2</th>\n",
              "      <th>V3</th>\n",
              "      <th>V4</th>\n",
              "      <th>V5</th>\n",
              "      <th>V6</th>\n",
              "      <th>V7</th>\n",
              "      <th>V8</th>\n",
              "      <th>V9</th>\n",
              "      <th>V10</th>\n",
              "      <th>V11</th>\n",
              "      <th>V12</th>\n",
              "      <th>V13</th>\n",
              "      <th>V14</th>\n",
              "      <th>V15</th>\n",
              "      <th>V16</th>\n",
              "      <th>V17</th>\n",
              "      <th>V18</th>\n",
              "      <th>V19</th>\n",
              "      <th>V20</th>\n",
              "      <th>V21</th>\n",
              "      <th>V22</th>\n",
              "      <th>V23</th>\n",
              "      <th>V24</th>\n",
              "      <th>V25</th>\n",
              "      <th>V26</th>\n",
              "      <th>V27</th>\n",
              "      <th>V28</th>\n",
              "      <th>Amount</th>\n",
              "      <th>Class</th>\n",
              "    </tr>\n",
              "  </thead>\n",
              "  <tbody>\n",
              "    <tr>\n",
              "      <th>count</th>\n",
              "      <td>284807.000000</td>\n",
              "      <td>2.848070e+05</td>\n",
              "      <td>2.848070e+05</td>\n",
              "      <td>2.848070e+05</td>\n",
              "      <td>2.848070e+05</td>\n",
              "      <td>2.848070e+05</td>\n",
              "      <td>2.848070e+05</td>\n",
              "      <td>2.848070e+05</td>\n",
              "      <td>2.848070e+05</td>\n",
              "      <td>2.848070e+05</td>\n",
              "      <td>2.848070e+05</td>\n",
              "      <td>2.848070e+05</td>\n",
              "      <td>2.848070e+05</td>\n",
              "      <td>2.848070e+05</td>\n",
              "      <td>2.848070e+05</td>\n",
              "      <td>2.848070e+05</td>\n",
              "      <td>2.848070e+05</td>\n",
              "      <td>2.848070e+05</td>\n",
              "      <td>2.848070e+05</td>\n",
              "      <td>2.848070e+05</td>\n",
              "      <td>2.848070e+05</td>\n",
              "      <td>2.848070e+05</td>\n",
              "      <td>2.848070e+05</td>\n",
              "      <td>2.848070e+05</td>\n",
              "      <td>2.848070e+05</td>\n",
              "      <td>2.848070e+05</td>\n",
              "      <td>2.848070e+05</td>\n",
              "      <td>2.848070e+05</td>\n",
              "      <td>2.848070e+05</td>\n",
              "      <td>284807.000000</td>\n",
              "      <td>284807.000000</td>\n",
              "    </tr>\n",
              "    <tr>\n",
              "      <th>mean</th>\n",
              "      <td>94813.859575</td>\n",
              "      <td>3.919560e-15</td>\n",
              "      <td>5.688174e-16</td>\n",
              "      <td>-8.769071e-15</td>\n",
              "      <td>2.782312e-15</td>\n",
              "      <td>-1.552563e-15</td>\n",
              "      <td>2.010663e-15</td>\n",
              "      <td>-1.694249e-15</td>\n",
              "      <td>-1.927028e-16</td>\n",
              "      <td>-3.137024e-15</td>\n",
              "      <td>1.768627e-15</td>\n",
              "      <td>9.170318e-16</td>\n",
              "      <td>-1.810658e-15</td>\n",
              "      <td>1.693438e-15</td>\n",
              "      <td>1.479045e-15</td>\n",
              "      <td>3.482336e-15</td>\n",
              "      <td>1.392007e-15</td>\n",
              "      <td>-7.528491e-16</td>\n",
              "      <td>4.328772e-16</td>\n",
              "      <td>9.049732e-16</td>\n",
              "      <td>5.085503e-16</td>\n",
              "      <td>1.537294e-16</td>\n",
              "      <td>7.959909e-16</td>\n",
              "      <td>5.367590e-16</td>\n",
              "      <td>4.458112e-15</td>\n",
              "      <td>1.453003e-15</td>\n",
              "      <td>1.699104e-15</td>\n",
              "      <td>-3.660161e-16</td>\n",
              "      <td>-1.206049e-16</td>\n",
              "      <td>88.349619</td>\n",
              "      <td>0.001727</td>\n",
              "    </tr>\n",
              "    <tr>\n",
              "      <th>std</th>\n",
              "      <td>47488.145955</td>\n",
              "      <td>1.958696e+00</td>\n",
              "      <td>1.651309e+00</td>\n",
              "      <td>1.516255e+00</td>\n",
              "      <td>1.415869e+00</td>\n",
              "      <td>1.380247e+00</td>\n",
              "      <td>1.332271e+00</td>\n",
              "      <td>1.237094e+00</td>\n",
              "      <td>1.194353e+00</td>\n",
              "      <td>1.098632e+00</td>\n",
              "      <td>1.088850e+00</td>\n",
              "      <td>1.020713e+00</td>\n",
              "      <td>9.992014e-01</td>\n",
              "      <td>9.952742e-01</td>\n",
              "      <td>9.585956e-01</td>\n",
              "      <td>9.153160e-01</td>\n",
              "      <td>8.762529e-01</td>\n",
              "      <td>8.493371e-01</td>\n",
              "      <td>8.381762e-01</td>\n",
              "      <td>8.140405e-01</td>\n",
              "      <td>7.709250e-01</td>\n",
              "      <td>7.345240e-01</td>\n",
              "      <td>7.257016e-01</td>\n",
              "      <td>6.244603e-01</td>\n",
              "      <td>6.056471e-01</td>\n",
              "      <td>5.212781e-01</td>\n",
              "      <td>4.822270e-01</td>\n",
              "      <td>4.036325e-01</td>\n",
              "      <td>3.300833e-01</td>\n",
              "      <td>250.120109</td>\n",
              "      <td>0.041527</td>\n",
              "    </tr>\n",
              "    <tr>\n",
              "      <th>min</th>\n",
              "      <td>0.000000</td>\n",
              "      <td>-5.640751e+01</td>\n",
              "      <td>-7.271573e+01</td>\n",
              "      <td>-4.832559e+01</td>\n",
              "      <td>-5.683171e+00</td>\n",
              "      <td>-1.137433e+02</td>\n",
              "      <td>-2.616051e+01</td>\n",
              "      <td>-4.355724e+01</td>\n",
              "      <td>-7.321672e+01</td>\n",
              "      <td>-1.343407e+01</td>\n",
              "      <td>-2.458826e+01</td>\n",
              "      <td>-4.797473e+00</td>\n",
              "      <td>-1.868371e+01</td>\n",
              "      <td>-5.791881e+00</td>\n",
              "      <td>-1.921433e+01</td>\n",
              "      <td>-4.498945e+00</td>\n",
              "      <td>-1.412985e+01</td>\n",
              "      <td>-2.516280e+01</td>\n",
              "      <td>-9.498746e+00</td>\n",
              "      <td>-7.213527e+00</td>\n",
              "      <td>-5.449772e+01</td>\n",
              "      <td>-3.483038e+01</td>\n",
              "      <td>-1.093314e+01</td>\n",
              "      <td>-4.480774e+01</td>\n",
              "      <td>-2.836627e+00</td>\n",
              "      <td>-1.029540e+01</td>\n",
              "      <td>-2.604551e+00</td>\n",
              "      <td>-2.256568e+01</td>\n",
              "      <td>-1.543008e+01</td>\n",
              "      <td>0.000000</td>\n",
              "      <td>0.000000</td>\n",
              "    </tr>\n",
              "    <tr>\n",
              "      <th>25%</th>\n",
              "      <td>54201.500000</td>\n",
              "      <td>-9.203734e-01</td>\n",
              "      <td>-5.985499e-01</td>\n",
              "      <td>-8.903648e-01</td>\n",
              "      <td>-8.486401e-01</td>\n",
              "      <td>-6.915971e-01</td>\n",
              "      <td>-7.682956e-01</td>\n",
              "      <td>-5.540759e-01</td>\n",
              "      <td>-2.086297e-01</td>\n",
              "      <td>-6.430976e-01</td>\n",
              "      <td>-5.354257e-01</td>\n",
              "      <td>-7.624942e-01</td>\n",
              "      <td>-4.055715e-01</td>\n",
              "      <td>-6.485393e-01</td>\n",
              "      <td>-4.255740e-01</td>\n",
              "      <td>-5.828843e-01</td>\n",
              "      <td>-4.680368e-01</td>\n",
              "      <td>-4.837483e-01</td>\n",
              "      <td>-4.988498e-01</td>\n",
              "      <td>-4.562989e-01</td>\n",
              "      <td>-2.117214e-01</td>\n",
              "      <td>-2.283949e-01</td>\n",
              "      <td>-5.423504e-01</td>\n",
              "      <td>-1.618463e-01</td>\n",
              "      <td>-3.545861e-01</td>\n",
              "      <td>-3.171451e-01</td>\n",
              "      <td>-3.269839e-01</td>\n",
              "      <td>-7.083953e-02</td>\n",
              "      <td>-5.295979e-02</td>\n",
              "      <td>5.600000</td>\n",
              "      <td>0.000000</td>\n",
              "    </tr>\n",
              "    <tr>\n",
              "      <th>50%</th>\n",
              "      <td>84692.000000</td>\n",
              "      <td>1.810880e-02</td>\n",
              "      <td>6.548556e-02</td>\n",
              "      <td>1.798463e-01</td>\n",
              "      <td>-1.984653e-02</td>\n",
              "      <td>-5.433583e-02</td>\n",
              "      <td>-2.741871e-01</td>\n",
              "      <td>4.010308e-02</td>\n",
              "      <td>2.235804e-02</td>\n",
              "      <td>-5.142873e-02</td>\n",
              "      <td>-9.291738e-02</td>\n",
              "      <td>-3.275735e-02</td>\n",
              "      <td>1.400326e-01</td>\n",
              "      <td>-1.356806e-02</td>\n",
              "      <td>5.060132e-02</td>\n",
              "      <td>4.807155e-02</td>\n",
              "      <td>6.641332e-02</td>\n",
              "      <td>-6.567575e-02</td>\n",
              "      <td>-3.636312e-03</td>\n",
              "      <td>3.734823e-03</td>\n",
              "      <td>-6.248109e-02</td>\n",
              "      <td>-2.945017e-02</td>\n",
              "      <td>6.781943e-03</td>\n",
              "      <td>-1.119293e-02</td>\n",
              "      <td>4.097606e-02</td>\n",
              "      <td>1.659350e-02</td>\n",
              "      <td>-5.213911e-02</td>\n",
              "      <td>1.342146e-03</td>\n",
              "      <td>1.124383e-02</td>\n",
              "      <td>22.000000</td>\n",
              "      <td>0.000000</td>\n",
              "    </tr>\n",
              "    <tr>\n",
              "      <th>75%</th>\n",
              "      <td>139320.500000</td>\n",
              "      <td>1.315642e+00</td>\n",
              "      <td>8.037239e-01</td>\n",
              "      <td>1.027196e+00</td>\n",
              "      <td>7.433413e-01</td>\n",
              "      <td>6.119264e-01</td>\n",
              "      <td>3.985649e-01</td>\n",
              "      <td>5.704361e-01</td>\n",
              "      <td>3.273459e-01</td>\n",
              "      <td>5.971390e-01</td>\n",
              "      <td>4.539234e-01</td>\n",
              "      <td>7.395934e-01</td>\n",
              "      <td>6.182380e-01</td>\n",
              "      <td>6.625050e-01</td>\n",
              "      <td>4.931498e-01</td>\n",
              "      <td>6.488208e-01</td>\n",
              "      <td>5.232963e-01</td>\n",
              "      <td>3.996750e-01</td>\n",
              "      <td>5.008067e-01</td>\n",
              "      <td>4.589494e-01</td>\n",
              "      <td>1.330408e-01</td>\n",
              "      <td>1.863772e-01</td>\n",
              "      <td>5.285536e-01</td>\n",
              "      <td>1.476421e-01</td>\n",
              "      <td>4.395266e-01</td>\n",
              "      <td>3.507156e-01</td>\n",
              "      <td>2.409522e-01</td>\n",
              "      <td>9.104512e-02</td>\n",
              "      <td>7.827995e-02</td>\n",
              "      <td>77.165000</td>\n",
              "      <td>0.000000</td>\n",
              "    </tr>\n",
              "    <tr>\n",
              "      <th>max</th>\n",
              "      <td>172792.000000</td>\n",
              "      <td>2.454930e+00</td>\n",
              "      <td>2.205773e+01</td>\n",
              "      <td>9.382558e+00</td>\n",
              "      <td>1.687534e+01</td>\n",
              "      <td>3.480167e+01</td>\n",
              "      <td>7.330163e+01</td>\n",
              "      <td>1.205895e+02</td>\n",
              "      <td>2.000721e+01</td>\n",
              "      <td>1.559499e+01</td>\n",
              "      <td>2.374514e+01</td>\n",
              "      <td>1.201891e+01</td>\n",
              "      <td>7.848392e+00</td>\n",
              "      <td>7.126883e+00</td>\n",
              "      <td>1.052677e+01</td>\n",
              "      <td>8.877742e+00</td>\n",
              "      <td>1.731511e+01</td>\n",
              "      <td>9.253526e+00</td>\n",
              "      <td>5.041069e+00</td>\n",
              "      <td>5.591971e+00</td>\n",
              "      <td>3.942090e+01</td>\n",
              "      <td>2.720284e+01</td>\n",
              "      <td>1.050309e+01</td>\n",
              "      <td>2.252841e+01</td>\n",
              "      <td>4.584549e+00</td>\n",
              "      <td>7.519589e+00</td>\n",
              "      <td>3.517346e+00</td>\n",
              "      <td>3.161220e+01</td>\n",
              "      <td>3.384781e+01</td>\n",
              "      <td>25691.160000</td>\n",
              "      <td>1.000000</td>\n",
              "    </tr>\n",
              "  </tbody>\n",
              "</table>\n",
              "</div>"
            ],
            "text/plain": [
              "                Time            V1  ...         Amount          Class\n",
              "count  284807.000000  2.848070e+05  ...  284807.000000  284807.000000\n",
              "mean    94813.859575  3.919560e-15  ...      88.349619       0.001727\n",
              "std     47488.145955  1.958696e+00  ...     250.120109       0.041527\n",
              "min         0.000000 -5.640751e+01  ...       0.000000       0.000000\n",
              "25%     54201.500000 -9.203734e-01  ...       5.600000       0.000000\n",
              "50%     84692.000000  1.810880e-02  ...      22.000000       0.000000\n",
              "75%    139320.500000  1.315642e+00  ...      77.165000       0.000000\n",
              "max    172792.000000  2.454930e+00  ...   25691.160000       1.000000\n",
              "\n",
              "[8 rows x 31 columns]"
            ]
          },
          "metadata": {
            "tags": []
          },
          "execution_count": 41
        }
      ]
    },
    {
      "cell_type": "markdown",
      "metadata": {
        "id": "WedbRy3l9Nb6"
      },
      "source": [
        "# **Check Missing Values ( If Exist ; Fill each record with mean of its feature )**"
      ]
    },
    {
      "cell_type": "code",
      "metadata": {
        "colab": {
          "base_uri": "https://localhost:8080/"
        },
        "id": "SZ3K03HAP20X",
        "outputId": "93d18507-a0b8-4e04-e693-e2df3d0be6d5"
      },
      "source": [
        "%time data.isnull().any()"
      ],
      "execution_count": 42,
      "outputs": [
        {
          "output_type": "stream",
          "text": [
            "CPU times: user 20.3 ms, sys: 0 ns, total: 20.3 ms\n",
            "Wall time: 19.1 ms\n"
          ],
          "name": "stdout"
        },
        {
          "output_type": "execute_result",
          "data": {
            "text/plain": [
              "Time      False\n",
              "V1        False\n",
              "V2        False\n",
              "V3        False\n",
              "V4        False\n",
              "V5        False\n",
              "V6        False\n",
              "V7        False\n",
              "V8        False\n",
              "V9        False\n",
              "V10       False\n",
              "V11       False\n",
              "V12       False\n",
              "V13       False\n",
              "V14       False\n",
              "V15       False\n",
              "V16       False\n",
              "V17       False\n",
              "V18       False\n",
              "V19       False\n",
              "V20       False\n",
              "V21       False\n",
              "V22       False\n",
              "V23       False\n",
              "V24       False\n",
              "V25       False\n",
              "V26       False\n",
              "V27       False\n",
              "V28       False\n",
              "Amount    False\n",
              "Class     False\n",
              "dtype: bool"
            ]
          },
          "metadata": {
            "tags": []
          },
          "execution_count": 42
        }
      ]
    },
    {
      "cell_type": "code",
      "metadata": {
        "colab": {
          "base_uri": "https://localhost:8080/"
        },
        "id": "lcg_hwy0rVSL",
        "outputId": "08133864-b9d5-4b44-f022-d73e211da1d4"
      },
      "source": [
        "np.where(data.applymap(lambda x: x ==''))"
      ],
      "execution_count": 43,
      "outputs": [
        {
          "output_type": "execute_result",
          "data": {
            "text/plain": [
              "(array([], dtype=int64), array([], dtype=int64))"
            ]
          },
          "metadata": {
            "tags": []
          },
          "execution_count": 43
        }
      ]
    },
    {
      "cell_type": "markdown",
      "metadata": {
        "id": "z3Xe-5Fa_6up"
      },
      "source": [
        "# **Standardized the Input Variables**"
      ]
    },
    {
      "cell_type": "code",
      "metadata": {
        "id": "HeHjcHCX9Xbx"
      },
      "source": [
        "data.reset_index(drop=True, inplace=True)\n",
        "labels = data.pop('Class')"
      ],
      "execution_count": 44,
      "outputs": []
    },
    {
      "cell_type": "code",
      "metadata": {
        "id": "0ALZLF1tAYjA"
      },
      "source": [
        "data -= data.mean()\n",
        "data /= data.std()"
      ],
      "execution_count": 45,
      "outputs": []
    },
    {
      "cell_type": "code",
      "metadata": {
        "colab": {
          "base_uri": "https://localhost:8080/",
          "height": 385
        },
        "id": "Ry-8pJmyDbeP",
        "outputId": "ba69b3a7-9783-463f-f9c4-ea2f62fd0680"
      },
      "source": [
        "data.describe()"
      ],
      "execution_count": 46,
      "outputs": [
        {
          "output_type": "execute_result",
          "data": {
            "text/html": [
              "<div>\n",
              "<style scoped>\n",
              "    .dataframe tbody tr th:only-of-type {\n",
              "        vertical-align: middle;\n",
              "    }\n",
              "\n",
              "    .dataframe tbody tr th {\n",
              "        vertical-align: top;\n",
              "    }\n",
              "\n",
              "    .dataframe thead th {\n",
              "        text-align: right;\n",
              "    }\n",
              "</style>\n",
              "<table border=\"1\" class=\"dataframe\">\n",
              "  <thead>\n",
              "    <tr style=\"text-align: right;\">\n",
              "      <th></th>\n",
              "      <th>Time</th>\n",
              "      <th>V1</th>\n",
              "      <th>V2</th>\n",
              "      <th>V3</th>\n",
              "      <th>V4</th>\n",
              "      <th>V5</th>\n",
              "      <th>V6</th>\n",
              "      <th>V7</th>\n",
              "      <th>V8</th>\n",
              "      <th>V9</th>\n",
              "      <th>V10</th>\n",
              "      <th>V11</th>\n",
              "      <th>V12</th>\n",
              "      <th>V13</th>\n",
              "      <th>V14</th>\n",
              "      <th>V15</th>\n",
              "      <th>V16</th>\n",
              "      <th>V17</th>\n",
              "      <th>V18</th>\n",
              "      <th>V19</th>\n",
              "      <th>V20</th>\n",
              "      <th>V21</th>\n",
              "      <th>V22</th>\n",
              "      <th>V23</th>\n",
              "      <th>V24</th>\n",
              "      <th>V25</th>\n",
              "      <th>V26</th>\n",
              "      <th>V27</th>\n",
              "      <th>V28</th>\n",
              "      <th>Amount</th>\n",
              "    </tr>\n",
              "  </thead>\n",
              "  <tbody>\n",
              "    <tr>\n",
              "      <th>count</th>\n",
              "      <td>2.848070e+05</td>\n",
              "      <td>2.848070e+05</td>\n",
              "      <td>2.848070e+05</td>\n",
              "      <td>2.848070e+05</td>\n",
              "      <td>2.848070e+05</td>\n",
              "      <td>2.848070e+05</td>\n",
              "      <td>2.848070e+05</td>\n",
              "      <td>2.848070e+05</td>\n",
              "      <td>2.848070e+05</td>\n",
              "      <td>2.848070e+05</td>\n",
              "      <td>2.848070e+05</td>\n",
              "      <td>2.848070e+05</td>\n",
              "      <td>2.848070e+05</td>\n",
              "      <td>2.848070e+05</td>\n",
              "      <td>2.848070e+05</td>\n",
              "      <td>2.848070e+05</td>\n",
              "      <td>2.848070e+05</td>\n",
              "      <td>2.848070e+05</td>\n",
              "      <td>2.848070e+05</td>\n",
              "      <td>2.848070e+05</td>\n",
              "      <td>2.848070e+05</td>\n",
              "      <td>2.848070e+05</td>\n",
              "      <td>2.848070e+05</td>\n",
              "      <td>2.848070e+05</td>\n",
              "      <td>2.848070e+05</td>\n",
              "      <td>2.848070e+05</td>\n",
              "      <td>2.848070e+05</td>\n",
              "      <td>2.848070e+05</td>\n",
              "      <td>2.848070e+05</td>\n",
              "      <td>2.848070e+05</td>\n",
              "    </tr>\n",
              "    <tr>\n",
              "      <th>mean</th>\n",
              "      <td>-1.137547e-15</td>\n",
              "      <td>-2.369347e-15</td>\n",
              "      <td>-9.299088e-17</td>\n",
              "      <td>6.265771e-15</td>\n",
              "      <td>1.966167e-16</td>\n",
              "      <td>1.757901e-15</td>\n",
              "      <td>-2.227124e-16</td>\n",
              "      <td>1.663279e-15</td>\n",
              "      <td>2.504277e-16</td>\n",
              "      <td>1.113356e-15</td>\n",
              "      <td>3.169574e-16</td>\n",
              "      <td>2.633087e-15</td>\n",
              "      <td>2.009085e-15</td>\n",
              "      <td>-9.906970e-16</td>\n",
              "      <td>-1.164815e-15</td>\n",
              "      <td>1.512182e-15</td>\n",
              "      <td>-8.075037e-19</td>\n",
              "      <td>6.119884e-16</td>\n",
              "      <td>1.391775e-15</td>\n",
              "      <td>-9.474671e-17</td>\n",
              "      <td>6.157864e-16</td>\n",
              "      <td>1.850826e-17</td>\n",
              "      <td>-2.630385e-15</td>\n",
              "      <td>-7.445328e-16</td>\n",
              "      <td>7.621335e-17</td>\n",
              "      <td>-1.055018e-15</td>\n",
              "      <td>-1.504105e-16</td>\n",
              "      <td>2.448796e-17</td>\n",
              "      <td>-3.725646e-17</td>\n",
              "      <td>2.278134e-13</td>\n",
              "    </tr>\n",
              "    <tr>\n",
              "      <th>std</th>\n",
              "      <td>1.000000e+00</td>\n",
              "      <td>1.000000e+00</td>\n",
              "      <td>1.000000e+00</td>\n",
              "      <td>1.000000e+00</td>\n",
              "      <td>1.000000e+00</td>\n",
              "      <td>1.000000e+00</td>\n",
              "      <td>1.000000e+00</td>\n",
              "      <td>1.000000e+00</td>\n",
              "      <td>1.000000e+00</td>\n",
              "      <td>1.000000e+00</td>\n",
              "      <td>1.000000e+00</td>\n",
              "      <td>1.000000e+00</td>\n",
              "      <td>1.000000e+00</td>\n",
              "      <td>1.000000e+00</td>\n",
              "      <td>1.000000e+00</td>\n",
              "      <td>1.000000e+00</td>\n",
              "      <td>1.000000e+00</td>\n",
              "      <td>1.000000e+00</td>\n",
              "      <td>1.000000e+00</td>\n",
              "      <td>1.000000e+00</td>\n",
              "      <td>1.000000e+00</td>\n",
              "      <td>1.000000e+00</td>\n",
              "      <td>1.000000e+00</td>\n",
              "      <td>1.000000e+00</td>\n",
              "      <td>1.000000e+00</td>\n",
              "      <td>1.000000e+00</td>\n",
              "      <td>1.000000e+00</td>\n",
              "      <td>1.000000e+00</td>\n",
              "      <td>1.000000e+00</td>\n",
              "      <td>1.000000e+00</td>\n",
              "    </tr>\n",
              "    <tr>\n",
              "      <th>min</th>\n",
              "      <td>-1.996580e+00</td>\n",
              "      <td>-2.879850e+01</td>\n",
              "      <td>-4.403521e+01</td>\n",
              "      <td>-3.187168e+01</td>\n",
              "      <td>-4.013912e+00</td>\n",
              "      <td>-8.240795e+01</td>\n",
              "      <td>-1.963602e+01</td>\n",
              "      <td>-3.520933e+01</td>\n",
              "      <td>-6.130242e+01</td>\n",
              "      <td>-1.222799e+01</td>\n",
              "      <td>-2.258187e+01</td>\n",
              "      <td>-4.700120e+00</td>\n",
              "      <td>-1.869865e+01</td>\n",
              "      <td>-5.819382e+00</td>\n",
              "      <td>-2.004425e+01</td>\n",
              "      <td>-4.915182e+00</td>\n",
              "      <td>-1.612532e+01</td>\n",
              "      <td>-2.962640e+01</td>\n",
              "      <td>-1.133264e+01</td>\n",
              "      <td>-8.861386e+00</td>\n",
              "      <td>-7.069134e+01</td>\n",
              "      <td>-4.741898e+01</td>\n",
              "      <td>-1.506562e+01</td>\n",
              "      <td>-7.175434e+01</td>\n",
              "      <td>-4.683630e+00</td>\n",
              "      <td>-1.975030e+01</td>\n",
              "      <td>-5.401088e+00</td>\n",
              "      <td>-5.590650e+01</td>\n",
              "      <td>-4.674604e+01</td>\n",
              "      <td>-3.532288e-01</td>\n",
              "    </tr>\n",
              "    <tr>\n",
              "      <th>25%</th>\n",
              "      <td>-8.552105e-01</td>\n",
              "      <td>-4.698909e-01</td>\n",
              "      <td>-3.624701e-01</td>\n",
              "      <td>-5.872131e-01</td>\n",
              "      <td>-5.993777e-01</td>\n",
              "      <td>-5.010677e-01</td>\n",
              "      <td>-5.766811e-01</td>\n",
              "      <td>-4.478852e-01</td>\n",
              "      <td>-1.746801e-01</td>\n",
              "      <td>-5.853621e-01</td>\n",
              "      <td>-4.917352e-01</td>\n",
              "      <td>-7.470211e-01</td>\n",
              "      <td>-4.058956e-01</td>\n",
              "      <td>-6.516187e-01</td>\n",
              "      <td>-4.439557e-01</td>\n",
              "      <td>-6.368121e-01</td>\n",
              "      <td>-5.341344e-01</td>\n",
              "      <td>-5.695599e-01</td>\n",
              "      <td>-5.951610e-01</td>\n",
              "      <td>-5.605359e-01</td>\n",
              "      <td>-2.746329e-01</td>\n",
              "      <td>-3.109428e-01</td>\n",
              "      <td>-7.473463e-01</td>\n",
              "      <td>-2.591780e-01</td>\n",
              "      <td>-5.854666e-01</td>\n",
              "      <td>-6.083990e-01</td>\n",
              "      <td>-6.780705e-01</td>\n",
              "      <td>-1.755050e-01</td>\n",
              "      <td>-1.604437e-01</td>\n",
              "      <td>-3.308395e-01</td>\n",
              "    </tr>\n",
              "    <tr>\n",
              "      <th>50%</th>\n",
              "      <td>-2.131450e-01</td>\n",
              "      <td>9.245335e-03</td>\n",
              "      <td>3.965677e-02</td>\n",
              "      <td>1.186122e-01</td>\n",
              "      <td>-1.401721e-02</td>\n",
              "      <td>-3.936675e-02</td>\n",
              "      <td>-2.058043e-01</td>\n",
              "      <td>3.241718e-02</td>\n",
              "      <td>1.871979e-02</td>\n",
              "      <td>-4.681161e-02</td>\n",
              "      <td>-8.533536e-02</td>\n",
              "      <td>-3.209262e-02</td>\n",
              "      <td>1.401445e-01</td>\n",
              "      <td>-1.363248e-02</td>\n",
              "      <td>5.278693e-02</td>\n",
              "      <td>5.251907e-02</td>\n",
              "      <td>7.579241e-02</td>\n",
              "      <td>-7.732590e-02</td>\n",
              "      <td>-4.338363e-03</td>\n",
              "      <td>4.588006e-03</td>\n",
              "      <td>-8.104691e-02</td>\n",
              "      <td>-4.009422e-02</td>\n",
              "      <td>9.345360e-03</td>\n",
              "      <td>-1.792417e-02</td>\n",
              "      <td>6.765666e-02</td>\n",
              "      <td>3.183234e-02</td>\n",
              "      <td>-1.081215e-01</td>\n",
              "      <td>3.325168e-03</td>\n",
              "      <td>3.406362e-02</td>\n",
              "      <td>-2.652710e-01</td>\n",
              "    </tr>\n",
              "    <tr>\n",
              "      <th>75%</th>\n",
              "      <td>9.372158e-01</td>\n",
              "      <td>6.716927e-01</td>\n",
              "      <td>4.867194e-01</td>\n",
              "      <td>6.774557e-01</td>\n",
              "      <td>5.250073e-01</td>\n",
              "      <td>4.433457e-01</td>\n",
              "      <td>2.991620e-01</td>\n",
              "      <td>4.611099e-01</td>\n",
              "      <td>2.740780e-01</td>\n",
              "      <td>5.435296e-01</td>\n",
              "      <td>4.168834e-01</td>\n",
              "      <td>7.245851e-01</td>\n",
              "      <td>6.187322e-01</td>\n",
              "      <td>6.656507e-01</td>\n",
              "      <td>5.144504e-01</td>\n",
              "      <td>7.088490e-01</td>\n",
              "      <td>5.971978e-01</td>\n",
              "      <td>4.705729e-01</td>\n",
              "      <td>5.974958e-01</td>\n",
              "      <td>5.637918e-01</td>\n",
              "      <td>1.725730e-01</td>\n",
              "      <td>2.537387e-01</td>\n",
              "      <td>7.283347e-01</td>\n",
              "      <td>2.364315e-01</td>\n",
              "      <td>7.257141e-01</td>\n",
              "      <td>6.727994e-01</td>\n",
              "      <td>4.996654e-01</td>\n",
              "      <td>2.255644e-01</td>\n",
              "      <td>2.371521e-01</td>\n",
              "      <td>-4.471699e-02</td>\n",
              "    </tr>\n",
              "    <tr>\n",
              "      <th>max</th>\n",
              "      <td>1.642055e+00</td>\n",
              "      <td>1.253349e+00</td>\n",
              "      <td>1.335773e+01</td>\n",
              "      <td>6.187982e+00</td>\n",
              "      <td>1.191872e+01</td>\n",
              "      <td>2.521409e+01</td>\n",
              "      <td>5.502005e+01</td>\n",
              "      <td>9.747807e+01</td>\n",
              "      <td>1.675150e+01</td>\n",
              "      <td>1.419492e+01</td>\n",
              "      <td>2.180754e+01</td>\n",
              "      <td>1.177502e+01</td>\n",
              "      <td>7.854665e+00</td>\n",
              "      <td>7.160723e+00</td>\n",
              "      <td>1.098145e+01</td>\n",
              "      <td>9.699100e+00</td>\n",
              "      <td>1.976040e+01</td>\n",
              "      <td>1.089500e+01</td>\n",
              "      <td>6.014331e+00</td>\n",
              "      <td>6.869402e+00</td>\n",
              "      <td>5.113455e+01</td>\n",
              "      <td>3.703465e+01</td>\n",
              "      <td>1.447302e+01</td>\n",
              "      <td>3.607661e+01</td>\n",
              "      <td>7.569671e+00</td>\n",
              "      <td>1.442529e+01</td>\n",
              "      <td>7.293962e+00</td>\n",
              "      <td>7.831926e+01</td>\n",
              "      <td>1.025432e+02</td>\n",
              "      <td>1.023621e+02</td>\n",
              "    </tr>\n",
              "  </tbody>\n",
              "</table>\n",
              "</div>"
            ],
            "text/plain": [
              "               Time            V1  ...           V28        Amount\n",
              "count  2.848070e+05  2.848070e+05  ...  2.848070e+05  2.848070e+05\n",
              "mean  -1.137547e-15 -2.369347e-15  ... -3.725646e-17  2.278134e-13\n",
              "std    1.000000e+00  1.000000e+00  ...  1.000000e+00  1.000000e+00\n",
              "min   -1.996580e+00 -2.879850e+01  ... -4.674604e+01 -3.532288e-01\n",
              "25%   -8.552105e-01 -4.698909e-01  ... -1.604437e-01 -3.308395e-01\n",
              "50%   -2.131450e-01  9.245335e-03  ...  3.406362e-02 -2.652710e-01\n",
              "75%    9.372158e-01  6.716927e-01  ...  2.371521e-01 -4.471699e-02\n",
              "max    1.642055e+00  1.253349e+00  ...  1.025432e+02  1.023621e+02\n",
              "\n",
              "[8 rows x 30 columns]"
            ]
          },
          "metadata": {
            "tags": []
          },
          "execution_count": 46
        }
      ]
    },
    {
      "cell_type": "markdown",
      "metadata": {
        "id": "Ai7j-PDlGnLC"
      },
      "source": [
        "# **Split into 50% Training(Samples,Labels) , 30% Test(Samples,Labels) and 20% Validation Data(Samples,Labels).**"
      ]
    },
    {
      "cell_type": "code",
      "metadata": {
        "id": "eSZjq_rmDfIy"
      },
      "source": [
        "data_len = len(data)\n",
        "train_data = data.iloc[:data_len*50//100]\n",
        "val_data = data.iloc[data_len*50//100:data_len*70//100]\n",
        "test_data = data.iloc[data_len*70//100:]\n",
        "labels_len = len(labels)\n",
        "train_labels = labels.iloc[:labels_len*50//100]\n",
        "val_labels = labels.iloc[labels_len*50//100:labels_len*70//100]\n",
        "test_labels = labels.iloc[labels_len*70//100:]"
      ],
      "execution_count": 47,
      "outputs": []
    },
    {
      "cell_type": "markdown",
      "metadata": {
        "id": "fHbTZIW2IEMk"
      },
      "source": [
        "# **Model : input Layer (No. of features ), 3 hidden layers including 10,8,6 unit & Output Layer with activation function relu/tanh (check by experiment).**"
      ]
    },
    {
      "cell_type": "code",
      "metadata": {
        "colab": {
          "base_uri": "https://localhost:8080/"
        },
        "id": "G1Uol4PIFJYR",
        "outputId": "d06095ad-9a05-4a3d-b53d-190f464be551"
      },
      "source": [
        "from tensorflow.keras import models\n",
        "from tensorflow.keras import layers\n",
        "import tensorflow as tf\n",
        "network = models.Sequential()\n",
        "network.add(layers.Dense(10,activation=\"tanh\",input_shape=(len(train_data.columns),) ))\n",
        "network.add(layers.Dense(8,activation=\"tanh\",input_shape=(data.shape[1],) ))\n",
        "network.add(layers.Dense(6,activation=\"tanh\",input_shape=(data.shape[1],) ))\n",
        "network.add(layers.Dense(1,activation=\"sigmoid\"))\n",
        "network.compile(optimizer='rmsprop',loss='binary_crossentropy',metrics=['acc'])\n",
        "with tf.device('/device:GPU:1'):\n",
        "  %time MODEL = network.fit(train_data,train_labels,epochs=10,batch_size=256,validation_data=(val_data,val_labels))"
      ],
      "execution_count": 24,
      "outputs": [
        {
          "output_type": "stream",
          "text": [
            "Epoch 1/10\n",
            "557/557 [==============================] - 6s 5ms/step - loss: 0.2603 - acc: 0.9338 - val_loss: 1.0706 - val_acc: 0.6044\n",
            "Epoch 2/10\n",
            "557/557 [==============================] - 2s 4ms/step - loss: 0.0057 - acc: 0.9993 - val_loss: 1.1991 - val_acc: 0.6542\n",
            "Epoch 3/10\n",
            "557/557 [==============================] - 3s 5ms/step - loss: 0.0040 - acc: 0.9992 - val_loss: 1.2301 - val_acc: 0.6739\n",
            "Epoch 4/10\n",
            "557/557 [==============================] - 3s 5ms/step - loss: 0.0031 - acc: 0.9994 - val_loss: 1.0817 - val_acc: 0.7055\n",
            "Epoch 5/10\n",
            "557/557 [==============================] - 3s 5ms/step - loss: 0.0031 - acc: 0.9994 - val_loss: 1.0191 - val_acc: 0.7202\n",
            "Epoch 6/10\n",
            "557/557 [==============================] - 2s 4ms/step - loss: 0.0030 - acc: 0.9994 - val_loss: 0.9642 - val_acc: 0.7328\n",
            "Epoch 7/10\n",
            "557/557 [==============================] - 3s 5ms/step - loss: 0.0031 - acc: 0.9993 - val_loss: 0.9275 - val_acc: 0.7462\n",
            "Epoch 8/10\n",
            "557/557 [==============================] - 2s 4ms/step - loss: 0.0031 - acc: 0.9994 - val_loss: 0.9063 - val_acc: 0.7552\n",
            "Epoch 9/10\n",
            "557/557 [==============================] - 3s 4ms/step - loss: 0.0035 - acc: 0.9993 - val_loss: 0.8495 - val_acc: 0.7661\n",
            "Epoch 10/10\n",
            "557/557 [==============================] - 2s 4ms/step - loss: 0.0023 - acc: 0.9996 - val_loss: 0.7713 - val_acc: 0.7810\n",
            "CPU times: user 29.8 s, sys: 4.23 s, total: 34 s\n",
            "Wall time: 28.8 s\n"
          ],
          "name": "stdout"
        }
      ]
    },
    {
      "cell_type": "code",
      "metadata": {
        "colab": {
          "base_uri": "https://localhost:8080/"
        },
        "id": "UG8oxKVxKMi8",
        "outputId": "19b58500-1d43-48eb-9240-4955b833ae9c"
      },
      "source": [
        "test_loss , test_acc = network.evaluate(test_data,test_labels)"
      ],
      "execution_count": 25,
      "outputs": [
        {
          "output_type": "stream",
          "text": [
            "2671/2671 [==============================] - 6s 2ms/step - loss: 2.0435 - acc: 0.5126\n"
          ],
          "name": "stdout"
        }
      ]
    },
    {
      "cell_type": "code",
      "metadata": {
        "colab": {
          "base_uri": "https://localhost:8080/"
        },
        "id": "TmosmJihKSlT",
        "outputId": "170938fd-6fd1-4add-e411-131b4510d34f"
      },
      "source": [
        "test_labels[test_labels == 1]\n"
      ],
      "execution_count": 26,
      "outputs": [
        {
          "output_type": "execute_result",
          "data": {
            "text/plain": [
              "199896    1\n",
              "201098    1\n",
              "201601    1\n",
              "203324    1\n",
              "203328    1\n",
              "         ..\n",
              "279863    1\n",
              "280143    1\n",
              "280149    1\n",
              "281144    1\n",
              "281674    1\n",
              "Name: Class, Length: 108, dtype: int64"
            ]
          },
          "metadata": {
            "tags": []
          },
          "execution_count": 26
        }
      ]
    },
    {
      "cell_type": "code",
      "metadata": {
        "colab": {
          "base_uri": "https://localhost:8080/",
          "height": 312
        },
        "id": "GKpgJUcsZym6",
        "outputId": "06864f7f-f1e6-4ef9-95f6-fa19ae3749f2"
      },
      "source": [
        "history_dict = MODEL.history\n",
        "acc_values = history_dict['acc']\n",
        "val_acc_values = history_dict['val_acc']\n",
        "epoches = np.arange(1,len(history_dict['acc'])+1)\n",
        "plt.plot(epoches,acc_values,'bo',label=\"Training Accuracy\")\n",
        "plt.plot(epoches,val_acc_values,'b',label=\"Validation Accuracy\")\n",
        "plt.title('Training and validation Accuracy')\n",
        "plt.xlabel(\"Epoches\")\n",
        "plt.ylabel(\"Accuracy\")\n",
        "plt.legend()\n",
        "# plt.show()"
      ],
      "execution_count": 27,
      "outputs": [
        {
          "output_type": "execute_result",
          "data": {
            "text/plain": [
              "<matplotlib.legend.Legend at 0x7fa212027510>"
            ]
          },
          "metadata": {
            "tags": []
          },
          "execution_count": 27
        },
        {
          "output_type": "display_data",
          "data": {
            "image/png": "[encoded data removed]",
            "text/plain": [
              "<Figure size 432x288 with 1 Axes>"
            ]
          },
          "metadata": {
            "tags": [],
            "needs_background": "light"
          }
        }
      ]
    },
    {
      "cell_type": "markdown",
      "metadata": {
        "id": "-k-7aD606f29"
      },
      "source": [
        "# **Doing With RELU**"
      ]
    },
    {
      "cell_type": "code",
      "metadata": {
        "colab": {
          "base_uri": "https://localhost:8080/"
        },
        "id": "oGuUVIzAa4sx",
        "outputId": "64a04cb0-a9eb-47e5-c2ac-6f56a58e1953"
      },
      "source": [
        "from tensorflow.keras import models\n",
        "from tensorflow.keras import layers\n",
        "import tensorflow as tf\n",
        "network1 = models.Sequential()\n",
        "network1.add(layers.Dense(30,activation=\"relu\",input_shape=(len(train_data.columns),) ))\n",
        "network1.add(layers.Dense(20,activation=\"relu\",input_shape=(data.shape[1],) ))\n",
        "network1.add(layers.Dense(10,activation=\"relu\",input_shape=(data.shape[1],) ))\n",
        "network1.add(layers.Dense(1,activation=\"sigmoid\"))\n",
        "network1.compile(optimizer='rmsprop',loss='binary_crossentropy',metrics=['acc'])\n",
        "with tf.device('/device:GPU:1'):\n",
        "  %time MODEL1 = network1.fit(train_data,train_labels,epochs=10,batch_size=512,validation_data=(val_data,val_labels))"
      ],
      "execution_count": 28,
      "outputs": [
        {
          "output_type": "stream",
          "text": [
            "Epoch 1/10\n",
            "279/279 [==============================] - 2s 6ms/step - loss: 0.3639 - acc: 0.8023 - val_loss: 0.0262 - val_acc: 0.9992\n",
            "Epoch 2/10\n",
            "279/279 [==============================] - 1s 5ms/step - loss: 0.0051 - acc: 0.9991 - val_loss: 0.0235 - val_acc: 0.9989\n",
            "Epoch 3/10\n",
            "279/279 [==============================] - 1s 5ms/step - loss: 0.0031 - acc: 0.9993 - val_loss: 0.0207 - val_acc: 0.9983\n",
            "Epoch 4/10\n",
            "279/279 [==============================] - 1s 5ms/step - loss: 0.0035 - acc: 0.9992 - val_loss: 0.0186 - val_acc: 0.9973\n",
            "Epoch 5/10\n",
            "279/279 [==============================] - 1s 5ms/step - loss: 0.0028 - acc: 0.9994 - val_loss: 0.0229 - val_acc: 0.9965\n",
            "Epoch 6/10\n",
            "279/279 [==============================] - 1s 5ms/step - loss: 0.0030 - acc: 0.9994 - val_loss: 0.0251 - val_acc: 0.9950\n",
            "Epoch 7/10\n",
            "279/279 [==============================] - 1s 5ms/step - loss: 0.0026 - acc: 0.9995 - val_loss: 0.0246 - val_acc: 0.9947\n",
            "Epoch 8/10\n",
            "279/279 [==============================] - 1s 5ms/step - loss: 0.0021 - acc: 0.9995 - val_loss: 0.0242 - val_acc: 0.9949\n",
            "Epoch 9/10\n",
            "279/279 [==============================] - 1s 5ms/step - loss: 0.0021 - acc: 0.9995 - val_loss: 0.0224 - val_acc: 0.9951\n",
            "Epoch 10/10\n",
            "279/279 [==============================] - 1s 5ms/step - loss: 0.0021 - acc: 0.9995 - val_loss: 0.0269 - val_acc: 0.9929\n",
            "CPU times: user 16 s, sys: 2.17 s, total: 18.2 s\n",
            "Wall time: 14.3 s\n"
          ],
          "name": "stdout"
        }
      ]
    },
    {
      "cell_type": "code",
      "metadata": {
        "colab": {
          "base_uri": "https://localhost:8080/",
          "height": 295
        },
        "id": "nmZW8vyPb62f",
        "outputId": "338d164b-363f-48d5-8b5f-fb3a2486efe9"
      },
      "source": [
        "history_dict = MODEL1.history\n",
        "acc_values = history_dict['acc']\n",
        "val_acc_values = history_dict['val_acc']\n",
        "epoches = np.arange(1,len(history_dict['acc'])+1)\n",
        "plt.plot(epoches,acc_values,'bo',label=\"Training Accuracy\")\n",
        "plt.plot(epoches,val_acc_values,'b',label=\"Validation Accuracy\")\n",
        "plt.title('Training and validation Accuracy')\n",
        "plt.xlabel(\"Epoches\")\n",
        "plt.ylabel(\"Accuracy\")\n",
        "plt.legend()\n",
        "plt.show()"
      ],
      "execution_count": 29,
      "outputs": [
        {
          "output_type": "display_data",
          "data": {
            "image/png": "[encoded data removed]",
            "text/plain": [
              "<Figure size 432x288 with 1 Axes>"
            ]
          },
          "metadata": {
            "tags": [],
            "needs_background": "light"
          }
        }
      ]
    },
    {
      "cell_type": "markdown",
      "metadata": {
        "id": "KW_po7htD_Tt"
      },
      "source": [
        "# **Evaluation Step**"
      ]
    },
    {
      "cell_type": "code",
      "metadata": {
        "colab": {
          "base_uri": "https://localhost:8080/"
        },
        "id": "NNixGItObakm",
        "outputId": "98216d60-a125-407d-be5c-86d7206a2763"
      },
      "source": [
        "test_loss , test_acc = network1.evaluate(test_data,test_labels)"
      ],
      "execution_count": 30,
      "outputs": [
        {
          "output_type": "stream",
          "text": [
            "2671/2671 [==============================] - 6s 2ms/step - loss: 0.0329 - acc: 0.9919\n"
          ],
          "name": "stdout"
        }
      ]
    },
    {
      "cell_type": "markdown",
      "metadata": {
        "id": "7bXsxUy_EHEW"
      },
      "source": [
        "# **Predict**"
      ]
    },
    {
      "cell_type": "code",
      "metadata": {
        "colab": {
          "base_uri": "https://localhost:8080/"
        },
        "id": "bPYCV-tSELoC",
        "outputId": "13f693b6-b9c3-4c91-b491-f3edb9af97d5"
      },
      "source": [
        "prediction_test_data = test_data\n",
        "predictions = network1.predict(prediction_test_data)\n",
        "hit = np.argmax(predictions) == np.array(test_labels)\n",
        "print(f\"{len(hit)} out of {len(predictions)} \")"
      ],
      "execution_count": 31,
      "outputs": [
        {
          "output_type": "stream",
          "text": [
            "85443 out of 85443 \n"
          ],
          "name": "stdout"
        }
      ]
    },
    {
      "cell_type": "code",
      "metadata": {
        "colab": {
          "base_uri": "https://localhost:8080/"
        },
        "id": "mbrZUqY5Gfrp",
        "outputId": "84ec8c21-eb79-4143-9944-24dfa9fb6e96"
      },
      "source": [
        "print(f\" Accuracy is upto {test_acc*100}%\")"
      ],
      "execution_count": 48,
      "outputs": [
        {
          "output_type": "stream",
          "text": [
            " Accuracy is upto 99.19010400772095%\n"
          ],
          "name": "stdout"
        }
      ]
    }
  ]
}