{
  "nbformat": 4,
  "nbformat_minor": 0,
  "metadata": {
    "accelerator": "TPU",
    "colab": {
      "name": "ConcreteStrenghtAssignment.ipynb",
      "provenance": [],
      "collapsed_sections": [],
      "toc_visible": true,
      "include_colab_link": true
    },
    "kernelspec": {
      "display_name": "Python 3",
      "language": "python",
      "name": "python3"
    },
    "language_info": {
      "codemirror_mode": {
        "name": "ipython",
        "version": 3
      },
      "file_extension": ".py",
      "mimetype": "text/x-python",
      "name": "python",
      "nbconvert_exporter": "python",
      "pygments_lexer": "ipython3",
      "version": "3.9.2"
    }
  },
  "cells": [
    {
      "cell_type": "markdown",
      "metadata": {
        "id": "view-in-github",
        "colab_type": "text"
      },
      "source": [
        "<a href=\"https://colab.research.google.com/github/wajeehatayyab/Deep-learning/blob/main/ConcreteStrenghtAssignment.ipynb\" target=\"_parent\"><img src=\"https://colab.research.google.com/assets/colab-badge.svg\" alt=\"Open In Colab\"/></a>"
      ]
    },
    {
      "cell_type": "markdown",
      "metadata": {
        "id": "CgPkafcBClHA"
      },
      "source": [
        "#Importing Libraries"
      ]
    },
    {
      "cell_type": "markdown",
      "metadata": {
        "id": "roZ4yQu5sp7e"
      },
      "source": [
        ""
      ]
    },
    {
      "cell_type": "markdown",
      "metadata": {
        "id": "uNVhWXjJWzjv"
      },
      "source": [
        "# Assignment: Compresive Strength Concrete Problem\n",
        "\n",
        "\n",
        "### Abstract: \n",
        "\n",
        "Concrete is the most important material in civil engineering. The concrete compressive strength (concrete strength to bear the load) is a highly nonlinear function of age and ingredients.  <br><br>\n",
        "\n",
        "<table border=\"1\"  cellpadding=\"6\" bordercolor=\"red\">\n",
        "\t<tbody>\n",
        "        <tr>\n",
        "\t\t<td bgcolor=\"#DDEEFF\"><p class=\"normal\"><b>Data Set Characteristics:&nbsp;&nbsp;</b></p></td>\n",
        "\t\t<td><p class=\"normal\">Multivariate</p></td>\n",
        "\t\t<td bgcolor=\"#DDEEFF\"><p class=\"normal\"><b>Number of Instances:</b></p></td>\n",
        "\t\t<td><p class=\"normal\">1030</p></td>\n",
        "\t\t<td bgcolor=\"#DDEEFF\"><p class=\"normal\"><b>Area:</b></p></td>\n",
        "\t\t<td><p class=\"normal\">Physical</p></td>\n",
        "        </tr>\n",
        "     </tbody>\n",
        "    </table>\n",
        "<table border=\"1\" cellpadding=\"6\">\n",
        "    <tbody>\n",
        "        <tr>\n",
        "            <td bgcolor=\"#DDEEFF\"><p class=\"normal\"><b>Attribute Characteristics:</b></p></td>\n",
        "            <td><p class=\"normal\">Real</p></td>\n",
        "            <td bgcolor=\"#DDEEFF\"><p class=\"normal\"><b>Number of Attributes:</b></p></td>\n",
        "            <td><p class=\"normal\">9</p></td>\n",
        "            <td bgcolor=\"#DDEEFF\"><p class=\"normal\"><b>Date Donated</b></p></td>\n",
        "            <td><p class=\"normal\">2007-08-03</p></td>\n",
        "        </tr>\n",
        "     </tbody>\n",
        "    </table>\n",
        "<table border=\"1\" cellpadding=\"6\">\t\n",
        "    <tbody>\n",
        "    <tr>\n",
        "\t\t<td bgcolor=\"#DDEEFF\"><p class=\"normal\"><b>Associated Tasks:</b></p></td>\n",
        "\t\t<td><p class=\"normal\">Regression</p></td>\n",
        "\t\t<td bgcolor=\"#DDEEFF\"><p class=\"normal\"><b>Missing Values?</b></p></td>\n",
        "\t\t<td><p class=\"normal\">N/A</p></td>\n",
        "\t\t<td bgcolor=\"#DDEEFF\"><p class=\"normal\"><b>Number of Web Hits:</b></p></td>\n",
        "\t\t<td><p class=\"normal\">231464</p></td>\n",
        "\t</tr>\n",
        "    </tbody>\n",
        "    </table>"
      ]
    },
    {
      "cell_type": "markdown",
      "metadata": {
        "id": "S0pxmTkuWzj7"
      },
      "source": [
        "###  Description:\n",
        "| Features Name | Data Type | Measurement | Description |\n",
        "| -- | -- | -- | -- |\n",
        "Cement (component 1) | quantitative | kg in a m3 mixture | Input Variable\n",
        "Blast Furnace Slag (component 2) | quantitative | kg in a m3 mixture | Input Variable\n",
        "Fly Ash (component 3) | quantitative | kg in a m3 mixture | Input Variable\n",
        "Water (component 4) | quantitative | kg in a m3 mixture | Input Variable\n",
        "Superplasticizer (component 5) | quantitative | kg in a m3 mixture | Input Variable\n",
        "Coarse Aggregate (component 6) | quantitative | kg in a m3 mixture | Input Variable\n",
        "Fine Aggregate (component 7) | quantitative | kg in a m3 mixture | Input Variable\n",
        "Age | quantitative | Day (1~365) | Input Variable\n",
        "Concrete compressive strength | quantitative | MPa | Output Variable\n",
        "\n",
        "### WORKFLOW :\n",
        "- Load Data\n",
        "- Check Missing Values ( If Exist ; Fill each record with mean of its feature )\n",
        "- Standardized the Input Variables. **Hint**: Centeralized the data\n",
        "- Split into 50% Training(Samples,Labels) , 30% Test(Samples,Labels) and 20% Validation Data(Samples,Labels).\n",
        "- Model : input Layer (No. of features ), 3 hidden layers including 10,8,6 unit & Output Layer with activation function relu/tanh (check by experiment).\n",
        "- Compilation Step (Note : Its a Regression problem , select loss , metrics according to it)\n",
        "- Train the Model with Epochs (100) and validate it\n",
        "- If the model gets overfit tune your model by changing the units , No. of layers , activation function , epochs , add dropout layer or add Regularizer according to the need .\n",
        "- Evaluation Step\n",
        "- Prediction\n"
      ]
    },
    {
      "cell_type": "markdown",
      "metadata": {
        "id": "FSf9yEBmYopW"
      },
      "source": [
        "**LOAD** **DATA**"
      ]
    },
    {
      "cell_type": "code",
      "metadata": {
        "id": "bVlonjMPYwPH",
        "colab": {
          "base_uri": "https://localhost:8080/"
        },
        "outputId": "b390df17-d327-4e42-f8e4-04f89c4a5c40"
      },
      "source": [
        "from google.colab import drive\n",
        "drive.mount('/content/drive')"
      ],
      "execution_count": 12,
      "outputs": [
        {
          "output_type": "stream",
          "text": [
            "Drive already mounted at /content/drive; to attempt to forcibly remount, call drive.mount(\"/content/drive\", force_remount=True).\n"
          ],
          "name": "stdout"
        }
      ]
    },
    {
      "cell_type": "code",
      "metadata": {
        "colab": {
          "base_uri": "https://localhost:8080/"
        },
        "id": "BYA_-aJ_uP1e",
        "outputId": "8ba4b905-21f5-4529-c3dc-69e44cb4c6bc"
      },
      "source": [
        "cd /content/drive/MyDrive/'Deeplearning_Assignment '/"
      ],
      "execution_count": 13,
      "outputs": [
        {
          "output_type": "stream",
          "text": [
            "/content/drive/MyDrive/Deeplearning_Assignment \n"
          ],
          "name": "stdout"
        }
      ]
    },
    {
      "cell_type": "code",
      "metadata": {
        "colab": {
          "base_uri": "https://localhost:8080/"
        },
        "id": "8a7_zCh0aRhv",
        "outputId": "a5b79e3b-71ad-4784-ce3f-842f568c244c"
      },
      "source": [
        "ls"
      ],
      "execution_count": 14,
      "outputs": [
        {
          "output_type": "stream",
          "text": [
            " CarPrice_Assignment.csv                 CreditCardFraudDetection.ipynb\n",
            " Car_Price_Prediction_assignmenl.ipynb   flowerclassification_final.ipynb\n",
            " compresive_strength_concrete.csv       'Ionosphere Assignment.ipynb'\n",
            " ConcreteStrenghtAssignment.ipynb        ionosphere_data.csv\n",
            " creditcard.csv\n"
          ],
          "name": "stdout"
        }
      ]
    },
    {
      "cell_type": "code",
      "metadata": {
        "id": "P222tjnxaUVo"
      },
      "source": [
        "import numpy as np\n",
        "import pandas as pd\n",
        "import matplotlib.pyplot as plt\n",
        "data = pd.read_csv('/content/drive/MyDrive/Deeplearning_Assignment /compresive_strength_concrete.csv')"
      ],
      "execution_count": 15,
      "outputs": []
    },
    {
      "cell_type": "code",
      "metadata": {
        "colab": {
          "base_uri": "https://localhost:8080/",
          "height": 470
        },
        "id": "tLbTtNIhapiL",
        "outputId": "3ecbb02d-145e-4246-c40a-087da90c2ddc"
      },
      "source": [
        "data"
      ],
      "execution_count": 16,
      "outputs": [
        {
          "output_type": "execute_result",
          "data": {
            "text/html": [
              "<div>\n",
              "<style scoped>\n",
              "    .dataframe tbody tr th:only-of-type {\n",
              "        vertical-align: middle;\n",
              "    }\n",
              "\n",
              "    .dataframe tbody tr th {\n",
              "        vertical-align: top;\n",
              "    }\n",
              "\n",
              "    .dataframe thead th {\n",
              "        text-align: right;\n",
              "    }\n",
              "</style>\n",
              "<table border=\"1\" class=\"dataframe\">\n",
              "  <thead>\n",
              "    <tr style=\"text-align: right;\">\n",
              "      <th></th>\n",
              "      <th>Cement (component 1)(kg in a m^3 mixture)</th>\n",
              "      <th>Blast Furnace Slag (component 2)(kg in a m^3 mixture)</th>\n",
              "      <th>Fly Ash (component 3)(kg in a m^3 mixture)</th>\n",
              "      <th>Water  (component 4)(kg in a m^3 mixture)</th>\n",
              "      <th>Superplasticizer (component 5)(kg in a m^3 mixture)</th>\n",
              "      <th>Coarse Aggregate  (component 6)(kg in a m^3 mixture)</th>\n",
              "      <th>Fine Aggregate (component 7)(kg in a m^3 mixture)</th>\n",
              "      <th>Age (day)</th>\n",
              "      <th>Concrete compressive strength(MPa, megapascals)</th>\n",
              "    </tr>\n",
              "  </thead>\n",
              "  <tbody>\n",
              "    <tr>\n",
              "      <th>0</th>\n",
              "      <td>540.0</td>\n",
              "      <td>0.0</td>\n",
              "      <td>0.0</td>\n",
              "      <td>162.0</td>\n",
              "      <td>2.5</td>\n",
              "      <td>1040.0</td>\n",
              "      <td>676.0</td>\n",
              "      <td>28</td>\n",
              "      <td>79.99</td>\n",
              "    </tr>\n",
              "    <tr>\n",
              "      <th>1</th>\n",
              "      <td>540.0</td>\n",
              "      <td>0.0</td>\n",
              "      <td>0.0</td>\n",
              "      <td>162.0</td>\n",
              "      <td>2.5</td>\n",
              "      <td>1055.0</td>\n",
              "      <td>676.0</td>\n",
              "      <td>28</td>\n",
              "      <td>61.89</td>\n",
              "    </tr>\n",
              "    <tr>\n",
              "      <th>2</th>\n",
              "      <td>332.5</td>\n",
              "      <td>142.5</td>\n",
              "      <td>0.0</td>\n",
              "      <td>228.0</td>\n",
              "      <td>0.0</td>\n",
              "      <td>932.0</td>\n",
              "      <td>594.0</td>\n",
              "      <td>270</td>\n",
              "      <td>40.27</td>\n",
              "    </tr>\n",
              "    <tr>\n",
              "      <th>3</th>\n",
              "      <td>332.5</td>\n",
              "      <td>142.5</td>\n",
              "      <td>0.0</td>\n",
              "      <td>228.0</td>\n",
              "      <td>0.0</td>\n",
              "      <td>932.0</td>\n",
              "      <td>594.0</td>\n",
              "      <td>365</td>\n",
              "      <td>41.05</td>\n",
              "    </tr>\n",
              "    <tr>\n",
              "      <th>4</th>\n",
              "      <td>198.6</td>\n",
              "      <td>132.4</td>\n",
              "      <td>0.0</td>\n",
              "      <td>192.0</td>\n",
              "      <td>0.0</td>\n",
              "      <td>978.4</td>\n",
              "      <td>825.5</td>\n",
              "      <td>360</td>\n",
              "      <td>44.30</td>\n",
              "    </tr>\n",
              "    <tr>\n",
              "      <th>...</th>\n",
              "      <td>...</td>\n",
              "      <td>...</td>\n",
              "      <td>...</td>\n",
              "      <td>...</td>\n",
              "      <td>...</td>\n",
              "      <td>...</td>\n",
              "      <td>...</td>\n",
              "      <td>...</td>\n",
              "      <td>...</td>\n",
              "    </tr>\n",
              "    <tr>\n",
              "      <th>1025</th>\n",
              "      <td>276.4</td>\n",
              "      <td>116.0</td>\n",
              "      <td>90.3</td>\n",
              "      <td>179.6</td>\n",
              "      <td>8.9</td>\n",
              "      <td>870.1</td>\n",
              "      <td>768.3</td>\n",
              "      <td>28</td>\n",
              "      <td>44.28</td>\n",
              "    </tr>\n",
              "    <tr>\n",
              "      <th>1026</th>\n",
              "      <td>322.2</td>\n",
              "      <td>0.0</td>\n",
              "      <td>115.6</td>\n",
              "      <td>196.0</td>\n",
              "      <td>10.4</td>\n",
              "      <td>817.9</td>\n",
              "      <td>813.4</td>\n",
              "      <td>28</td>\n",
              "      <td>31.18</td>\n",
              "    </tr>\n",
              "    <tr>\n",
              "      <th>1027</th>\n",
              "      <td>148.5</td>\n",
              "      <td>139.4</td>\n",
              "      <td>108.6</td>\n",
              "      <td>192.7</td>\n",
              "      <td>6.1</td>\n",
              "      <td>892.4</td>\n",
              "      <td>780.0</td>\n",
              "      <td>28</td>\n",
              "      <td>23.70</td>\n",
              "    </tr>\n",
              "    <tr>\n",
              "      <th>1028</th>\n",
              "      <td>159.1</td>\n",
              "      <td>186.7</td>\n",
              "      <td>0.0</td>\n",
              "      <td>175.6</td>\n",
              "      <td>11.3</td>\n",
              "      <td>989.6</td>\n",
              "      <td>788.9</td>\n",
              "      <td>28</td>\n",
              "      <td>32.77</td>\n",
              "    </tr>\n",
              "    <tr>\n",
              "      <th>1029</th>\n",
              "      <td>260.9</td>\n",
              "      <td>100.5</td>\n",
              "      <td>78.3</td>\n",
              "      <td>200.6</td>\n",
              "      <td>8.6</td>\n",
              "      <td>864.5</td>\n",
              "      <td>761.5</td>\n",
              "      <td>28</td>\n",
              "      <td>32.40</td>\n",
              "    </tr>\n",
              "  </tbody>\n",
              "</table>\n",
              "<p>1030 rows × 9 columns</p>\n",
              "</div>"
            ],
            "text/plain": [
              "      Cement (component 1)(kg in a m^3 mixture)  ...  Concrete compressive strength(MPa, megapascals) \n",
              "0                                         540.0  ...                                             79.99\n",
              "1                                         540.0  ...                                             61.89\n",
              "2                                         332.5  ...                                             40.27\n",
              "3                                         332.5  ...                                             41.05\n",
              "4                                         198.6  ...                                             44.30\n",
              "...                                         ...  ...                                               ...\n",
              "1025                                      276.4  ...                                             44.28\n",
              "1026                                      322.2  ...                                             31.18\n",
              "1027                                      148.5  ...                                             23.70\n",
              "1028                                      159.1  ...                                             32.77\n",
              "1029                                      260.9  ...                                             32.40\n",
              "\n",
              "[1030 rows x 9 columns]"
            ]
          },
          "metadata": {
            "tags": []
          },
          "execution_count": 16
        }
      ]
    },
    {
      "cell_type": "code",
      "metadata": {
        "colab": {
          "base_uri": "https://localhost:8080/",
          "height": 255
        },
        "id": "PthLXsOwasg8",
        "outputId": "644d16ab-c673-413a-ea12-dedd8f31e1f1"
      },
      "source": [
        "data.head()"
      ],
      "execution_count": 17,
      "outputs": [
        {
          "output_type": "execute_result",
          "data": {
            "text/html": [
              "<div>\n",
              "<style scoped>\n",
              "    .dataframe tbody tr th:only-of-type {\n",
              "        vertical-align: middle;\n",
              "    }\n",
              "\n",
              "    .dataframe tbody tr th {\n",
              "        vertical-align: top;\n",
              "    }\n",
              "\n",
              "    .dataframe thead th {\n",
              "        text-align: right;\n",
              "    }\n",
              "</style>\n",
              "<table border=\"1\" class=\"dataframe\">\n",
              "  <thead>\n",
              "    <tr style=\"text-align: right;\">\n",
              "      <th></th>\n",
              "      <th>Cement (component 1)(kg in a m^3 mixture)</th>\n",
              "      <th>Blast Furnace Slag (component 2)(kg in a m^3 mixture)</th>\n",
              "      <th>Fly Ash (component 3)(kg in a m^3 mixture)</th>\n",
              "      <th>Water  (component 4)(kg in a m^3 mixture)</th>\n",
              "      <th>Superplasticizer (component 5)(kg in a m^3 mixture)</th>\n",
              "      <th>Coarse Aggregate  (component 6)(kg in a m^3 mixture)</th>\n",
              "      <th>Fine Aggregate (component 7)(kg in a m^3 mixture)</th>\n",
              "      <th>Age (day)</th>\n",
              "      <th>Concrete compressive strength(MPa, megapascals)</th>\n",
              "    </tr>\n",
              "  </thead>\n",
              "  <tbody>\n",
              "    <tr>\n",
              "      <th>0</th>\n",
              "      <td>540.0</td>\n",
              "      <td>0.0</td>\n",
              "      <td>0.0</td>\n",
              "      <td>162.0</td>\n",
              "      <td>2.5</td>\n",
              "      <td>1040.0</td>\n",
              "      <td>676.0</td>\n",
              "      <td>28</td>\n",
              "      <td>79.99</td>\n",
              "    </tr>\n",
              "    <tr>\n",
              "      <th>1</th>\n",
              "      <td>540.0</td>\n",
              "      <td>0.0</td>\n",
              "      <td>0.0</td>\n",
              "      <td>162.0</td>\n",
              "      <td>2.5</td>\n",
              "      <td>1055.0</td>\n",
              "      <td>676.0</td>\n",
              "      <td>28</td>\n",
              "      <td>61.89</td>\n",
              "    </tr>\n",
              "    <tr>\n",
              "      <th>2</th>\n",
              "      <td>332.5</td>\n",
              "      <td>142.5</td>\n",
              "      <td>0.0</td>\n",
              "      <td>228.0</td>\n",
              "      <td>0.0</td>\n",
              "      <td>932.0</td>\n",
              "      <td>594.0</td>\n",
              "      <td>270</td>\n",
              "      <td>40.27</td>\n",
              "    </tr>\n",
              "    <tr>\n",
              "      <th>3</th>\n",
              "      <td>332.5</td>\n",
              "      <td>142.5</td>\n",
              "      <td>0.0</td>\n",
              "      <td>228.0</td>\n",
              "      <td>0.0</td>\n",
              "      <td>932.0</td>\n",
              "      <td>594.0</td>\n",
              "      <td>365</td>\n",
              "      <td>41.05</td>\n",
              "    </tr>\n",
              "    <tr>\n",
              "      <th>4</th>\n",
              "      <td>198.6</td>\n",
              "      <td>132.4</td>\n",
              "      <td>0.0</td>\n",
              "      <td>192.0</td>\n",
              "      <td>0.0</td>\n",
              "      <td>978.4</td>\n",
              "      <td>825.5</td>\n",
              "      <td>360</td>\n",
              "      <td>44.30</td>\n",
              "    </tr>\n",
              "  </tbody>\n",
              "</table>\n",
              "</div>"
            ],
            "text/plain": [
              "   Cement (component 1)(kg in a m^3 mixture)  ...  Concrete compressive strength(MPa, megapascals) \n",
              "0                                      540.0  ...                                             79.99\n",
              "1                                      540.0  ...                                             61.89\n",
              "2                                      332.5  ...                                             40.27\n",
              "3                                      332.5  ...                                             41.05\n",
              "4                                      198.6  ...                                             44.30\n",
              "\n",
              "[5 rows x 9 columns]"
            ]
          },
          "metadata": {
            "tags": []
          },
          "execution_count": 17
        }
      ]
    },
    {
      "cell_type": "code",
      "metadata": {
        "colab": {
          "base_uri": "https://localhost:8080/"
        },
        "id": "485CCzvQem36",
        "outputId": "6e118cfa-f84c-47d9-bd1a-b98f55a3d6af"
      },
      "source": [
        "print(data.shape)"
      ],
      "execution_count": 18,
      "outputs": [
        {
          "output_type": "stream",
          "text": [
            "(1030, 9)\n"
          ],
          "name": "stdout"
        }
      ]
    },
    {
      "cell_type": "code",
      "metadata": {
        "id": "UM_BZY2Ce05a",
        "colab": {
          "base_uri": "https://localhost:8080/"
        },
        "outputId": "2b986332-ff95-4ac3-9aa9-119523075c4d"
      },
      "source": [
        "print(data.columns)"
      ],
      "execution_count": 19,
      "outputs": [
        {
          "output_type": "stream",
          "text": [
            "Index(['Cement (component 1)(kg in a m^3 mixture)',\n",
            "       'Blast Furnace Slag (component 2)(kg in a m^3 mixture)',\n",
            "       'Fly Ash (component 3)(kg in a m^3 mixture)',\n",
            "       'Water  (component 4)(kg in a m^3 mixture)',\n",
            "       'Superplasticizer (component 5)(kg in a m^3 mixture)',\n",
            "       'Coarse Aggregate  (component 6)(kg in a m^3 mixture)',\n",
            "       'Fine Aggregate (component 7)(kg in a m^3 mixture)', 'Age (day)',\n",
            "       'Concrete compressive strength(MPa, megapascals) '],\n",
            "      dtype='object')\n"
          ],
          "name": "stdout"
        }
      ]
    },
    {
      "cell_type": "code",
      "metadata": {
        "id": "GwEsCaWvsnyD",
        "colab": {
          "base_uri": "https://localhost:8080/"
        },
        "outputId": "f4bafc26-38b2-4193-b44d-5ba901301a5a"
      },
      "source": [
        "data.isnull().sum()"
      ],
      "execution_count": 20,
      "outputs": [
        {
          "output_type": "execute_result",
          "data": {
            "text/plain": [
              "Cement (component 1)(kg in a m^3 mixture)                0\n",
              "Blast Furnace Slag (component 2)(kg in a m^3 mixture)    0\n",
              "Fly Ash (component 3)(kg in a m^3 mixture)               0\n",
              "Water  (component 4)(kg in a m^3 mixture)                0\n",
              "Superplasticizer (component 5)(kg in a m^3 mixture)      0\n",
              "Coarse Aggregate  (component 6)(kg in a m^3 mixture)     0\n",
              "Fine Aggregate (component 7)(kg in a m^3 mixture)        0\n",
              "Age (day)                                                0\n",
              "Concrete compressive strength(MPa, megapascals)          0\n",
              "dtype: int64"
            ]
          },
          "metadata": {
            "tags": []
          },
          "execution_count": 20
        }
      ]
    },
    {
      "cell_type": "code",
      "metadata": {
        "id": "mgAUSHztsnyE",
        "colab": {
          "base_uri": "https://localhost:8080/"
        },
        "outputId": "bc501a2e-72f5-4ecb-ea8d-1c4768dcd3e5"
      },
      "source": [
        "np.where(data.applymap(lambda x: x == ''))"
      ],
      "execution_count": 21,
      "outputs": [
        {
          "output_type": "execute_result",
          "data": {
            "text/plain": [
              "(array([], dtype=int64), array([], dtype=int64))"
            ]
          },
          "metadata": {
            "tags": []
          },
          "execution_count": 21
        }
      ]
    },
    {
      "cell_type": "code",
      "metadata": {
        "id": "ZGdBPxh-snyE"
      },
      "source": [
        ""
      ],
      "execution_count": 21,
      "outputs": []
    },
    {
      "cell_type": "code",
      "metadata": {
        "id": "WKgeVcC0snyE"
      },
      "source": [
        "X_train = data.sample(frac = 0.7, random_state = 123)\n",
        "X_test = data.drop(X_train.index)"
      ],
      "execution_count": 22,
      "outputs": []
    },
    {
      "cell_type": "code",
      "metadata": {
        "id": "wOKMCSl6snyF",
        "colab": {
          "base_uri": "https://localhost:8080/",
          "height": 255
        },
        "outputId": "60d7307c-f5c2-4290-920f-89adfc4a6da8"
      },
      "source": [
        "X_train.head()"
      ],
      "execution_count": 23,
      "outputs": [
        {
          "output_type": "execute_result",
          "data": {
            "text/html": [
              "<div>\n",
              "<style scoped>\n",
              "    .dataframe tbody tr th:only-of-type {\n",
              "        vertical-align: middle;\n",
              "    }\n",
              "\n",
              "    .dataframe tbody tr th {\n",
              "        vertical-align: top;\n",
              "    }\n",
              "\n",
              "    .dataframe thead th {\n",
              "        text-align: right;\n",
              "    }\n",
              "</style>\n",
              "<table border=\"1\" class=\"dataframe\">\n",
              "  <thead>\n",
              "    <tr style=\"text-align: right;\">\n",
              "      <th></th>\n",
              "      <th>Cement (component 1)(kg in a m^3 mixture)</th>\n",
              "      <th>Blast Furnace Slag (component 2)(kg in a m^3 mixture)</th>\n",
              "      <th>Fly Ash (component 3)(kg in a m^3 mixture)</th>\n",
              "      <th>Water  (component 4)(kg in a m^3 mixture)</th>\n",
              "      <th>Superplasticizer (component 5)(kg in a m^3 mixture)</th>\n",
              "      <th>Coarse Aggregate  (component 6)(kg in a m^3 mixture)</th>\n",
              "      <th>Fine Aggregate (component 7)(kg in a m^3 mixture)</th>\n",
              "      <th>Age (day)</th>\n",
              "      <th>Concrete compressive strength(MPa, megapascals)</th>\n",
              "    </tr>\n",
              "  </thead>\n",
              "  <tbody>\n",
              "    <tr>\n",
              "      <th>134</th>\n",
              "      <td>362.6</td>\n",
              "      <td>189.0</td>\n",
              "      <td>0.0</td>\n",
              "      <td>164.9</td>\n",
              "      <td>11.6</td>\n",
              "      <td>944.7</td>\n",
              "      <td>755.8</td>\n",
              "      <td>28</td>\n",
              "      <td>71.30</td>\n",
              "    </tr>\n",
              "    <tr>\n",
              "      <th>13</th>\n",
              "      <td>190.0</td>\n",
              "      <td>190.0</td>\n",
              "      <td>0.0</td>\n",
              "      <td>228.0</td>\n",
              "      <td>0.0</td>\n",
              "      <td>932.0</td>\n",
              "      <td>670.0</td>\n",
              "      <td>90</td>\n",
              "      <td>42.33</td>\n",
              "    </tr>\n",
              "    <tr>\n",
              "      <th>996</th>\n",
              "      <td>152.6</td>\n",
              "      <td>238.7</td>\n",
              "      <td>0.0</td>\n",
              "      <td>200.0</td>\n",
              "      <td>6.3</td>\n",
              "      <td>1001.8</td>\n",
              "      <td>683.9</td>\n",
              "      <td>28</td>\n",
              "      <td>26.86</td>\n",
              "    </tr>\n",
              "    <tr>\n",
              "      <th>770</th>\n",
              "      <td>349.0</td>\n",
              "      <td>0.0</td>\n",
              "      <td>0.0</td>\n",
              "      <td>192.0</td>\n",
              "      <td>0.0</td>\n",
              "      <td>1047.0</td>\n",
              "      <td>806.0</td>\n",
              "      <td>3</td>\n",
              "      <td>14.99</td>\n",
              "    </tr>\n",
              "    <tr>\n",
              "      <th>937</th>\n",
              "      <td>313.3</td>\n",
              "      <td>0.0</td>\n",
              "      <td>113.0</td>\n",
              "      <td>178.5</td>\n",
              "      <td>8.0</td>\n",
              "      <td>1001.9</td>\n",
              "      <td>688.7</td>\n",
              "      <td>28</td>\n",
              "      <td>36.80</td>\n",
              "    </tr>\n",
              "  </tbody>\n",
              "</table>\n",
              "</div>"
            ],
            "text/plain": [
              "     Cement (component 1)(kg in a m^3 mixture)  ...  Concrete compressive strength(MPa, megapascals) \n",
              "134                                      362.6  ...                                             71.30\n",
              "13                                       190.0  ...                                             42.33\n",
              "996                                      152.6  ...                                             26.86\n",
              "770                                      349.0  ...                                             14.99\n",
              "937                                      313.3  ...                                             36.80\n",
              "\n",
              "[5 rows x 9 columns]"
            ]
          },
          "metadata": {
            "tags": []
          },
          "execution_count": 23
        }
      ]
    },
    {
      "cell_type": "markdown",
      "metadata": {
        "id": "CcvbbUpmJFCi"
      },
      "source": [
        "#Assigning features and target variable"
      ]
    },
    {
      "cell_type": "code",
      "metadata": {
        "id": "OTv_VabYIj83"
      },
      "source": [
        "Y_train = X_train.iloc[:,-1]\n",
        "X_train = X_train.iloc[:,0:-1]\n",
        "Y_test = X_test.iloc[:,-1]\n",
        "X_test = X_test.iloc[:,0:-1]"
      ],
      "execution_count": 24,
      "outputs": []
    },
    {
      "cell_type": "code",
      "metadata": {
        "id": "KHF-Yeo2JTyg"
      },
      "source": [
        "X_mean = X_train.mean()\n",
        "X_train -= X_mean\n",
        "X_std = X_train.std()\n",
        "X_train /= X_std\n",
        "X_test -= X_mean\n",
        "X_test /= X_std"
      ],
      "execution_count": 25,
      "outputs": []
    },
    {
      "cell_type": "code",
      "metadata": {
        "id": "vLKY3o_-snyG"
      },
      "source": [
        "Y_mean = Y_train.mean()\n",
        "Y_train -= Y_mean\n",
        "Y_std = Y_train.std()\n",
        "Y_train /= Y_std\n",
        "Y_test -= Y_mean\n",
        "Y_test /= Y_std"
      ],
      "execution_count": 26,
      "outputs": []
    },
    {
      "cell_type": "code",
      "metadata": {
        "id": "bRNkQkgZsnyH",
        "colab": {
          "base_uri": "https://localhost:8080/"
        },
        "outputId": "bd82841a-dd8a-4a5b-be71-bafd16340155"
      },
      "source": [
        "X_train.dtypes"
      ],
      "execution_count": 27,
      "outputs": [
        {
          "output_type": "execute_result",
          "data": {
            "text/plain": [
              "Cement (component 1)(kg in a m^3 mixture)                float64\n",
              "Blast Furnace Slag (component 2)(kg in a m^3 mixture)    float64\n",
              "Fly Ash (component 3)(kg in a m^3 mixture)               float64\n",
              "Water  (component 4)(kg in a m^3 mixture)                float64\n",
              "Superplasticizer (component 5)(kg in a m^3 mixture)      float64\n",
              "Coarse Aggregate  (component 6)(kg in a m^3 mixture)     float64\n",
              "Fine Aggregate (component 7)(kg in a m^3 mixture)        float64\n",
              "Age (day)                                                float64\n",
              "dtype: object"
            ]
          },
          "metadata": {
            "tags": []
          },
          "execution_count": 27
        }
      ]
    },
    {
      "cell_type": "code",
      "metadata": {
        "id": "BUdo3hN3snyH"
      },
      "source": [
        "X_train = X_train.to_numpy()\n",
        "Y_train = Y_train.to_numpy()\n",
        "X_test = X_test.to_numpy()\n",
        "Y_test = Y_test.to_numpy()\n"
      ],
      "execution_count": 28,
      "outputs": []
    },
    {
      "cell_type": "markdown",
      "metadata": {
        "id": "Lj_iCk5vL5E7"
      },
      "source": [
        "#Training and testing data splittion"
      ]
    },
    {
      "cell_type": "markdown",
      "metadata": {
        "id": "_LMH3tMeMbXN"
      },
      "source": [
        "#Model selection"
      ]
    },
    {
      "cell_type": "code",
      "metadata": {
        "id": "N71E3GgCMTCO"
      },
      "source": [
        "from tensorflow.keras import layers as L\n",
        "from tensorflow.keras import models as M"
      ],
      "execution_count": 29,
      "outputs": []
    },
    {
      "cell_type": "code",
      "metadata": {
        "id": "PZIj7pgIMhcg"
      },
      "source": [
        "network = M.Sequential()"
      ],
      "execution_count": 30,
      "outputs": []
    },
    {
      "cell_type": "code",
      "metadata": {
        "id": "jcIypzdFMrDX"
      },
      "source": [
        "network.add(L.Dense(128,activation=\"relu\",input_shape=(X_train.shape[1],)))"
      ],
      "execution_count": 31,
      "outputs": []
    },
    {
      "cell_type": "code",
      "metadata": {
        "id": "gl8qko4FM3j4"
      },
      "source": [
        "network.add(L.Dense(64,activation=\"relu\"))"
      ],
      "execution_count": 32,
      "outputs": []
    },
    {
      "cell_type": "code",
      "metadata": {
        "id": "LQ2VEXd9M8Uw"
      },
      "source": [
        "network.add(L.Dense(32,activation=\"relu\"))"
      ],
      "execution_count": 33,
      "outputs": []
    },
    {
      "cell_type": "code",
      "metadata": {
        "id": "yWUmN_KvNCno"
      },
      "source": [
        "network.add(L.Dense(1))"
      ],
      "execution_count": 34,
      "outputs": []
    },
    {
      "cell_type": "code",
      "metadata": {
        "id": "zSyeoyk0Nsa2"
      },
      "source": [
        "network.compile(optimizer=\"rmsprop\",loss=[\"mse\"],metrics=[\"mae\"])"
      ],
      "execution_count": 35,
      "outputs": []
    },
    {
      "cell_type": "code",
      "metadata": {
        "colab": {
          "base_uri": "https://localhost:8080/"
        },
        "id": "E8cCCFviOKuF",
        "outputId": "d94c2638-d6e8-4842-8214-dba04cea1570"
      },
      "source": [
        "history = network.fit(X_train,Y_train,epochs=200,validation_split=0.3, batch_size = 16)"
      ],
      "execution_count": 36,
      "outputs": [
        {
          "output_type": "stream",
          "text": [
            "Epoch 1/200\n",
            "32/32 [==============================] - 1s 16ms/step - loss: 0.7514 - mae: 0.6714 - val_loss: 0.4127 - val_mae: 0.5076\n",
            "Epoch 2/200\n",
            "32/32 [==============================] - 0s 3ms/step - loss: 0.3187 - mae: 0.4480 - val_loss: 0.3476 - val_mae: 0.4559\n",
            "Epoch 3/200\n",
            "32/32 [==============================] - 0s 4ms/step - loss: 0.2453 - mae: 0.3744 - val_loss: 0.2744 - val_mae: 0.3889\n",
            "Epoch 4/200\n",
            "32/32 [==============================] - 0s 3ms/step - loss: 0.1904 - mae: 0.3374 - val_loss: 0.2631 - val_mae: 0.3881\n",
            "Epoch 5/200\n",
            "32/32 [==============================] - 0s 4ms/step - loss: 0.1573 - mae: 0.3042 - val_loss: 0.2497 - val_mae: 0.3788\n",
            "Epoch 6/200\n",
            "32/32 [==============================] - 0s 3ms/step - loss: 0.1406 - mae: 0.2902 - val_loss: 0.2741 - val_mae: 0.3956\n",
            "Epoch 7/200\n",
            "32/32 [==============================] - 0s 3ms/step - loss: 0.1540 - mae: 0.2964 - val_loss: 0.2384 - val_mae: 0.3721\n",
            "Epoch 8/200\n",
            "32/32 [==============================] - 0s 3ms/step - loss: 0.1239 - mae: 0.2703 - val_loss: 0.2258 - val_mae: 0.3431\n",
            "Epoch 9/200\n",
            "32/32 [==============================] - 0s 3ms/step - loss: 0.1194 - mae: 0.2691 - val_loss: 0.2018 - val_mae: 0.3285\n",
            "Epoch 10/200\n",
            "32/32 [==============================] - 0s 3ms/step - loss: 0.0958 - mae: 0.2415 - val_loss: 0.2099 - val_mae: 0.3457\n",
            "Epoch 11/200\n",
            "32/32 [==============================] - 0s 3ms/step - loss: 0.1002 - mae: 0.2422 - val_loss: 0.2311 - val_mae: 0.3584\n",
            "Epoch 12/200\n",
            "32/32 [==============================] - 0s 3ms/step - loss: 0.1014 - mae: 0.2380 - val_loss: 0.1971 - val_mae: 0.3399\n",
            "Epoch 13/200\n",
            "32/32 [==============================] - 0s 3ms/step - loss: 0.0894 - mae: 0.2304 - val_loss: 0.1928 - val_mae: 0.3428\n",
            "Epoch 14/200\n",
            "32/32 [==============================] - 0s 3ms/step - loss: 0.0864 - mae: 0.2256 - val_loss: 0.2120 - val_mae: 0.3479\n",
            "Epoch 15/200\n",
            "32/32 [==============================] - 0s 3ms/step - loss: 0.0710 - mae: 0.2108 - val_loss: 0.1993 - val_mae: 0.3432\n",
            "Epoch 16/200\n",
            "32/32 [==============================] - 0s 3ms/step - loss: 0.0770 - mae: 0.2167 - val_loss: 0.1682 - val_mae: 0.3032\n",
            "Epoch 17/200\n",
            "32/32 [==============================] - 0s 3ms/step - loss: 0.0715 - mae: 0.2016 - val_loss: 0.1639 - val_mae: 0.3175\n",
            "Epoch 18/200\n",
            "32/32 [==============================] - 0s 3ms/step - loss: 0.0800 - mae: 0.2132 - val_loss: 0.1759 - val_mae: 0.3244\n",
            "Epoch 19/200\n",
            "32/32 [==============================] - 0s 3ms/step - loss: 0.0704 - mae: 0.2060 - val_loss: 0.2437 - val_mae: 0.3856\n",
            "Epoch 20/200\n",
            "32/32 [==============================] - 0s 3ms/step - loss: 0.0885 - mae: 0.2176 - val_loss: 0.2340 - val_mae: 0.3807\n",
            "Epoch 21/200\n",
            "32/32 [==============================] - 0s 4ms/step - loss: 0.0662 - mae: 0.1988 - val_loss: 0.1568 - val_mae: 0.3018\n",
            "Epoch 22/200\n",
            "32/32 [==============================] - 0s 3ms/step - loss: 0.0645 - mae: 0.1874 - val_loss: 0.1938 - val_mae: 0.3524\n",
            "Epoch 23/200\n",
            "32/32 [==============================] - 0s 3ms/step - loss: 0.0641 - mae: 0.1919 - val_loss: 0.1519 - val_mae: 0.3013\n",
            "Epoch 24/200\n",
            "32/32 [==============================] - 0s 3ms/step - loss: 0.0630 - mae: 0.1939 - val_loss: 0.1399 - val_mae: 0.2903\n",
            "Epoch 25/200\n",
            "32/32 [==============================] - 0s 3ms/step - loss: 0.0470 - mae: 0.1683 - val_loss: 0.1702 - val_mae: 0.3282\n",
            "Epoch 26/200\n",
            "32/32 [==============================] - 0s 3ms/step - loss: 0.0579 - mae: 0.1854 - val_loss: 0.1388 - val_mae: 0.2823\n",
            "Epoch 27/200\n",
            "32/32 [==============================] - 0s 3ms/step - loss: 0.0531 - mae: 0.1757 - val_loss: 0.1398 - val_mae: 0.2839\n",
            "Epoch 28/200\n",
            "32/32 [==============================] - 0s 3ms/step - loss: 0.0603 - mae: 0.1941 - val_loss: 0.1545 - val_mae: 0.3030\n",
            "Epoch 29/200\n",
            "32/32 [==============================] - 0s 3ms/step - loss: 0.0475 - mae: 0.1605 - val_loss: 0.1387 - val_mae: 0.2780\n",
            "Epoch 30/200\n",
            "32/32 [==============================] - 0s 3ms/step - loss: 0.0432 - mae: 0.1601 - val_loss: 0.1542 - val_mae: 0.2972\n",
            "Epoch 31/200\n",
            "32/32 [==============================] - 0s 3ms/step - loss: 0.0509 - mae: 0.1760 - val_loss: 0.1936 - val_mae: 0.3351\n",
            "Epoch 32/200\n",
            "32/32 [==============================] - 0s 3ms/step - loss: 0.0550 - mae: 0.1751 - val_loss: 0.1624 - val_mae: 0.3037\n",
            "Epoch 33/200\n",
            "32/32 [==============================] - 0s 4ms/step - loss: 0.0499 - mae: 0.1637 - val_loss: 0.1504 - val_mae: 0.2941\n",
            "Epoch 34/200\n",
            "32/32 [==============================] - 0s 3ms/step - loss: 0.0513 - mae: 0.1654 - val_loss: 0.1444 - val_mae: 0.2906\n",
            "Epoch 35/200\n",
            "32/32 [==============================] - 0s 3ms/step - loss: 0.0458 - mae: 0.1554 - val_loss: 0.1458 - val_mae: 0.2846\n",
            "Epoch 36/200\n",
            "32/32 [==============================] - 0s 3ms/step - loss: 0.0405 - mae: 0.1536 - val_loss: 0.2214 - val_mae: 0.3625\n",
            "Epoch 37/200\n",
            "32/32 [==============================] - 0s 3ms/step - loss: 0.0531 - mae: 0.1734 - val_loss: 0.1316 - val_mae: 0.2761\n",
            "Epoch 38/200\n",
            "32/32 [==============================] - 0s 3ms/step - loss: 0.0395 - mae: 0.1506 - val_loss: 0.1366 - val_mae: 0.2749\n",
            "Epoch 39/200\n",
            "32/32 [==============================] - 0s 4ms/step - loss: 0.0467 - mae: 0.1629 - val_loss: 0.1471 - val_mae: 0.2815\n",
            "Epoch 40/200\n",
            "32/32 [==============================] - 0s 3ms/step - loss: 0.0402 - mae: 0.1466 - val_loss: 0.1428 - val_mae: 0.2956\n",
            "Epoch 41/200\n",
            "32/32 [==============================] - 0s 3ms/step - loss: 0.0471 - mae: 0.1619 - val_loss: 0.1330 - val_mae: 0.2760\n",
            "Epoch 42/200\n",
            "32/32 [==============================] - 0s 3ms/step - loss: 0.0388 - mae: 0.1471 - val_loss: 0.1331 - val_mae: 0.2645\n",
            "Epoch 43/200\n",
            "32/32 [==============================] - 0s 3ms/step - loss: 0.0420 - mae: 0.1550 - val_loss: 0.1566 - val_mae: 0.2936\n",
            "Epoch 44/200\n",
            "32/32 [==============================] - 0s 3ms/step - loss: 0.0425 - mae: 0.1501 - val_loss: 0.1297 - val_mae: 0.2615\n",
            "Epoch 45/200\n",
            "32/32 [==============================] - 0s 4ms/step - loss: 0.0493 - mae: 0.1636 - val_loss: 0.1680 - val_mae: 0.3067\n",
            "Epoch 46/200\n",
            "32/32 [==============================] - 0s 4ms/step - loss: 0.0415 - mae: 0.1549 - val_loss: 0.1368 - val_mae: 0.2795\n",
            "Epoch 47/200\n",
            "32/32 [==============================] - 0s 3ms/step - loss: 0.0437 - mae: 0.1468 - val_loss: 0.1267 - val_mae: 0.2673\n",
            "Epoch 48/200\n",
            "32/32 [==============================] - 0s 3ms/step - loss: 0.0430 - mae: 0.1507 - val_loss: 0.1407 - val_mae: 0.2833\n",
            "Epoch 49/200\n",
            "32/32 [==============================] - 0s 3ms/step - loss: 0.0370 - mae: 0.1376 - val_loss: 0.1354 - val_mae: 0.2816\n",
            "Epoch 50/200\n",
            "32/32 [==============================] - 0s 3ms/step - loss: 0.0466 - mae: 0.1511 - val_loss: 0.1346 - val_mae: 0.2719\n",
            "Epoch 51/200\n",
            "32/32 [==============================] - 0s 3ms/step - loss: 0.0346 - mae: 0.1336 - val_loss: 0.1368 - val_mae: 0.2798\n",
            "Epoch 52/200\n",
            "32/32 [==============================] - 0s 4ms/step - loss: 0.0370 - mae: 0.1439 - val_loss: 0.1695 - val_mae: 0.3089\n",
            "Epoch 53/200\n",
            "32/32 [==============================] - 0s 4ms/step - loss: 0.0496 - mae: 0.1537 - val_loss: 0.1402 - val_mae: 0.2780\n",
            "Epoch 54/200\n",
            "32/32 [==============================] - 0s 4ms/step - loss: 0.0324 - mae: 0.1325 - val_loss: 0.1335 - val_mae: 0.2716\n",
            "Epoch 55/200\n",
            "32/32 [==============================] - 0s 3ms/step - loss: 0.0399 - mae: 0.1444 - val_loss: 0.1904 - val_mae: 0.3217\n",
            "Epoch 56/200\n",
            "32/32 [==============================] - 0s 3ms/step - loss: 0.0495 - mae: 0.1538 - val_loss: 0.1276 - val_mae: 0.2649\n",
            "Epoch 57/200\n",
            "32/32 [==============================] - 0s 3ms/step - loss: 0.0355 - mae: 0.1358 - val_loss: 0.1224 - val_mae: 0.2567\n",
            "Epoch 58/200\n",
            "32/32 [==============================] - 0s 4ms/step - loss: 0.0368 - mae: 0.1392 - val_loss: 0.1243 - val_mae: 0.2578\n",
            "Epoch 59/200\n",
            "32/32 [==============================] - 0s 4ms/step - loss: 0.0403 - mae: 0.1383 - val_loss: 0.1334 - val_mae: 0.2782\n",
            "Epoch 60/200\n",
            "32/32 [==============================] - 0s 3ms/step - loss: 0.0332 - mae: 0.1352 - val_loss: 0.1444 - val_mae: 0.2852\n",
            "Epoch 61/200\n",
            "32/32 [==============================] - 0s 3ms/step - loss: 0.0413 - mae: 0.1442 - val_loss: 0.1300 - val_mae: 0.2684\n",
            "Epoch 62/200\n",
            "32/32 [==============================] - 0s 3ms/step - loss: 0.0416 - mae: 0.1380 - val_loss: 0.1195 - val_mae: 0.2591\n",
            "Epoch 63/200\n",
            "32/32 [==============================] - 0s 3ms/step - loss: 0.0352 - mae: 0.1367 - val_loss: 0.1205 - val_mae: 0.2513\n",
            "Epoch 64/200\n",
            "32/32 [==============================] - 0s 3ms/step - loss: 0.0337 - mae: 0.1323 - val_loss: 0.1409 - val_mae: 0.2843\n",
            "Epoch 65/200\n",
            "32/32 [==============================] - 0s 3ms/step - loss: 0.0380 - mae: 0.1418 - val_loss: 0.1277 - val_mae: 0.2704\n",
            "Epoch 66/200\n",
            "32/32 [==============================] - 0s 3ms/step - loss: 0.0374 - mae: 0.1385 - val_loss: 0.1203 - val_mae: 0.2576\n",
            "Epoch 67/200\n",
            "32/32 [==============================] - 0s 3ms/step - loss: 0.0399 - mae: 0.1454 - val_loss: 0.1169 - val_mae: 0.2591\n",
            "Epoch 68/200\n",
            "32/32 [==============================] - 0s 3ms/step - loss: 0.0313 - mae: 0.1298 - val_loss: 0.1276 - val_mae: 0.2731\n",
            "Epoch 69/200\n",
            "32/32 [==============================] - 0s 3ms/step - loss: 0.0370 - mae: 0.1308 - val_loss: 0.1308 - val_mae: 0.2636\n",
            "Epoch 70/200\n",
            "32/32 [==============================] - 0s 3ms/step - loss: 0.0307 - mae: 0.1279 - val_loss: 0.1410 - val_mae: 0.2814\n",
            "Epoch 71/200\n",
            "32/32 [==============================] - 0s 3ms/step - loss: 0.0328 - mae: 0.1258 - val_loss: 0.1356 - val_mae: 0.2730\n",
            "Epoch 72/200\n",
            "32/32 [==============================] - 0s 3ms/step - loss: 0.0365 - mae: 0.1412 - val_loss: 0.1325 - val_mae: 0.2760\n",
            "Epoch 73/200\n",
            "32/32 [==============================] - 0s 3ms/step - loss: 0.0289 - mae: 0.1204 - val_loss: 0.1185 - val_mae: 0.2579\n",
            "Epoch 74/200\n",
            "32/32 [==============================] - 0s 3ms/step - loss: 0.0315 - mae: 0.1302 - val_loss: 0.1267 - val_mae: 0.2614\n",
            "Epoch 75/200\n",
            "32/32 [==============================] - 0s 4ms/step - loss: 0.0272 - mae: 0.1248 - val_loss: 0.1290 - val_mae: 0.2723\n",
            "Epoch 76/200\n",
            "32/32 [==============================] - 0s 3ms/step - loss: 0.0339 - mae: 0.1327 - val_loss: 0.1195 - val_mae: 0.2574\n",
            "Epoch 77/200\n",
            "32/32 [==============================] - 0s 3ms/step - loss: 0.0336 - mae: 0.1297 - val_loss: 0.1266 - val_mae: 0.2659\n",
            "Epoch 78/200\n",
            "32/32 [==============================] - 0s 3ms/step - loss: 0.0333 - mae: 0.1262 - val_loss: 0.1238 - val_mae: 0.2563\n",
            "Epoch 79/200\n",
            "32/32 [==============================] - 0s 3ms/step - loss: 0.0332 - mae: 0.1275 - val_loss: 0.1202 - val_mae: 0.2539\n",
            "Epoch 80/200\n",
            "32/32 [==============================] - 0s 3ms/step - loss: 0.0426 - mae: 0.1359 - val_loss: 0.1243 - val_mae: 0.2676\n",
            "Epoch 81/200\n",
            "32/32 [==============================] - 0s 3ms/step - loss: 0.0248 - mae: 0.1191 - val_loss: 0.1330 - val_mae: 0.2681\n",
            "Epoch 82/200\n",
            "32/32 [==============================] - 0s 3ms/step - loss: 0.0426 - mae: 0.1372 - val_loss: 0.1301 - val_mae: 0.2799\n",
            "Epoch 83/200\n",
            "32/32 [==============================] - 0s 3ms/step - loss: 0.0328 - mae: 0.1293 - val_loss: 0.1163 - val_mae: 0.2517\n",
            "Epoch 84/200\n",
            "32/32 [==============================] - 0s 3ms/step - loss: 0.0319 - mae: 0.1254 - val_loss: 0.1187 - val_mae: 0.2474\n",
            "Epoch 85/200\n",
            "32/32 [==============================] - 0s 3ms/step - loss: 0.0290 - mae: 0.1110 - val_loss: 0.1260 - val_mae: 0.2636\n",
            "Epoch 86/200\n",
            "32/32 [==============================] - 0s 3ms/step - loss: 0.0292 - mae: 0.1226 - val_loss: 0.1173 - val_mae: 0.2551\n",
            "Epoch 87/200\n",
            "32/32 [==============================] - 0s 3ms/step - loss: 0.0270 - mae: 0.1190 - val_loss: 0.1210 - val_mae: 0.2529\n",
            "Epoch 88/200\n",
            "32/32 [==============================] - 0s 3ms/step - loss: 0.0334 - mae: 0.1253 - val_loss: 0.1280 - val_mae: 0.2622\n",
            "Epoch 89/200\n",
            "32/32 [==============================] - 0s 3ms/step - loss: 0.0301 - mae: 0.1287 - val_loss: 0.1415 - val_mae: 0.2759\n",
            "Epoch 90/200\n",
            "32/32 [==============================] - 0s 3ms/step - loss: 0.0282 - mae: 0.1211 - val_loss: 0.1427 - val_mae: 0.2793\n",
            "Epoch 91/200\n",
            "32/32 [==============================] - 0s 3ms/step - loss: 0.0278 - mae: 0.1186 - val_loss: 0.1264 - val_mae: 0.2606\n",
            "Epoch 92/200\n",
            "32/32 [==============================] - 0s 3ms/step - loss: 0.0251 - mae: 0.1119 - val_loss: 0.1138 - val_mae: 0.2489\n",
            "Epoch 93/200\n",
            "32/32 [==============================] - 0s 3ms/step - loss: 0.0286 - mae: 0.1143 - val_loss: 0.1222 - val_mae: 0.2636\n",
            "Epoch 94/200\n",
            "32/32 [==============================] - 0s 3ms/step - loss: 0.0264 - mae: 0.1165 - val_loss: 0.1199 - val_mae: 0.2580\n",
            "Epoch 95/200\n",
            "32/32 [==============================] - 0s 3ms/step - loss: 0.0266 - mae: 0.1184 - val_loss: 0.1347 - val_mae: 0.2760\n",
            "Epoch 96/200\n",
            "32/32 [==============================] - 0s 3ms/step - loss: 0.0274 - mae: 0.1213 - val_loss: 0.1211 - val_mae: 0.2544\n",
            "Epoch 97/200\n",
            "32/32 [==============================] - 0s 3ms/step - loss: 0.0311 - mae: 0.1244 - val_loss: 0.1220 - val_mae: 0.2543\n",
            "Epoch 98/200\n",
            "32/32 [==============================] - 0s 3ms/step - loss: 0.0253 - mae: 0.1117 - val_loss: 0.1214 - val_mae: 0.2583\n",
            "Epoch 99/200\n",
            "32/32 [==============================] - 0s 3ms/step - loss: 0.0250 - mae: 0.1076 - val_loss: 0.1169 - val_mae: 0.2510\n",
            "Epoch 100/200\n",
            "32/32 [==============================] - 0s 3ms/step - loss: 0.0241 - mae: 0.1049 - val_loss: 0.1153 - val_mae: 0.2531\n",
            "Epoch 101/200\n",
            "32/32 [==============================] - 0s 3ms/step - loss: 0.0254 - mae: 0.1052 - val_loss: 0.1364 - val_mae: 0.2801\n",
            "Epoch 102/200\n",
            "32/32 [==============================] - 0s 3ms/step - loss: 0.0271 - mae: 0.1175 - val_loss: 0.1123 - val_mae: 0.2448\n",
            "Epoch 103/200\n",
            "32/32 [==============================] - 0s 4ms/step - loss: 0.0268 - mae: 0.1130 - val_loss: 0.1241 - val_mae: 0.2575\n",
            "Epoch 104/200\n",
            "32/32 [==============================] - 0s 3ms/step - loss: 0.0228 - mae: 0.1064 - val_loss: 0.1342 - val_mae: 0.2761\n",
            "Epoch 105/200\n",
            "32/32 [==============================] - 0s 3ms/step - loss: 0.0239 - mae: 0.1112 - val_loss: 0.1303 - val_mae: 0.2625\n",
            "Epoch 106/200\n",
            "32/32 [==============================] - 0s 3ms/step - loss: 0.0307 - mae: 0.1162 - val_loss: 0.1188 - val_mae: 0.2477\n",
            "Epoch 107/200\n",
            "32/32 [==============================] - 0s 3ms/step - loss: 0.0251 - mae: 0.1138 - val_loss: 0.1180 - val_mae: 0.2559\n",
            "Epoch 108/200\n",
            "32/32 [==============================] - 0s 3ms/step - loss: 0.0261 - mae: 0.1109 - val_loss: 0.1150 - val_mae: 0.2504\n",
            "Epoch 109/200\n",
            "32/32 [==============================] - 0s 3ms/step - loss: 0.0174 - mae: 0.0923 - val_loss: 0.1215 - val_mae: 0.2538\n",
            "Epoch 110/200\n",
            "32/32 [==============================] - 0s 3ms/step - loss: 0.0258 - mae: 0.1084 - val_loss: 0.1281 - val_mae: 0.2613\n",
            "Epoch 111/200\n",
            "32/32 [==============================] - 0s 3ms/step - loss: 0.0275 - mae: 0.1171 - val_loss: 0.1277 - val_mae: 0.2647\n",
            "Epoch 112/200\n",
            "32/32 [==============================] - 0s 3ms/step - loss: 0.0292 - mae: 0.1188 - val_loss: 0.1267 - val_mae: 0.2620\n",
            "Epoch 113/200\n",
            "32/32 [==============================] - 0s 4ms/step - loss: 0.0279 - mae: 0.1131 - val_loss: 0.1234 - val_mae: 0.2678\n",
            "Epoch 114/200\n",
            "32/32 [==============================] - 0s 3ms/step - loss: 0.0262 - mae: 0.1143 - val_loss: 0.1177 - val_mae: 0.2538\n",
            "Epoch 115/200\n",
            "32/32 [==============================] - 0s 3ms/step - loss: 0.0224 - mae: 0.1015 - val_loss: 0.1134 - val_mae: 0.2429\n",
            "Epoch 116/200\n",
            "32/32 [==============================] - 0s 3ms/step - loss: 0.0245 - mae: 0.1107 - val_loss: 0.1137 - val_mae: 0.2416\n",
            "Epoch 117/200\n",
            "32/32 [==============================] - 0s 3ms/step - loss: 0.0279 - mae: 0.1208 - val_loss: 0.1218 - val_mae: 0.2510\n",
            "Epoch 118/200\n",
            "32/32 [==============================] - 0s 3ms/step - loss: 0.0230 - mae: 0.1024 - val_loss: 0.1228 - val_mae: 0.2542\n",
            "Epoch 119/200\n",
            "32/32 [==============================] - 0s 3ms/step - loss: 0.0229 - mae: 0.1060 - val_loss: 0.1142 - val_mae: 0.2483\n",
            "Epoch 120/200\n",
            "32/32 [==============================] - 0s 3ms/step - loss: 0.0238 - mae: 0.1085 - val_loss: 0.1287 - val_mae: 0.2647\n",
            "Epoch 121/200\n",
            "32/32 [==============================] - 0s 4ms/step - loss: 0.0196 - mae: 0.0981 - val_loss: 0.1161 - val_mae: 0.2476\n",
            "Epoch 122/200\n",
            "32/32 [==============================] - 0s 4ms/step - loss: 0.0193 - mae: 0.1019 - val_loss: 0.1200 - val_mae: 0.2519\n",
            "Epoch 123/200\n",
            "32/32 [==============================] - 0s 3ms/step - loss: 0.0307 - mae: 0.1218 - val_loss: 0.1117 - val_mae: 0.2386\n",
            "Epoch 124/200\n",
            "32/32 [==============================] - 0s 3ms/step - loss: 0.0224 - mae: 0.1058 - val_loss: 0.1138 - val_mae: 0.2488\n",
            "Epoch 125/200\n",
            "32/32 [==============================] - 0s 3ms/step - loss: 0.0247 - mae: 0.1103 - val_loss: 0.1144 - val_mae: 0.2438\n",
            "Epoch 126/200\n",
            "32/32 [==============================] - 0s 3ms/step - loss: 0.0217 - mae: 0.1060 - val_loss: 0.1143 - val_mae: 0.2426\n",
            "Epoch 127/200\n",
            "32/32 [==============================] - 0s 3ms/step - loss: 0.0234 - mae: 0.1079 - val_loss: 0.1234 - val_mae: 0.2500\n",
            "Epoch 128/200\n",
            "32/32 [==============================] - 0s 3ms/step - loss: 0.0201 - mae: 0.0964 - val_loss: 0.1059 - val_mae: 0.2360\n",
            "Epoch 129/200\n",
            "32/32 [==============================] - 0s 3ms/step - loss: 0.0205 - mae: 0.0973 - val_loss: 0.1106 - val_mae: 0.2436\n",
            "Epoch 130/200\n",
            "32/32 [==============================] - 0s 4ms/step - loss: 0.0326 - mae: 0.1167 - val_loss: 0.1091 - val_mae: 0.2395\n",
            "Epoch 131/200\n",
            "32/32 [==============================] - 0s 3ms/step - loss: 0.0343 - mae: 0.1178 - val_loss: 0.1139 - val_mae: 0.2417\n",
            "Epoch 132/200\n",
            "32/32 [==============================] - 0s 3ms/step - loss: 0.0229 - mae: 0.1090 - val_loss: 0.1161 - val_mae: 0.2575\n",
            "Epoch 133/200\n",
            "32/32 [==============================] - 0s 3ms/step - loss: 0.0292 - mae: 0.1146 - val_loss: 0.1114 - val_mae: 0.2401\n",
            "Epoch 134/200\n",
            "32/32 [==============================] - 0s 3ms/step - loss: 0.0221 - mae: 0.0998 - val_loss: 0.1114 - val_mae: 0.2431\n",
            "Epoch 135/200\n",
            "32/32 [==============================] - 0s 4ms/step - loss: 0.0209 - mae: 0.1003 - val_loss: 0.1167 - val_mae: 0.2509\n",
            "Epoch 136/200\n",
            "32/32 [==============================] - 0s 3ms/step - loss: 0.0189 - mae: 0.0956 - val_loss: 0.1086 - val_mae: 0.2435\n",
            "Epoch 137/200\n",
            "32/32 [==============================] - 0s 3ms/step - loss: 0.0216 - mae: 0.0987 - val_loss: 0.1113 - val_mae: 0.2426\n",
            "Epoch 138/200\n",
            "32/32 [==============================] - 0s 3ms/step - loss: 0.0228 - mae: 0.1065 - val_loss: 0.1658 - val_mae: 0.3046\n",
            "Epoch 139/200\n",
            "32/32 [==============================] - 0s 3ms/step - loss: 0.0362 - mae: 0.1230 - val_loss: 0.1157 - val_mae: 0.2496\n",
            "Epoch 140/200\n",
            "32/32 [==============================] - 0s 3ms/step - loss: 0.0259 - mae: 0.1053 - val_loss: 0.1102 - val_mae: 0.2420\n",
            "Epoch 141/200\n",
            "32/32 [==============================] - 0s 4ms/step - loss: 0.0234 - mae: 0.1055 - val_loss: 0.1144 - val_mae: 0.2510\n",
            "Epoch 142/200\n",
            "32/32 [==============================] - 0s 3ms/step - loss: 0.0211 - mae: 0.0953 - val_loss: 0.1121 - val_mae: 0.2510\n",
            "Epoch 143/200\n",
            "32/32 [==============================] - 0s 3ms/step - loss: 0.0193 - mae: 0.0920 - val_loss: 0.1223 - val_mae: 0.2571\n",
            "Epoch 144/200\n",
            "32/32 [==============================] - 0s 3ms/step - loss: 0.0264 - mae: 0.1063 - val_loss: 0.1163 - val_mae: 0.2571\n",
            "Epoch 145/200\n",
            "32/32 [==============================] - 0s 3ms/step - loss: 0.0233 - mae: 0.1011 - val_loss: 0.1122 - val_mae: 0.2464\n",
            "Epoch 146/200\n",
            "32/32 [==============================] - 0s 3ms/step - loss: 0.0204 - mae: 0.0984 - val_loss: 0.1150 - val_mae: 0.2477\n",
            "Epoch 147/200\n",
            "32/32 [==============================] - 0s 3ms/step - loss: 0.0181 - mae: 0.0881 - val_loss: 0.1060 - val_mae: 0.2387\n",
            "Epoch 148/200\n",
            "32/32 [==============================] - 0s 3ms/step - loss: 0.0222 - mae: 0.1044 - val_loss: 0.1186 - val_mae: 0.2621\n",
            "Epoch 149/200\n",
            "32/32 [==============================] - 0s 3ms/step - loss: 0.0225 - mae: 0.1025 - val_loss: 0.1115 - val_mae: 0.2445\n",
            "Epoch 150/200\n",
            "32/32 [==============================] - 0s 3ms/step - loss: 0.0155 - mae: 0.0886 - val_loss: 0.1247 - val_mae: 0.2582\n",
            "Epoch 151/200\n",
            "32/32 [==============================] - 0s 3ms/step - loss: 0.0257 - mae: 0.1034 - val_loss: 0.1152 - val_mae: 0.2485\n",
            "Epoch 152/200\n",
            "32/32 [==============================] - 0s 4ms/step - loss: 0.0231 - mae: 0.0994 - val_loss: 0.1039 - val_mae: 0.2308\n",
            "Epoch 153/200\n",
            "32/32 [==============================] - 0s 3ms/step - loss: 0.0198 - mae: 0.0950 - val_loss: 0.1100 - val_mae: 0.2391\n",
            "Epoch 154/200\n",
            "32/32 [==============================] - 0s 3ms/step - loss: 0.0233 - mae: 0.0983 - val_loss: 0.1092 - val_mae: 0.2393\n",
            "Epoch 155/200\n",
            "32/32 [==============================] - 0s 3ms/step - loss: 0.0194 - mae: 0.0964 - val_loss: 0.1169 - val_mae: 0.2473\n",
            "Epoch 156/200\n",
            "32/32 [==============================] - 0s 3ms/step - loss: 0.0188 - mae: 0.0939 - val_loss: 0.1086 - val_mae: 0.2365\n",
            "Epoch 157/200\n",
            "32/32 [==============================] - 0s 4ms/step - loss: 0.0212 - mae: 0.1009 - val_loss: 0.1177 - val_mae: 0.2472\n",
            "Epoch 158/200\n",
            "32/32 [==============================] - 0s 3ms/step - loss: 0.0218 - mae: 0.0978 - val_loss: 0.1172 - val_mae: 0.2518\n",
            "Epoch 159/200\n",
            "32/32 [==============================] - 0s 3ms/step - loss: 0.0277 - mae: 0.1075 - val_loss: 0.1139 - val_mae: 0.2486\n",
            "Epoch 160/200\n",
            "32/32 [==============================] - 0s 4ms/step - loss: 0.0221 - mae: 0.0946 - val_loss: 0.1100 - val_mae: 0.2378\n",
            "Epoch 161/200\n",
            "32/32 [==============================] - 0s 3ms/step - loss: 0.0199 - mae: 0.0965 - val_loss: 0.1143 - val_mae: 0.2443\n",
            "Epoch 162/200\n",
            "32/32 [==============================] - 0s 3ms/step - loss: 0.0211 - mae: 0.0937 - val_loss: 0.1177 - val_mae: 0.2546\n",
            "Epoch 163/200\n",
            "32/32 [==============================] - 0s 4ms/step - loss: 0.0198 - mae: 0.0945 - val_loss: 0.1102 - val_mae: 0.2384\n",
            "Epoch 164/200\n",
            "32/32 [==============================] - 0s 3ms/step - loss: 0.0200 - mae: 0.0942 - val_loss: 0.1152 - val_mae: 0.2501\n",
            "Epoch 165/200\n",
            "32/32 [==============================] - 0s 3ms/step - loss: 0.0187 - mae: 0.0900 - val_loss: 0.1099 - val_mae: 0.2386\n",
            "Epoch 166/200\n",
            "32/32 [==============================] - 0s 4ms/step - loss: 0.0203 - mae: 0.0984 - val_loss: 0.1257 - val_mae: 0.2632\n",
            "Epoch 167/200\n",
            "32/32 [==============================] - 0s 3ms/step - loss: 0.0215 - mae: 0.1002 - val_loss: 0.1287 - val_mae: 0.2584\n",
            "Epoch 168/200\n",
            "32/32 [==============================] - 0s 3ms/step - loss: 0.0165 - mae: 0.0867 - val_loss: 0.1050 - val_mae: 0.2353\n",
            "Epoch 169/200\n",
            "32/32 [==============================] - 0s 3ms/step - loss: 0.0200 - mae: 0.0957 - val_loss: 0.1266 - val_mae: 0.2540\n",
            "Epoch 170/200\n",
            "32/32 [==============================] - 0s 3ms/step - loss: 0.0212 - mae: 0.0977 - val_loss: 0.1067 - val_mae: 0.2358\n",
            "Epoch 171/200\n",
            "32/32 [==============================] - 0s 3ms/step - loss: 0.0164 - mae: 0.0925 - val_loss: 0.1215 - val_mae: 0.2638\n",
            "Epoch 172/200\n",
            "32/32 [==============================] - 0s 3ms/step - loss: 0.0222 - mae: 0.1030 - val_loss: 0.1140 - val_mae: 0.2472\n",
            "Epoch 173/200\n",
            "32/32 [==============================] - 0s 4ms/step - loss: 0.0239 - mae: 0.1049 - val_loss: 0.1214 - val_mae: 0.2540\n",
            "Epoch 174/200\n",
            "32/32 [==============================] - 0s 3ms/step - loss: 0.0196 - mae: 0.0910 - val_loss: 0.1120 - val_mae: 0.2388\n",
            "Epoch 175/200\n",
            "32/32 [==============================] - 0s 3ms/step - loss: 0.0207 - mae: 0.0956 - val_loss: 0.1079 - val_mae: 0.2407\n",
            "Epoch 176/200\n",
            "32/32 [==============================] - 0s 4ms/step - loss: 0.0223 - mae: 0.1014 - val_loss: 0.1104 - val_mae: 0.2418\n",
            "Epoch 177/200\n",
            "32/32 [==============================] - 0s 3ms/step - loss: 0.0262 - mae: 0.1022 - val_loss: 0.1172 - val_mae: 0.2394\n",
            "Epoch 178/200\n",
            "32/32 [==============================] - 0s 3ms/step - loss: 0.0264 - mae: 0.0984 - val_loss: 0.1054 - val_mae: 0.2302\n",
            "Epoch 179/200\n",
            "32/32 [==============================] - 0s 3ms/step - loss: 0.0188 - mae: 0.0953 - val_loss: 0.1122 - val_mae: 0.2418\n",
            "Epoch 180/200\n",
            "32/32 [==============================] - 0s 3ms/step - loss: 0.0191 - mae: 0.0926 - val_loss: 0.1162 - val_mae: 0.2365\n",
            "Epoch 181/200\n",
            "32/32 [==============================] - 0s 3ms/step - loss: 0.0212 - mae: 0.0976 - val_loss: 0.1149 - val_mae: 0.2386\n",
            "Epoch 182/200\n",
            "32/32 [==============================] - 0s 3ms/step - loss: 0.0230 - mae: 0.0984 - val_loss: 0.1144 - val_mae: 0.2395\n",
            "Epoch 183/200\n",
            "32/32 [==============================] - 0s 3ms/step - loss: 0.0206 - mae: 0.0951 - val_loss: 0.1125 - val_mae: 0.2409\n",
            "Epoch 184/200\n",
            "32/32 [==============================] - 0s 3ms/step - loss: 0.0173 - mae: 0.0912 - val_loss: 0.1098 - val_mae: 0.2383\n",
            "Epoch 185/200\n",
            "32/32 [==============================] - 0s 3ms/step - loss: 0.0157 - mae: 0.0906 - val_loss: 0.1159 - val_mae: 0.2423\n",
            "Epoch 186/200\n",
            "32/32 [==============================] - 0s 3ms/step - loss: 0.0207 - mae: 0.0982 - val_loss: 0.1099 - val_mae: 0.2385\n",
            "Epoch 187/200\n",
            "32/32 [==============================] - 0s 3ms/step - loss: 0.0214 - mae: 0.0865 - val_loss: 0.1179 - val_mae: 0.2563\n",
            "Epoch 188/200\n",
            "32/32 [==============================] - 0s 3ms/step - loss: 0.0218 - mae: 0.0999 - val_loss: 0.1103 - val_mae: 0.2428\n",
            "Epoch 189/200\n",
            "32/32 [==============================] - 0s 3ms/step - loss: 0.0175 - mae: 0.0916 - val_loss: 0.1050 - val_mae: 0.2376\n",
            "Epoch 190/200\n",
            "32/32 [==============================] - 0s 4ms/step - loss: 0.0191 - mae: 0.0966 - val_loss: 0.1162 - val_mae: 0.2500\n",
            "Epoch 191/200\n",
            "32/32 [==============================] - 0s 3ms/step - loss: 0.0159 - mae: 0.0847 - val_loss: 0.1200 - val_mae: 0.2444\n",
            "Epoch 192/200\n",
            "32/32 [==============================] - 0s 3ms/step - loss: 0.0170 - mae: 0.0885 - val_loss: 0.1027 - val_mae: 0.2281\n",
            "Epoch 193/200\n",
            "32/32 [==============================] - 0s 3ms/step - loss: 0.0153 - mae: 0.0823 - val_loss: 0.1171 - val_mae: 0.2435\n",
            "Epoch 194/200\n",
            "32/32 [==============================] - 0s 3ms/step - loss: 0.0209 - mae: 0.0975 - val_loss: 0.1057 - val_mae: 0.2292\n",
            "Epoch 195/200\n",
            "32/32 [==============================] - 0s 3ms/step - loss: 0.0188 - mae: 0.0873 - val_loss: 0.1096 - val_mae: 0.2353\n",
            "Epoch 196/200\n",
            "32/32 [==============================] - 0s 3ms/step - loss: 0.0206 - mae: 0.0952 - val_loss: 0.1080 - val_mae: 0.2363\n",
            "Epoch 197/200\n",
            "32/32 [==============================] - 0s 3ms/step - loss: 0.0212 - mae: 0.0934 - val_loss: 0.1151 - val_mae: 0.2451\n",
            "Epoch 198/200\n",
            "32/32 [==============================] - 0s 3ms/step - loss: 0.0208 - mae: 0.0961 - val_loss: 0.1181 - val_mae: 0.2522\n",
            "Epoch 199/200\n",
            "32/32 [==============================] - 0s 3ms/step - loss: 0.0276 - mae: 0.1022 - val_loss: 0.1069 - val_mae: 0.2445\n",
            "Epoch 200/200\n",
            "32/32 [==============================] - 0s 3ms/step - loss: 0.0212 - mae: 0.0938 - val_loss: 0.1077 - val_mae: 0.2436\n"
          ],
          "name": "stdout"
        }
      ]
    },
    {
      "cell_type": "code",
      "metadata": {
        "id": "zKR_DBWGsnyK",
        "colab": {
          "base_uri": "https://localhost:8080/"
        },
        "outputId": "e9519351-75b5-4aa7-9c41-fca41b699e98"
      },
      "source": [
        "history.history.keys()"
      ],
      "execution_count": 37,
      "outputs": [
        {
          "output_type": "execute_result",
          "data": {
            "text/plain": [
              "dict_keys(['loss', 'mae', 'val_loss', 'val_mae'])"
            ]
          },
          "metadata": {
            "tags": []
          },
          "execution_count": 37
        }
      ]
    },
    {
      "cell_type": "code",
      "metadata": {
        "colab": {
          "base_uri": "https://localhost:8080/"
        },
        "id": "Dke-NeOQtJ7Z",
        "outputId": "c1335e04-98a4-4552-81ad-e78c72a8707e"
      },
      "source": [
        "loss,mae=network.evaluate(X_test,Y_test)"
      ],
      "execution_count": 38,
      "outputs": [
        {
          "output_type": "stream",
          "text": [
            "10/10 [==============================] - 0s 1ms/step - loss: 0.1306 - mae: 0.2436\n"
          ],
          "name": "stdout"
        }
      ]
    },
    {
      "cell_type": "code",
      "metadata": {
        "id": "CtycpTWetRiZ"
      },
      "source": [
        "val_mae = history.history['val_mae']\n",
        "val_loss = history.history['val_loss']"
      ],
      "execution_count": 39,
      "outputs": []
    },
    {
      "cell_type": "code",
      "metadata": {
        "id": "J6pyBj76snyL",
        "colab": {
          "base_uri": "https://localhost:8080/",
          "height": 295
        },
        "outputId": "33af58de-48c0-40df-ad63-ba303ec831a5"
      },
      "source": [
        "import matplotlib.pyplot as plt \n",
        "history_dict = history.history\n",
        "loss_values = history_dict['loss']\n",
        "val_loss_values = history_dict['val_loss']\n",
        "epochs = range(200)\n",
        "plt.plot(epochs, loss_values, 'bo', label='Training loss')\n",
        "plt.plot(epochs, val_loss_values, 'b', label='Validation loss')\n",
        "plt.title('Training and validation loss')\n",
        "plt.xlabel('Epochs')\n",
        "plt.ylabel('Loss')\n",
        "plt.legend()\n",
        "plt.show()"
      ],
      "execution_count": 40,
      "outputs": [
        {
          "output_type": "display_data",
          "data": {
            "image/png": "[encoded data removed]",
            "text/plain": [
              "<Figure size 432x288 with 1 Axes>"
            ]
          },
          "metadata": {
            "tags": [],
            "needs_background": "light"
          }
        }
      ]
    },
    {
      "cell_type": "code",
      "metadata": {
        "id": "tOXnGnopsnyM",
        "colab": {
          "base_uri": "https://localhost:8080/",
          "height": 295
        },
        "outputId": "7eab224f-538b-44c0-e372-b9324be8ced4"
      },
      "source": [
        "import matplotlib.pyplot as plt \n",
        "acc_values = history_dict['mae']\n",
        "val_acc_values = history_dict['val_mae']\n",
        "plt.plot(epochs, acc_values, 'bo', label='Training mae')\n",
        "plt.plot(epochs, val_acc_values, 'b', label='Validation mae')\n",
        "plt.title('Training and validation accuracy')\n",
        "plt.xlabel('Epochs')\n",
        "plt.ylabel('mae')\n",
        "plt.legend()\n",
        "plt.show()"
      ],
      "execution_count": 41,
      "outputs": [
        {
          "output_type": "display_data",
          "data": {
            "image/png": "[encoded data removed]",
            "text/plain": [
              "<Figure size 432x288 with 1 Axes>"
            ]
          },
          "metadata": {
            "tags": [],
            "needs_background": "light"
          }
        }
      ]
    },
    {
      "cell_type": "code",
      "metadata": {
        "id": "AiZJuEX1tXIa"
      },
      "source": [
        "y_pred = network.predict(X_test)"
      ],
      "execution_count": 42,
      "outputs": []
    },
    {
      "cell_type": "code",
      "metadata": {
        "id": "KdGEoZewsnyM"
      },
      "source": [
        ""
      ],
      "execution_count": 42,
      "outputs": []
    },
    {
      "cell_type": "code",
      "metadata": {
        "id": "i0l9RzSvsnyN"
      },
      "source": [
        "def denorm(x):\n",
        "    return (x * Y_std) + Y_mean\n",
        "    "
      ],
      "execution_count": 43,
      "outputs": []
    },
    {
      "cell_type": "code",
      "metadata": {
        "id": "Zob7x1aYsnyN"
      },
      "source": [
        "y_pred = denorm(y_pred)"
      ],
      "execution_count": 44,
      "outputs": []
    },
    {
      "cell_type": "code",
      "metadata": {
        "id": "9X1uMUqbsnyN"
      },
      "source": [
        "y_true = denorm(Y_test)"
      ],
      "execution_count": 45,
      "outputs": []
    },
    {
      "cell_type": "code",
      "metadata": {
        "id": "Vk6GJ8nTsnyN"
      },
      "source": [
        "y_pred = y_pred.flatten()"
      ],
      "execution_count": 46,
      "outputs": []
    },
    {
      "cell_type": "code",
      "metadata": {
        "id": "CI5GUWNusnyN",
        "colab": {
          "base_uri": "https://localhost:8080/"
        },
        "outputId": "b367bed6-5b12-41ef-b7bb-fedd4a564e43"
      },
      "source": [
        "y_pred.shape"
      ],
      "execution_count": 47,
      "outputs": [
        {
          "output_type": "execute_result",
          "data": {
            "text/plain": [
              "(309,)"
            ]
          },
          "metadata": {
            "tags": []
          },
          "execution_count": 47
        }
      ]
    },
    {
      "cell_type": "code",
      "metadata": {
        "id": "xuqNJla9snyO",
        "colab": {
          "base_uri": "https://localhost:8080/"
        },
        "outputId": "60529d97-6f2a-4f87-abf5-3b9d2dbbc5e5"
      },
      "source": [
        "y_true.shape"
      ],
      "execution_count": 48,
      "outputs": [
        {
          "output_type": "execute_result",
          "data": {
            "text/plain": [
              "(309,)"
            ]
          },
          "metadata": {
            "tags": []
          },
          "execution_count": 48
        }
      ]
    },
    {
      "cell_type": "code",
      "metadata": {
        "id": "JXe3eWPbsnyO",
        "colab": {
          "base_uri": "https://localhost:8080/",
          "height": 286
        },
        "outputId": "f5ae0448-075a-4a27-ce23-e4c16e75626f"
      },
      "source": [
        "import numpy as np\n",
        "import matplotlib.pyplot as plt\n",
        "coef = np.polyfit(y_true,y_pred,1)\n",
        "poly1d_fn = np.poly1d(coef) \n",
        "# poly1d_fn is now a function which takes in x and returns an estimate for y\n",
        "plt.plot(y_true,y_pred, 'yo', y_true, poly1d_fn(y_true), '--k')\n",
        "plt.xlim(0, 100)\n",
        "plt.ylim(0, 100)"
      ],
      "execution_count": 49,
      "outputs": [
        {
          "output_type": "execute_result",
          "data": {
            "text/plain": [
              "(0.0, 100.0)"
            ]
          },
          "metadata": {
            "tags": []
          },
          "execution_count": 49
        },
        {
          "output_type": "display_data",
          "data": {
            "image/png": "[encoded data removed]",
            "text/plain": [
              "<Figure size 432x288 with 1 Axes>"
            ]
          },
          "metadata": {
            "tags": [],
            "needs_background": "light"
          }
        }
      ]
    }
  ]
}