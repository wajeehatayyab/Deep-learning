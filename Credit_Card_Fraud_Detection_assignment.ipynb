{
  "nbformat": 4,
  "nbformat_minor": 0,
  "metadata": {
    "kernelspec": {
      "display_name": "Python 3",
      "language": "python",
      "name": "python3"
    },
    "language_info": {
      "codemirror_mode": {
        "name": "ipython",
        "version": 3
      },
      "file_extension": ".py",
      "mimetype": "text/x-python",
      "name": "python",
      "nbconvert_exporter": "python",
      "pygments_lexer": "ipython3",
      "version": "3.7.3"
    },
    "colab": {
      "name": "Credit Card Fraud Detection assignment.ipynb",
      "provenance": [],
      "collapsed_sections": [],
      "include_colab_link": true
    }
  },
  "cells": [
    {
      "cell_type": "markdown",
      "metadata": {
        "id": "view-in-github",
        "colab_type": "text"
      },
      "source": [
        "<a href=\"https://colab.research.google.com/github/wajeehatayyab/Deep-learning/blob/main/Credit_Card_Fraud_Detection_assignment.ipynb\" target=\"_parent\"><img src=\"https://colab.research.google.com/assets/colab-badge.svg\" alt=\"Open In Colab\"/></a>"
      ]
    },
    {
      "cell_type": "markdown",
      "metadata": {
        "id": "5r1ObOIHJuc8"
      },
      "source": [
        "# Credit Card Fraud Detection::"
      ]
    },
    {
      "cell_type": "markdown",
      "metadata": {
        "id": "7-CHcTmbJuc_"
      },
      "source": [
        "Download dataset from this link:\n",
        "\n",
        "https://www.kaggle.com/mlg-ulb/creditcardfraud"
      ]
    },
    {
      "cell_type": "markdown",
      "metadata": {
        "id": "8tk3kF0OJuc_"
      },
      "source": [
        "# Description about dataset::"
      ]
    },
    {
      "cell_type": "markdown",
      "metadata": {
        "id": "GkDvhgeUJudA"
      },
      "source": [
        "The datasets contains transactions made by credit cards in September 2013 by european cardholders.\n",
        "This dataset presents transactions that occurred in two days, where we have 492 frauds out of 284,807 transactions. The dataset is highly unbalanced, the positive class (frauds) account for 0.172% of all transactions.\n",
        "\n",
        "It contains only numerical input variables which are the result of a PCA transformation. Unfortunately, due to confidentiality issues, we cannot provide the original features and more background information about the data. Features V1, V2, … V28 are the principal components obtained with PCA, the only features which have not been transformed with PCA are 'Time' and 'Amount'. Feature 'Time' contains the seconds elapsed between each transaction and the first transaction in the dataset. The feature 'Amount' is the transaction Amount, this feature can be used for example-dependant cost-senstive learning. \n",
        "\n",
        "\n",
        "### Feature 'Class' is the response variable and it takes value 1 in case of fraud and 0 otherwise."
      ]
    },
    {
      "cell_type": "markdown",
      "metadata": {
        "id": "hCbhPanjJudB"
      },
      "source": [
        "# WORKFLOW :"
      ]
    },
    {
      "cell_type": "markdown",
      "metadata": {
        "id": "_pen4noRJudB"
      },
      "source": [
        "1.Load Data\n",
        "\n",
        "2.Check Missing Values ( If Exist ; Fill each record with mean of its feature )\n",
        "\n",
        "3.Standardized the Input Variables. \n",
        "\n",
        "4.Split into 50% Training(Samples,Labels) , 30% Test(Samples,Labels) and 20% Validation Data(Samples,Labels).\n",
        "\n",
        "5.Model : input Layer (No. of features ), 3 hidden layers including 10,8,6 unit & Output Layer with activation function relu/tanh (check by experiment).\n",
        "\n",
        "6.Compilation Step (Note : Its a Binary problem , select loss , metrics according to it)\n",
        "\n",
        "7.Train the Model with Epochs (100).\n",
        "\n",
        "8.If the model gets overfit tune your model by changing the units , No. of layers , epochs , add dropout layer or add Regularizer according to the need .\n",
        "\n",
        "9.Prediction should be > 92%\n",
        "10.Evaluation Step\n",
        "11Prediction\n"
      ]
    },
    {
      "cell_type": "markdown",
      "metadata": {
        "id": "U4VPHaPUJudC"
      },
      "source": [
        "# Task::"
      ]
    },
    {
      "cell_type": "markdown",
      "metadata": {
        "id": "9RYuLjTpJudC"
      },
      "source": [
        "## Identify fraudulent credit card transactions."
      ]
    },
    {
      "cell_type": "markdown",
      "metadata": {
        "id": "69HKk-54KrvD"
      },
      "source": [
        "# **Load data**"
      ]
    },
    {
      "cell_type": "code",
      "metadata": {
        "colab": {
          "base_uri": "https://localhost:8080/"
        },
        "id": "KR4GJSeiJudD",
        "outputId": "65e0fd5b-f8d1-4bc6-9c07-9da2a7a9c262"
      },
      "source": [
        "from google.colab import drive\n",
        "drive.mount('/content/drive')\n"
      ],
      "execution_count": null,
      "outputs": [
        {
          "output_type": "stream",
          "text": [
            "Drive already mounted at /content/drive; to attempt to forcibly remount, call drive.mount(\"/content/drive\", force_remount=True).\n"
          ],
          "name": "stdout"
        }
      ]
    },
    {
      "cell_type": "code",
      "metadata": {
        "colab": {
          "base_uri": "https://localhost:8080/"
        },
        "id": "SDm0IIddJudE",
        "outputId": "7024592d-60be-4974-ae06-9f577bc5f49b"
      },
      "source": [
        "cd /content/drive/MyDrive/tensor/"
      ],
      "execution_count": null,
      "outputs": [
        {
          "output_type": "stream",
          "text": [
            "/content/drive/MyDrive/tensor\n"
          ],
          "name": "stdout"
        }
      ]
    },
    {
      "cell_type": "code",
      "metadata": {
        "colab": {
          "base_uri": "https://localhost:8080/"
        },
        "id": "drm9ERzHJudE",
        "outputId": "06b2a559-32da-42a1-eb6b-72f3fef7eaa8"
      },
      "source": [
        "ls\n"
      ],
      "execution_count": null,
      "outputs": [
        {
          "output_type": "stream",
          "text": [
            " CarPrice_Assignment.csv                         \u001b[0m\u001b[01;34mflowers\u001b[0m/\n",
            "'Car Price Prediction assignment.ipynb'          Flowers_Recognition.ipynb\n",
            " compresive_strength_concrete.csv               'Ionosphere Assignment.ipynb'\n",
            "'Concrete Strength Assignment.ipynb'             ionosphere_data.csv\n",
            " creditcard.csv                                  README.md\n",
            "'Credit Card Fraud Detection assignment.ipynb'\n"
          ],
          "name": "stdout"
        }
      ]
    },
    {
      "cell_type": "code",
      "metadata": {
        "id": "EXdUNZT1JudE"
      },
      "source": [
        "import numpy as np\n",
        "import pandas as pd\n",
        "import tensorflow as tf\n"
      ],
      "execution_count": null,
      "outputs": []
    },
    {
      "cell_type": "code",
      "metadata": {
        "id": "GnSEZS-hJudE"
      },
      "source": [
        "data=df = pd.read_csv(\"creditcard.csv\")"
      ],
      "execution_count": null,
      "outputs": []
    },
    {
      "cell_type": "code",
      "metadata": {
        "colab": {
          "base_uri": "https://localhost:8080/",
          "height": 379
        },
        "id": "5u6fS6-uJudF",
        "outputId": "c2561edc-a372-4d2b-d292-51746a9008f0"
      },
      "source": [
        "data.head(10)"
      ],
      "execution_count": null,
      "outputs": [
        {
          "output_type": "execute_result",
          "data": {
            "text/html": [
              "<div>\n",
              "<style scoped>\n",
              "    .dataframe tbody tr th:only-of-type {\n",
              "        vertical-align: middle;\n",
              "    }\n",
              "\n",
              "    .dataframe tbody tr th {\n",
              "        vertical-align: top;\n",
              "    }\n",
              "\n",
              "    .dataframe thead th {\n",
              "        text-align: right;\n",
              "    }\n",
              "</style>\n",
              "<table border=\"1\" class=\"dataframe\">\n",
              "  <thead>\n",
              "    <tr style=\"text-align: right;\">\n",
              "      <th></th>\n",
              "      <th>Time</th>\n",
              "      <th>V1</th>\n",
              "      <th>V2</th>\n",
              "      <th>V3</th>\n",
              "      <th>V4</th>\n",
              "      <th>V5</th>\n",
              "      <th>V6</th>\n",
              "      <th>V7</th>\n",
              "      <th>V8</th>\n",
              "      <th>V9</th>\n",
              "      <th>V10</th>\n",
              "      <th>V11</th>\n",
              "      <th>V12</th>\n",
              "      <th>V13</th>\n",
              "      <th>V14</th>\n",
              "      <th>V15</th>\n",
              "      <th>V16</th>\n",
              "      <th>V17</th>\n",
              "      <th>V18</th>\n",
              "      <th>V19</th>\n",
              "      <th>V20</th>\n",
              "      <th>V21</th>\n",
              "      <th>V22</th>\n",
              "      <th>V23</th>\n",
              "      <th>V24</th>\n",
              "      <th>V25</th>\n",
              "      <th>V26</th>\n",
              "      <th>V27</th>\n",
              "      <th>V28</th>\n",
              "      <th>Amount</th>\n",
              "      <th>Class</th>\n",
              "    </tr>\n",
              "  </thead>\n",
              "  <tbody>\n",
              "    <tr>\n",
              "      <th>0</th>\n",
              "      <td>0.0</td>\n",
              "      <td>-1.359807</td>\n",
              "      <td>-0.072781</td>\n",
              "      <td>2.536347</td>\n",
              "      <td>1.378155</td>\n",
              "      <td>-0.338321</td>\n",
              "      <td>0.462388</td>\n",
              "      <td>0.239599</td>\n",
              "      <td>0.098698</td>\n",
              "      <td>0.363787</td>\n",
              "      <td>0.090794</td>\n",
              "      <td>-0.551600</td>\n",
              "      <td>-0.617801</td>\n",
              "      <td>-0.991390</td>\n",
              "      <td>-0.311169</td>\n",
              "      <td>1.468177</td>\n",
              "      <td>-0.470401</td>\n",
              "      <td>0.207971</td>\n",
              "      <td>0.025791</td>\n",
              "      <td>0.403993</td>\n",
              "      <td>0.251412</td>\n",
              "      <td>-0.018307</td>\n",
              "      <td>0.277838</td>\n",
              "      <td>-0.110474</td>\n",
              "      <td>0.066928</td>\n",
              "      <td>0.128539</td>\n",
              "      <td>-0.189115</td>\n",
              "      <td>0.133558</td>\n",
              "      <td>-0.021053</td>\n",
              "      <td>149.62</td>\n",
              "      <td>0</td>\n",
              "    </tr>\n",
              "    <tr>\n",
              "      <th>1</th>\n",
              "      <td>0.0</td>\n",
              "      <td>1.191857</td>\n",
              "      <td>0.266151</td>\n",
              "      <td>0.166480</td>\n",
              "      <td>0.448154</td>\n",
              "      <td>0.060018</td>\n",
              "      <td>-0.082361</td>\n",
              "      <td>-0.078803</td>\n",
              "      <td>0.085102</td>\n",
              "      <td>-0.255425</td>\n",
              "      <td>-0.166974</td>\n",
              "      <td>1.612727</td>\n",
              "      <td>1.065235</td>\n",
              "      <td>0.489095</td>\n",
              "      <td>-0.143772</td>\n",
              "      <td>0.635558</td>\n",
              "      <td>0.463917</td>\n",
              "      <td>-0.114805</td>\n",
              "      <td>-0.183361</td>\n",
              "      <td>-0.145783</td>\n",
              "      <td>-0.069083</td>\n",
              "      <td>-0.225775</td>\n",
              "      <td>-0.638672</td>\n",
              "      <td>0.101288</td>\n",
              "      <td>-0.339846</td>\n",
              "      <td>0.167170</td>\n",
              "      <td>0.125895</td>\n",
              "      <td>-0.008983</td>\n",
              "      <td>0.014724</td>\n",
              "      <td>2.69</td>\n",
              "      <td>0</td>\n",
              "    </tr>\n",
              "    <tr>\n",
              "      <th>2</th>\n",
              "      <td>1.0</td>\n",
              "      <td>-1.358354</td>\n",
              "      <td>-1.340163</td>\n",
              "      <td>1.773209</td>\n",
              "      <td>0.379780</td>\n",
              "      <td>-0.503198</td>\n",
              "      <td>1.800499</td>\n",
              "      <td>0.791461</td>\n",
              "      <td>0.247676</td>\n",
              "      <td>-1.514654</td>\n",
              "      <td>0.207643</td>\n",
              "      <td>0.624501</td>\n",
              "      <td>0.066084</td>\n",
              "      <td>0.717293</td>\n",
              "      <td>-0.165946</td>\n",
              "      <td>2.345865</td>\n",
              "      <td>-2.890083</td>\n",
              "      <td>1.109969</td>\n",
              "      <td>-0.121359</td>\n",
              "      <td>-2.261857</td>\n",
              "      <td>0.524980</td>\n",
              "      <td>0.247998</td>\n",
              "      <td>0.771679</td>\n",
              "      <td>0.909412</td>\n",
              "      <td>-0.689281</td>\n",
              "      <td>-0.327642</td>\n",
              "      <td>-0.139097</td>\n",
              "      <td>-0.055353</td>\n",
              "      <td>-0.059752</td>\n",
              "      <td>378.66</td>\n",
              "      <td>0</td>\n",
              "    </tr>\n",
              "    <tr>\n",
              "      <th>3</th>\n",
              "      <td>1.0</td>\n",
              "      <td>-0.966272</td>\n",
              "      <td>-0.185226</td>\n",
              "      <td>1.792993</td>\n",
              "      <td>-0.863291</td>\n",
              "      <td>-0.010309</td>\n",
              "      <td>1.247203</td>\n",
              "      <td>0.237609</td>\n",
              "      <td>0.377436</td>\n",
              "      <td>-1.387024</td>\n",
              "      <td>-0.054952</td>\n",
              "      <td>-0.226487</td>\n",
              "      <td>0.178228</td>\n",
              "      <td>0.507757</td>\n",
              "      <td>-0.287924</td>\n",
              "      <td>-0.631418</td>\n",
              "      <td>-1.059647</td>\n",
              "      <td>-0.684093</td>\n",
              "      <td>1.965775</td>\n",
              "      <td>-1.232622</td>\n",
              "      <td>-0.208038</td>\n",
              "      <td>-0.108300</td>\n",
              "      <td>0.005274</td>\n",
              "      <td>-0.190321</td>\n",
              "      <td>-1.175575</td>\n",
              "      <td>0.647376</td>\n",
              "      <td>-0.221929</td>\n",
              "      <td>0.062723</td>\n",
              "      <td>0.061458</td>\n",
              "      <td>123.50</td>\n",
              "      <td>0</td>\n",
              "    </tr>\n",
              "    <tr>\n",
              "      <th>4</th>\n",
              "      <td>2.0</td>\n",
              "      <td>-1.158233</td>\n",
              "      <td>0.877737</td>\n",
              "      <td>1.548718</td>\n",
              "      <td>0.403034</td>\n",
              "      <td>-0.407193</td>\n",
              "      <td>0.095921</td>\n",
              "      <td>0.592941</td>\n",
              "      <td>-0.270533</td>\n",
              "      <td>0.817739</td>\n",
              "      <td>0.753074</td>\n",
              "      <td>-0.822843</td>\n",
              "      <td>0.538196</td>\n",
              "      <td>1.345852</td>\n",
              "      <td>-1.119670</td>\n",
              "      <td>0.175121</td>\n",
              "      <td>-0.451449</td>\n",
              "      <td>-0.237033</td>\n",
              "      <td>-0.038195</td>\n",
              "      <td>0.803487</td>\n",
              "      <td>0.408542</td>\n",
              "      <td>-0.009431</td>\n",
              "      <td>0.798278</td>\n",
              "      <td>-0.137458</td>\n",
              "      <td>0.141267</td>\n",
              "      <td>-0.206010</td>\n",
              "      <td>0.502292</td>\n",
              "      <td>0.219422</td>\n",
              "      <td>0.215153</td>\n",
              "      <td>69.99</td>\n",
              "      <td>0</td>\n",
              "    </tr>\n",
              "    <tr>\n",
              "      <th>5</th>\n",
              "      <td>2.0</td>\n",
              "      <td>-0.425966</td>\n",
              "      <td>0.960523</td>\n",
              "      <td>1.141109</td>\n",
              "      <td>-0.168252</td>\n",
              "      <td>0.420987</td>\n",
              "      <td>-0.029728</td>\n",
              "      <td>0.476201</td>\n",
              "      <td>0.260314</td>\n",
              "      <td>-0.568671</td>\n",
              "      <td>-0.371407</td>\n",
              "      <td>1.341262</td>\n",
              "      <td>0.359894</td>\n",
              "      <td>-0.358091</td>\n",
              "      <td>-0.137134</td>\n",
              "      <td>0.517617</td>\n",
              "      <td>0.401726</td>\n",
              "      <td>-0.058133</td>\n",
              "      <td>0.068653</td>\n",
              "      <td>-0.033194</td>\n",
              "      <td>0.084968</td>\n",
              "      <td>-0.208254</td>\n",
              "      <td>-0.559825</td>\n",
              "      <td>-0.026398</td>\n",
              "      <td>-0.371427</td>\n",
              "      <td>-0.232794</td>\n",
              "      <td>0.105915</td>\n",
              "      <td>0.253844</td>\n",
              "      <td>0.081080</td>\n",
              "      <td>3.67</td>\n",
              "      <td>0</td>\n",
              "    </tr>\n",
              "    <tr>\n",
              "      <th>6</th>\n",
              "      <td>4.0</td>\n",
              "      <td>1.229658</td>\n",
              "      <td>0.141004</td>\n",
              "      <td>0.045371</td>\n",
              "      <td>1.202613</td>\n",
              "      <td>0.191881</td>\n",
              "      <td>0.272708</td>\n",
              "      <td>-0.005159</td>\n",
              "      <td>0.081213</td>\n",
              "      <td>0.464960</td>\n",
              "      <td>-0.099254</td>\n",
              "      <td>-1.416907</td>\n",
              "      <td>-0.153826</td>\n",
              "      <td>-0.751063</td>\n",
              "      <td>0.167372</td>\n",
              "      <td>0.050144</td>\n",
              "      <td>-0.443587</td>\n",
              "      <td>0.002821</td>\n",
              "      <td>-0.611987</td>\n",
              "      <td>-0.045575</td>\n",
              "      <td>-0.219633</td>\n",
              "      <td>-0.167716</td>\n",
              "      <td>-0.270710</td>\n",
              "      <td>-0.154104</td>\n",
              "      <td>-0.780055</td>\n",
              "      <td>0.750137</td>\n",
              "      <td>-0.257237</td>\n",
              "      <td>0.034507</td>\n",
              "      <td>0.005168</td>\n",
              "      <td>4.99</td>\n",
              "      <td>0</td>\n",
              "    </tr>\n",
              "    <tr>\n",
              "      <th>7</th>\n",
              "      <td>7.0</td>\n",
              "      <td>-0.644269</td>\n",
              "      <td>1.417964</td>\n",
              "      <td>1.074380</td>\n",
              "      <td>-0.492199</td>\n",
              "      <td>0.948934</td>\n",
              "      <td>0.428118</td>\n",
              "      <td>1.120631</td>\n",
              "      <td>-3.807864</td>\n",
              "      <td>0.615375</td>\n",
              "      <td>1.249376</td>\n",
              "      <td>-0.619468</td>\n",
              "      <td>0.291474</td>\n",
              "      <td>1.757964</td>\n",
              "      <td>-1.323865</td>\n",
              "      <td>0.686133</td>\n",
              "      <td>-0.076127</td>\n",
              "      <td>-1.222127</td>\n",
              "      <td>-0.358222</td>\n",
              "      <td>0.324505</td>\n",
              "      <td>-0.156742</td>\n",
              "      <td>1.943465</td>\n",
              "      <td>-1.015455</td>\n",
              "      <td>0.057504</td>\n",
              "      <td>-0.649709</td>\n",
              "      <td>-0.415267</td>\n",
              "      <td>-0.051634</td>\n",
              "      <td>-1.206921</td>\n",
              "      <td>-1.085339</td>\n",
              "      <td>40.80</td>\n",
              "      <td>0</td>\n",
              "    </tr>\n",
              "    <tr>\n",
              "      <th>8</th>\n",
              "      <td>7.0</td>\n",
              "      <td>-0.894286</td>\n",
              "      <td>0.286157</td>\n",
              "      <td>-0.113192</td>\n",
              "      <td>-0.271526</td>\n",
              "      <td>2.669599</td>\n",
              "      <td>3.721818</td>\n",
              "      <td>0.370145</td>\n",
              "      <td>0.851084</td>\n",
              "      <td>-0.392048</td>\n",
              "      <td>-0.410430</td>\n",
              "      <td>-0.705117</td>\n",
              "      <td>-0.110452</td>\n",
              "      <td>-0.286254</td>\n",
              "      <td>0.074355</td>\n",
              "      <td>-0.328783</td>\n",
              "      <td>-0.210077</td>\n",
              "      <td>-0.499768</td>\n",
              "      <td>0.118765</td>\n",
              "      <td>0.570328</td>\n",
              "      <td>0.052736</td>\n",
              "      <td>-0.073425</td>\n",
              "      <td>-0.268092</td>\n",
              "      <td>-0.204233</td>\n",
              "      <td>1.011592</td>\n",
              "      <td>0.373205</td>\n",
              "      <td>-0.384157</td>\n",
              "      <td>0.011747</td>\n",
              "      <td>0.142404</td>\n",
              "      <td>93.20</td>\n",
              "      <td>0</td>\n",
              "    </tr>\n",
              "    <tr>\n",
              "      <th>9</th>\n",
              "      <td>9.0</td>\n",
              "      <td>-0.338262</td>\n",
              "      <td>1.119593</td>\n",
              "      <td>1.044367</td>\n",
              "      <td>-0.222187</td>\n",
              "      <td>0.499361</td>\n",
              "      <td>-0.246761</td>\n",
              "      <td>0.651583</td>\n",
              "      <td>0.069539</td>\n",
              "      <td>-0.736727</td>\n",
              "      <td>-0.366846</td>\n",
              "      <td>1.017614</td>\n",
              "      <td>0.836390</td>\n",
              "      <td>1.006844</td>\n",
              "      <td>-0.443523</td>\n",
              "      <td>0.150219</td>\n",
              "      <td>0.739453</td>\n",
              "      <td>-0.540980</td>\n",
              "      <td>0.476677</td>\n",
              "      <td>0.451773</td>\n",
              "      <td>0.203711</td>\n",
              "      <td>-0.246914</td>\n",
              "      <td>-0.633753</td>\n",
              "      <td>-0.120794</td>\n",
              "      <td>-0.385050</td>\n",
              "      <td>-0.069733</td>\n",
              "      <td>0.094199</td>\n",
              "      <td>0.246219</td>\n",
              "      <td>0.083076</td>\n",
              "      <td>3.68</td>\n",
              "      <td>0</td>\n",
              "    </tr>\n",
              "  </tbody>\n",
              "</table>\n",
              "</div>"
            ],
            "text/plain": [
              "   Time        V1        V2        V3  ...       V27       V28  Amount  Class\n",
              "0   0.0 -1.359807 -0.072781  2.536347  ...  0.133558 -0.021053  149.62      0\n",
              "1   0.0  1.191857  0.266151  0.166480  ... -0.008983  0.014724    2.69      0\n",
              "2   1.0 -1.358354 -1.340163  1.773209  ... -0.055353 -0.059752  378.66      0\n",
              "3   1.0 -0.966272 -0.185226  1.792993  ...  0.062723  0.061458  123.50      0\n",
              "4   2.0 -1.158233  0.877737  1.548718  ...  0.219422  0.215153   69.99      0\n",
              "5   2.0 -0.425966  0.960523  1.141109  ...  0.253844  0.081080    3.67      0\n",
              "6   4.0  1.229658  0.141004  0.045371  ...  0.034507  0.005168    4.99      0\n",
              "7   7.0 -0.644269  1.417964  1.074380  ... -1.206921 -1.085339   40.80      0\n",
              "8   7.0 -0.894286  0.286157 -0.113192  ...  0.011747  0.142404   93.20      0\n",
              "9   9.0 -0.338262  1.119593  1.044367  ...  0.246219  0.083076    3.68      0\n",
              "\n",
              "[10 rows x 31 columns]"
            ]
          },
          "metadata": {
            "tags": []
          },
          "execution_count": 170
        }
      ]
    },
    {
      "cell_type": "code",
      "metadata": {
        "id": "BaEOATJUqx-T",
        "colab": {
          "base_uri": "https://localhost:8080/"
        },
        "outputId": "a508e90d-fd5c-4a8b-ecf5-3cd1ee296756"
      },
      "source": [
        "data.info()"
      ],
      "execution_count": null,
      "outputs": [
        {
          "output_type": "stream",
          "text": [
            "<class 'pandas.core.frame.DataFrame'>\n",
            "RangeIndex: 284807 entries, 0 to 284806\n",
            "Data columns (total 31 columns):\n",
            " #   Column  Non-Null Count   Dtype  \n",
            "---  ------  --------------   -----  \n",
            " 0   Time    284807 non-null  float64\n",
            " 1   V1      284807 non-null  float64\n",
            " 2   V2      284807 non-null  float64\n",
            " 3   V3      284807 non-null  float64\n",
            " 4   V4      284807 non-null  float64\n",
            " 5   V5      284807 non-null  float64\n",
            " 6   V6      284807 non-null  float64\n",
            " 7   V7      284807 non-null  float64\n",
            " 8   V8      284807 non-null  float64\n",
            " 9   V9      284807 non-null  float64\n",
            " 10  V10     284807 non-null  float64\n",
            " 11  V11     284807 non-null  float64\n",
            " 12  V12     284807 non-null  float64\n",
            " 13  V13     284807 non-null  float64\n",
            " 14  V14     284807 non-null  float64\n",
            " 15  V15     284807 non-null  float64\n",
            " 16  V16     284807 non-null  float64\n",
            " 17  V17     284807 non-null  float64\n",
            " 18  V18     284807 non-null  float64\n",
            " 19  V19     284807 non-null  float64\n",
            " 20  V20     284807 non-null  float64\n",
            " 21  V21     284807 non-null  float64\n",
            " 22  V22     284807 non-null  float64\n",
            " 23  V23     284807 non-null  float64\n",
            " 24  V24     284807 non-null  float64\n",
            " 25  V25     284807 non-null  float64\n",
            " 26  V26     284807 non-null  float64\n",
            " 27  V27     284807 non-null  float64\n",
            " 28  V28     284807 non-null  float64\n",
            " 29  Amount  284807 non-null  float64\n",
            " 30  Class   284807 non-null  int64  \n",
            "dtypes: float64(30), int64(1)\n",
            "memory usage: 67.4 MB\n"
          ],
          "name": "stdout"
        }
      ]
    },
    {
      "cell_type": "code",
      "metadata": {
        "colab": {
          "base_uri": "https://localhost:8080/",
          "height": 439
        },
        "id": "tGCtZBsrJudF",
        "outputId": "1b2b9c60-6ca8-489f-f134-241b9de043b1"
      },
      "source": [
        "data.isnull()"
      ],
      "execution_count": null,
      "outputs": [
        {
          "output_type": "execute_result",
          "data": {
            "text/html": [
              "<div>\n",
              "<style scoped>\n",
              "    .dataframe tbody tr th:only-of-type {\n",
              "        vertical-align: middle;\n",
              "    }\n",
              "\n",
              "    .dataframe tbody tr th {\n",
              "        vertical-align: top;\n",
              "    }\n",
              "\n",
              "    .dataframe thead th {\n",
              "        text-align: right;\n",
              "    }\n",
              "</style>\n",
              "<table border=\"1\" class=\"dataframe\">\n",
              "  <thead>\n",
              "    <tr style=\"text-align: right;\">\n",
              "      <th></th>\n",
              "      <th>Time</th>\n",
              "      <th>V1</th>\n",
              "      <th>V2</th>\n",
              "      <th>V3</th>\n",
              "      <th>V4</th>\n",
              "      <th>V5</th>\n",
              "      <th>V6</th>\n",
              "      <th>V7</th>\n",
              "      <th>V8</th>\n",
              "      <th>V9</th>\n",
              "      <th>V10</th>\n",
              "      <th>V11</th>\n",
              "      <th>V12</th>\n",
              "      <th>V13</th>\n",
              "      <th>V14</th>\n",
              "      <th>V15</th>\n",
              "      <th>V16</th>\n",
              "      <th>V17</th>\n",
              "      <th>V18</th>\n",
              "      <th>V19</th>\n",
              "      <th>V20</th>\n",
              "      <th>V21</th>\n",
              "      <th>V22</th>\n",
              "      <th>V23</th>\n",
              "      <th>V24</th>\n",
              "      <th>V25</th>\n",
              "      <th>V26</th>\n",
              "      <th>V27</th>\n",
              "      <th>V28</th>\n",
              "      <th>Amount</th>\n",
              "      <th>Class</th>\n",
              "    </tr>\n",
              "  </thead>\n",
              "  <tbody>\n",
              "    <tr>\n",
              "      <th>0</th>\n",
              "      <td>False</td>\n",
              "      <td>False</td>\n",
              "      <td>False</td>\n",
              "      <td>False</td>\n",
              "      <td>False</td>\n",
              "      <td>False</td>\n",
              "      <td>False</td>\n",
              "      <td>False</td>\n",
              "      <td>False</td>\n",
              "      <td>False</td>\n",
              "      <td>False</td>\n",
              "      <td>False</td>\n",
              "      <td>False</td>\n",
              "      <td>False</td>\n",
              "      <td>False</td>\n",
              "      <td>False</td>\n",
              "      <td>False</td>\n",
              "      <td>False</td>\n",
              "      <td>False</td>\n",
              "      <td>False</td>\n",
              "      <td>False</td>\n",
              "      <td>False</td>\n",
              "      <td>False</td>\n",
              "      <td>False</td>\n",
              "      <td>False</td>\n",
              "      <td>False</td>\n",
              "      <td>False</td>\n",
              "      <td>False</td>\n",
              "      <td>False</td>\n",
              "      <td>False</td>\n",
              "      <td>False</td>\n",
              "    </tr>\n",
              "    <tr>\n",
              "      <th>1</th>\n",
              "      <td>False</td>\n",
              "      <td>False</td>\n",
              "      <td>False</td>\n",
              "      <td>False</td>\n",
              "      <td>False</td>\n",
              "      <td>False</td>\n",
              "      <td>False</td>\n",
              "      <td>False</td>\n",
              "      <td>False</td>\n",
              "      <td>False</td>\n",
              "      <td>False</td>\n",
              "      <td>False</td>\n",
              "      <td>False</td>\n",
              "      <td>False</td>\n",
              "      <td>False</td>\n",
              "      <td>False</td>\n",
              "      <td>False</td>\n",
              "      <td>False</td>\n",
              "      <td>False</td>\n",
              "      <td>False</td>\n",
              "      <td>False</td>\n",
              "      <td>False</td>\n",
              "      <td>False</td>\n",
              "      <td>False</td>\n",
              "      <td>False</td>\n",
              "      <td>False</td>\n",
              "      <td>False</td>\n",
              "      <td>False</td>\n",
              "      <td>False</td>\n",
              "      <td>False</td>\n",
              "      <td>False</td>\n",
              "    </tr>\n",
              "    <tr>\n",
              "      <th>2</th>\n",
              "      <td>False</td>\n",
              "      <td>False</td>\n",
              "      <td>False</td>\n",
              "      <td>False</td>\n",
              "      <td>False</td>\n",
              "      <td>False</td>\n",
              "      <td>False</td>\n",
              "      <td>False</td>\n",
              "      <td>False</td>\n",
              "      <td>False</td>\n",
              "      <td>False</td>\n",
              "      <td>False</td>\n",
              "      <td>False</td>\n",
              "      <td>False</td>\n",
              "      <td>False</td>\n",
              "      <td>False</td>\n",
              "      <td>False</td>\n",
              "      <td>False</td>\n",
              "      <td>False</td>\n",
              "      <td>False</td>\n",
              "      <td>False</td>\n",
              "      <td>False</td>\n",
              "      <td>False</td>\n",
              "      <td>False</td>\n",
              "      <td>False</td>\n",
              "      <td>False</td>\n",
              "      <td>False</td>\n",
              "      <td>False</td>\n",
              "      <td>False</td>\n",
              "      <td>False</td>\n",
              "      <td>False</td>\n",
              "    </tr>\n",
              "    <tr>\n",
              "      <th>3</th>\n",
              "      <td>False</td>\n",
              "      <td>False</td>\n",
              "      <td>False</td>\n",
              "      <td>False</td>\n",
              "      <td>False</td>\n",
              "      <td>False</td>\n",
              "      <td>False</td>\n",
              "      <td>False</td>\n",
              "      <td>False</td>\n",
              "      <td>False</td>\n",
              "      <td>False</td>\n",
              "      <td>False</td>\n",
              "      <td>False</td>\n",
              "      <td>False</td>\n",
              "      <td>False</td>\n",
              "      <td>False</td>\n",
              "      <td>False</td>\n",
              "      <td>False</td>\n",
              "      <td>False</td>\n",
              "      <td>False</td>\n",
              "      <td>False</td>\n",
              "      <td>False</td>\n",
              "      <td>False</td>\n",
              "      <td>False</td>\n",
              "      <td>False</td>\n",
              "      <td>False</td>\n",
              "      <td>False</td>\n",
              "      <td>False</td>\n",
              "      <td>False</td>\n",
              "      <td>False</td>\n",
              "      <td>False</td>\n",
              "    </tr>\n",
              "    <tr>\n",
              "      <th>4</th>\n",
              "      <td>False</td>\n",
              "      <td>False</td>\n",
              "      <td>False</td>\n",
              "      <td>False</td>\n",
              "      <td>False</td>\n",
              "      <td>False</td>\n",
              "      <td>False</td>\n",
              "      <td>False</td>\n",
              "      <td>False</td>\n",
              "      <td>False</td>\n",
              "      <td>False</td>\n",
              "      <td>False</td>\n",
              "      <td>False</td>\n",
              "      <td>False</td>\n",
              "      <td>False</td>\n",
              "      <td>False</td>\n",
              "      <td>False</td>\n",
              "      <td>False</td>\n",
              "      <td>False</td>\n",
              "      <td>False</td>\n",
              "      <td>False</td>\n",
              "      <td>False</td>\n",
              "      <td>False</td>\n",
              "      <td>False</td>\n",
              "      <td>False</td>\n",
              "      <td>False</td>\n",
              "      <td>False</td>\n",
              "      <td>False</td>\n",
              "      <td>False</td>\n",
              "      <td>False</td>\n",
              "      <td>False</td>\n",
              "    </tr>\n",
              "    <tr>\n",
              "      <th>...</th>\n",
              "      <td>...</td>\n",
              "      <td>...</td>\n",
              "      <td>...</td>\n",
              "      <td>...</td>\n",
              "      <td>...</td>\n",
              "      <td>...</td>\n",
              "      <td>...</td>\n",
              "      <td>...</td>\n",
              "      <td>...</td>\n",
              "      <td>...</td>\n",
              "      <td>...</td>\n",
              "      <td>...</td>\n",
              "      <td>...</td>\n",
              "      <td>...</td>\n",
              "      <td>...</td>\n",
              "      <td>...</td>\n",
              "      <td>...</td>\n",
              "      <td>...</td>\n",
              "      <td>...</td>\n",
              "      <td>...</td>\n",
              "      <td>...</td>\n",
              "      <td>...</td>\n",
              "      <td>...</td>\n",
              "      <td>...</td>\n",
              "      <td>...</td>\n",
              "      <td>...</td>\n",
              "      <td>...</td>\n",
              "      <td>...</td>\n",
              "      <td>...</td>\n",
              "      <td>...</td>\n",
              "      <td>...</td>\n",
              "    </tr>\n",
              "    <tr>\n",
              "      <th>284802</th>\n",
              "      <td>False</td>\n",
              "      <td>False</td>\n",
              "      <td>False</td>\n",
              "      <td>False</td>\n",
              "      <td>False</td>\n",
              "      <td>False</td>\n",
              "      <td>False</td>\n",
              "      <td>False</td>\n",
              "      <td>False</td>\n",
              "      <td>False</td>\n",
              "      <td>False</td>\n",
              "      <td>False</td>\n",
              "      <td>False</td>\n",
              "      <td>False</td>\n",
              "      <td>False</td>\n",
              "      <td>False</td>\n",
              "      <td>False</td>\n",
              "      <td>False</td>\n",
              "      <td>False</td>\n",
              "      <td>False</td>\n",
              "      <td>False</td>\n",
              "      <td>False</td>\n",
              "      <td>False</td>\n",
              "      <td>False</td>\n",
              "      <td>False</td>\n",
              "      <td>False</td>\n",
              "      <td>False</td>\n",
              "      <td>False</td>\n",
              "      <td>False</td>\n",
              "      <td>False</td>\n",
              "      <td>False</td>\n",
              "    </tr>\n",
              "    <tr>\n",
              "      <th>284803</th>\n",
              "      <td>False</td>\n",
              "      <td>False</td>\n",
              "      <td>False</td>\n",
              "      <td>False</td>\n",
              "      <td>False</td>\n",
              "      <td>False</td>\n",
              "      <td>False</td>\n",
              "      <td>False</td>\n",
              "      <td>False</td>\n",
              "      <td>False</td>\n",
              "      <td>False</td>\n",
              "      <td>False</td>\n",
              "      <td>False</td>\n",
              "      <td>False</td>\n",
              "      <td>False</td>\n",
              "      <td>False</td>\n",
              "      <td>False</td>\n",
              "      <td>False</td>\n",
              "      <td>False</td>\n",
              "      <td>False</td>\n",
              "      <td>False</td>\n",
              "      <td>False</td>\n",
              "      <td>False</td>\n",
              "      <td>False</td>\n",
              "      <td>False</td>\n",
              "      <td>False</td>\n",
              "      <td>False</td>\n",
              "      <td>False</td>\n",
              "      <td>False</td>\n",
              "      <td>False</td>\n",
              "      <td>False</td>\n",
              "    </tr>\n",
              "    <tr>\n",
              "      <th>284804</th>\n",
              "      <td>False</td>\n",
              "      <td>False</td>\n",
              "      <td>False</td>\n",
              "      <td>False</td>\n",
              "      <td>False</td>\n",
              "      <td>False</td>\n",
              "      <td>False</td>\n",
              "      <td>False</td>\n",
              "      <td>False</td>\n",
              "      <td>False</td>\n",
              "      <td>False</td>\n",
              "      <td>False</td>\n",
              "      <td>False</td>\n",
              "      <td>False</td>\n",
              "      <td>False</td>\n",
              "      <td>False</td>\n",
              "      <td>False</td>\n",
              "      <td>False</td>\n",
              "      <td>False</td>\n",
              "      <td>False</td>\n",
              "      <td>False</td>\n",
              "      <td>False</td>\n",
              "      <td>False</td>\n",
              "      <td>False</td>\n",
              "      <td>False</td>\n",
              "      <td>False</td>\n",
              "      <td>False</td>\n",
              "      <td>False</td>\n",
              "      <td>False</td>\n",
              "      <td>False</td>\n",
              "      <td>False</td>\n",
              "    </tr>\n",
              "    <tr>\n",
              "      <th>284805</th>\n",
              "      <td>False</td>\n",
              "      <td>False</td>\n",
              "      <td>False</td>\n",
              "      <td>False</td>\n",
              "      <td>False</td>\n",
              "      <td>False</td>\n",
              "      <td>False</td>\n",
              "      <td>False</td>\n",
              "      <td>False</td>\n",
              "      <td>False</td>\n",
              "      <td>False</td>\n",
              "      <td>False</td>\n",
              "      <td>False</td>\n",
              "      <td>False</td>\n",
              "      <td>False</td>\n",
              "      <td>False</td>\n",
              "      <td>False</td>\n",
              "      <td>False</td>\n",
              "      <td>False</td>\n",
              "      <td>False</td>\n",
              "      <td>False</td>\n",
              "      <td>False</td>\n",
              "      <td>False</td>\n",
              "      <td>False</td>\n",
              "      <td>False</td>\n",
              "      <td>False</td>\n",
              "      <td>False</td>\n",
              "      <td>False</td>\n",
              "      <td>False</td>\n",
              "      <td>False</td>\n",
              "      <td>False</td>\n",
              "    </tr>\n",
              "    <tr>\n",
              "      <th>284806</th>\n",
              "      <td>False</td>\n",
              "      <td>False</td>\n",
              "      <td>False</td>\n",
              "      <td>False</td>\n",
              "      <td>False</td>\n",
              "      <td>False</td>\n",
              "      <td>False</td>\n",
              "      <td>False</td>\n",
              "      <td>False</td>\n",
              "      <td>False</td>\n",
              "      <td>False</td>\n",
              "      <td>False</td>\n",
              "      <td>False</td>\n",
              "      <td>False</td>\n",
              "      <td>False</td>\n",
              "      <td>False</td>\n",
              "      <td>False</td>\n",
              "      <td>False</td>\n",
              "      <td>False</td>\n",
              "      <td>False</td>\n",
              "      <td>False</td>\n",
              "      <td>False</td>\n",
              "      <td>False</td>\n",
              "      <td>False</td>\n",
              "      <td>False</td>\n",
              "      <td>False</td>\n",
              "      <td>False</td>\n",
              "      <td>False</td>\n",
              "      <td>False</td>\n",
              "      <td>False</td>\n",
              "      <td>False</td>\n",
              "    </tr>\n",
              "  </tbody>\n",
              "</table>\n",
              "<p>284807 rows × 31 columns</p>\n",
              "</div>"
            ],
            "text/plain": [
              "         Time     V1     V2     V3     V4  ...    V26    V27    V28  Amount  Class\n",
              "0       False  False  False  False  False  ...  False  False  False   False  False\n",
              "1       False  False  False  False  False  ...  False  False  False   False  False\n",
              "2       False  False  False  False  False  ...  False  False  False   False  False\n",
              "3       False  False  False  False  False  ...  False  False  False   False  False\n",
              "4       False  False  False  False  False  ...  False  False  False   False  False\n",
              "...       ...    ...    ...    ...    ...  ...    ...    ...    ...     ...    ...\n",
              "284802  False  False  False  False  False  ...  False  False  False   False  False\n",
              "284803  False  False  False  False  False  ...  False  False  False   False  False\n",
              "284804  False  False  False  False  False  ...  False  False  False   False  False\n",
              "284805  False  False  False  False  False  ...  False  False  False   False  False\n",
              "284806  False  False  False  False  False  ...  False  False  False   False  False\n",
              "\n",
              "[284807 rows x 31 columns]"
            ]
          },
          "metadata": {
            "tags": []
          },
          "execution_count": 172
        }
      ]
    },
    {
      "cell_type": "code",
      "metadata": {
        "id": "MgtEiLyQJudF",
        "colab": {
          "base_uri": "https://localhost:8080/"
        },
        "outputId": "8412bd56-12f2-4a9e-dd4d-97a32988d144"
      },
      "source": [
        "len(data)"
      ],
      "execution_count": null,
      "outputs": [
        {
          "output_type": "execute_result",
          "data": {
            "text/plain": [
              "284807"
            ]
          },
          "metadata": {
            "tags": []
          },
          "execution_count": 173
        }
      ]
    },
    {
      "cell_type": "code",
      "metadata": {
        "id": "RBL2TmcfJudF",
        "colab": {
          "base_uri": "https://localhost:8080/"
        },
        "outputId": "a3fcd30e-d393-428f-8fb7-476bf2b4e4bd"
      },
      "source": [
        "data.shape\n"
      ],
      "execution_count": null,
      "outputs": [
        {
          "output_type": "execute_result",
          "data": {
            "text/plain": [
              "(284807, 31)"
            ]
          },
          "metadata": {
            "tags": []
          },
          "execution_count": 174
        }
      ]
    },
    {
      "cell_type": "code",
      "metadata": {
        "colab": {
          "base_uri": "https://localhost:8080/"
        },
        "id": "OASrzLQfOseQ",
        "outputId": "c440af1c-423f-4e6c-bccb-21aa1bc48502"
      },
      "source": [
        "data.columns"
      ],
      "execution_count": null,
      "outputs": [
        {
          "output_type": "execute_result",
          "data": {
            "text/plain": [
              "Index(['Time', 'V1', 'V2', 'V3', 'V4', 'V5', 'V6', 'V7', 'V8', 'V9', 'V10',\n",
              "       'V11', 'V12', 'V13', 'V14', 'V15', 'V16', 'V17', 'V18', 'V19', 'V20',\n",
              "       'V21', 'V22', 'V23', 'V24', 'V25', 'V26', 'V27', 'V28', 'Amount',\n",
              "       'Class'],\n",
              "      dtype='object')"
            ]
          },
          "metadata": {
            "tags": []
          },
          "execution_count": 175
        }
      ]
    },
    {
      "cell_type": "code",
      "metadata": {
        "colab": {
          "base_uri": "https://localhost:8080/",
          "height": 439
        },
        "id": "qETNGmEVHJlA",
        "outputId": "1aa81c35-b73b-4585-b7cf-514c3d55b192"
      },
      "source": [
        "from sklearn.preprocessing import StandardScaler\n",
        "sc_X = StandardScaler()\n",
        "sc_X = sc_X.fit_transform(data)\n",
        "#Convert to table format - StandardScaler \n",
        "sc_X = pd.DataFrame(data=sc_X, columns=['Time', 'V1', 'V2', 'V3', 'V4', 'V5', 'V6', 'V7', 'V8', 'V9', 'V10',\n",
        "       'V11', 'V12', 'V13', 'V14', 'V15', 'V16', 'V17', 'V18', 'V19', 'V20',\n",
        "       'V21', 'V22', 'V23', 'V24', 'V25', 'V26', 'V27', 'V28', 'Amount',\n",
        "       'Class'])\n",
        "sc_X\n"
      ],
      "execution_count": null,
      "outputs": [
        {
          "output_type": "execute_result",
          "data": {
            "text/html": [
              "<div>\n",
              "<style scoped>\n",
              "    .dataframe tbody tr th:only-of-type {\n",
              "        vertical-align: middle;\n",
              "    }\n",
              "\n",
              "    .dataframe tbody tr th {\n",
              "        vertical-align: top;\n",
              "    }\n",
              "\n",
              "    .dataframe thead th {\n",
              "        text-align: right;\n",
              "    }\n",
              "</style>\n",
              "<table border=\"1\" class=\"dataframe\">\n",
              "  <thead>\n",
              "    <tr style=\"text-align: right;\">\n",
              "      <th></th>\n",
              "      <th>Time</th>\n",
              "      <th>V1</th>\n",
              "      <th>V2</th>\n",
              "      <th>V3</th>\n",
              "      <th>V4</th>\n",
              "      <th>V5</th>\n",
              "      <th>V6</th>\n",
              "      <th>V7</th>\n",
              "      <th>V8</th>\n",
              "      <th>V9</th>\n",
              "      <th>V10</th>\n",
              "      <th>V11</th>\n",
              "      <th>V12</th>\n",
              "      <th>V13</th>\n",
              "      <th>V14</th>\n",
              "      <th>V15</th>\n",
              "      <th>V16</th>\n",
              "      <th>V17</th>\n",
              "      <th>V18</th>\n",
              "      <th>V19</th>\n",
              "      <th>V20</th>\n",
              "      <th>V21</th>\n",
              "      <th>V22</th>\n",
              "      <th>V23</th>\n",
              "      <th>V24</th>\n",
              "      <th>V25</th>\n",
              "      <th>V26</th>\n",
              "      <th>V27</th>\n",
              "      <th>V28</th>\n",
              "      <th>Amount</th>\n",
              "      <th>Class</th>\n",
              "    </tr>\n",
              "  </thead>\n",
              "  <tbody>\n",
              "    <tr>\n",
              "      <th>0</th>\n",
              "      <td>-1.996583</td>\n",
              "      <td>-0.694242</td>\n",
              "      <td>-0.044075</td>\n",
              "      <td>1.672773</td>\n",
              "      <td>0.973366</td>\n",
              "      <td>-0.245117</td>\n",
              "      <td>0.347068</td>\n",
              "      <td>0.193679</td>\n",
              "      <td>0.082637</td>\n",
              "      <td>0.331128</td>\n",
              "      <td>0.083386</td>\n",
              "      <td>-0.540407</td>\n",
              "      <td>-0.618296</td>\n",
              "      <td>-0.996099</td>\n",
              "      <td>-0.324610</td>\n",
              "      <td>1.604014</td>\n",
              "      <td>-0.536833</td>\n",
              "      <td>0.244863</td>\n",
              "      <td>0.030770</td>\n",
              "      <td>0.496282</td>\n",
              "      <td>0.326118</td>\n",
              "      <td>-0.024923</td>\n",
              "      <td>0.382854</td>\n",
              "      <td>-0.176911</td>\n",
              "      <td>0.110507</td>\n",
              "      <td>0.246585</td>\n",
              "      <td>-0.392170</td>\n",
              "      <td>0.330892</td>\n",
              "      <td>-0.063781</td>\n",
              "      <td>0.244964</td>\n",
              "      <td>-0.041599</td>\n",
              "    </tr>\n",
              "    <tr>\n",
              "      <th>1</th>\n",
              "      <td>-1.996583</td>\n",
              "      <td>0.608496</td>\n",
              "      <td>0.161176</td>\n",
              "      <td>0.109797</td>\n",
              "      <td>0.316523</td>\n",
              "      <td>0.043483</td>\n",
              "      <td>-0.061820</td>\n",
              "      <td>-0.063700</td>\n",
              "      <td>0.071253</td>\n",
              "      <td>-0.232494</td>\n",
              "      <td>-0.153350</td>\n",
              "      <td>1.580003</td>\n",
              "      <td>1.066089</td>\n",
              "      <td>0.491418</td>\n",
              "      <td>-0.149982</td>\n",
              "      <td>0.694360</td>\n",
              "      <td>0.529434</td>\n",
              "      <td>-0.135170</td>\n",
              "      <td>-0.218763</td>\n",
              "      <td>-0.179086</td>\n",
              "      <td>-0.089611</td>\n",
              "      <td>-0.307377</td>\n",
              "      <td>-0.880077</td>\n",
              "      <td>0.162201</td>\n",
              "      <td>-0.561131</td>\n",
              "      <td>0.320694</td>\n",
              "      <td>0.261069</td>\n",
              "      <td>-0.022256</td>\n",
              "      <td>0.044608</td>\n",
              "      <td>-0.342475</td>\n",
              "      <td>-0.041599</td>\n",
              "    </tr>\n",
              "    <tr>\n",
              "      <th>2</th>\n",
              "      <td>-1.996562</td>\n",
              "      <td>-0.693500</td>\n",
              "      <td>-0.811578</td>\n",
              "      <td>1.169468</td>\n",
              "      <td>0.268231</td>\n",
              "      <td>-0.364572</td>\n",
              "      <td>1.351454</td>\n",
              "      <td>0.639776</td>\n",
              "      <td>0.207373</td>\n",
              "      <td>-1.378675</td>\n",
              "      <td>0.190700</td>\n",
              "      <td>0.611830</td>\n",
              "      <td>0.066137</td>\n",
              "      <td>0.720700</td>\n",
              "      <td>-0.173114</td>\n",
              "      <td>2.562906</td>\n",
              "      <td>-3.298235</td>\n",
              "      <td>1.306868</td>\n",
              "      <td>-0.144790</td>\n",
              "      <td>-2.778561</td>\n",
              "      <td>0.680975</td>\n",
              "      <td>0.337632</td>\n",
              "      <td>1.063358</td>\n",
              "      <td>1.456320</td>\n",
              "      <td>-1.138092</td>\n",
              "      <td>-0.628537</td>\n",
              "      <td>-0.288447</td>\n",
              "      <td>-0.137137</td>\n",
              "      <td>-0.181021</td>\n",
              "      <td>1.160686</td>\n",
              "      <td>-0.041599</td>\n",
              "    </tr>\n",
              "    <tr>\n",
              "      <th>3</th>\n",
              "      <td>-1.996562</td>\n",
              "      <td>-0.493325</td>\n",
              "      <td>-0.112169</td>\n",
              "      <td>1.182516</td>\n",
              "      <td>-0.609727</td>\n",
              "      <td>-0.007469</td>\n",
              "      <td>0.936150</td>\n",
              "      <td>0.192071</td>\n",
              "      <td>0.316018</td>\n",
              "      <td>-1.262503</td>\n",
              "      <td>-0.050468</td>\n",
              "      <td>-0.221892</td>\n",
              "      <td>0.178371</td>\n",
              "      <td>0.510169</td>\n",
              "      <td>-0.300360</td>\n",
              "      <td>-0.689837</td>\n",
              "      <td>-1.209296</td>\n",
              "      <td>-0.805445</td>\n",
              "      <td>2.345305</td>\n",
              "      <td>-1.514205</td>\n",
              "      <td>-0.269855</td>\n",
              "      <td>-0.147443</td>\n",
              "      <td>0.007267</td>\n",
              "      <td>-0.304777</td>\n",
              "      <td>-1.941027</td>\n",
              "      <td>1.241904</td>\n",
              "      <td>-0.460217</td>\n",
              "      <td>0.155396</td>\n",
              "      <td>0.186189</td>\n",
              "      <td>0.140534</td>\n",
              "      <td>-0.041599</td>\n",
              "    </tr>\n",
              "    <tr>\n",
              "      <th>4</th>\n",
              "      <td>-1.996541</td>\n",
              "      <td>-0.591330</td>\n",
              "      <td>0.531541</td>\n",
              "      <td>1.021412</td>\n",
              "      <td>0.284655</td>\n",
              "      <td>-0.295015</td>\n",
              "      <td>0.071999</td>\n",
              "      <td>0.479302</td>\n",
              "      <td>-0.226510</td>\n",
              "      <td>0.744326</td>\n",
              "      <td>0.691625</td>\n",
              "      <td>-0.806147</td>\n",
              "      <td>0.538627</td>\n",
              "      <td>1.352244</td>\n",
              "      <td>-1.168034</td>\n",
              "      <td>0.191323</td>\n",
              "      <td>-0.515205</td>\n",
              "      <td>-0.279081</td>\n",
              "      <td>-0.045569</td>\n",
              "      <td>0.987037</td>\n",
              "      <td>0.529939</td>\n",
              "      <td>-0.012839</td>\n",
              "      <td>1.100011</td>\n",
              "      <td>-0.220123</td>\n",
              "      <td>0.233250</td>\n",
              "      <td>-0.395202</td>\n",
              "      <td>1.041611</td>\n",
              "      <td>0.543620</td>\n",
              "      <td>0.651816</td>\n",
              "      <td>-0.073403</td>\n",
              "      <td>-0.041599</td>\n",
              "    </tr>\n",
              "    <tr>\n",
              "      <th>...</th>\n",
              "      <td>...</td>\n",
              "      <td>...</td>\n",
              "      <td>...</td>\n",
              "      <td>...</td>\n",
              "      <td>...</td>\n",
              "      <td>...</td>\n",
              "      <td>...</td>\n",
              "      <td>...</td>\n",
              "      <td>...</td>\n",
              "      <td>...</td>\n",
              "      <td>...</td>\n",
              "      <td>...</td>\n",
              "      <td>...</td>\n",
              "      <td>...</td>\n",
              "      <td>...</td>\n",
              "      <td>...</td>\n",
              "      <td>...</td>\n",
              "      <td>...</td>\n",
              "      <td>...</td>\n",
              "      <td>...</td>\n",
              "      <td>...</td>\n",
              "      <td>...</td>\n",
              "      <td>...</td>\n",
              "      <td>...</td>\n",
              "      <td>...</td>\n",
              "      <td>...</td>\n",
              "      <td>...</td>\n",
              "      <td>...</td>\n",
              "      <td>...</td>\n",
              "      <td>...</td>\n",
              "      <td>...</td>\n",
              "    </tr>\n",
              "    <tr>\n",
              "      <th>284802</th>\n",
              "      <td>1.641931</td>\n",
              "      <td>-6.065842</td>\n",
              "      <td>6.099286</td>\n",
              "      <td>-6.486245</td>\n",
              "      <td>-1.459641</td>\n",
              "      <td>-3.886611</td>\n",
              "      <td>-1.956690</td>\n",
              "      <td>-3.975628</td>\n",
              "      <td>6.116573</td>\n",
              "      <td>1.742559</td>\n",
              "      <td>4.000715</td>\n",
              "      <td>-1.560780</td>\n",
              "      <td>2.714113</td>\n",
              "      <td>-0.692530</td>\n",
              "      <td>4.826801</td>\n",
              "      <td>-1.009990</td>\n",
              "      <td>1.264067</td>\n",
              "      <td>2.344999</td>\n",
              "      <td>0.609219</td>\n",
              "      <td>-0.838927</td>\n",
              "      <td>1.914365</td>\n",
              "      <td>0.290602</td>\n",
              "      <td>0.154146</td>\n",
              "      <td>1.624574</td>\n",
              "      <td>-0.841000</td>\n",
              "      <td>2.756320</td>\n",
              "      <td>0.518500</td>\n",
              "      <td>2.337901</td>\n",
              "      <td>2.495529</td>\n",
              "      <td>-0.350151</td>\n",
              "      <td>-0.041599</td>\n",
              "    </tr>\n",
              "    <tr>\n",
              "      <th>284803</th>\n",
              "      <td>1.641952</td>\n",
              "      <td>-0.374121</td>\n",
              "      <td>-0.033356</td>\n",
              "      <td>1.342145</td>\n",
              "      <td>-0.521651</td>\n",
              "      <td>0.629040</td>\n",
              "      <td>0.794446</td>\n",
              "      <td>0.019667</td>\n",
              "      <td>0.246886</td>\n",
              "      <td>0.532299</td>\n",
              "      <td>-0.896292</td>\n",
              "      <td>-0.147141</td>\n",
              "      <td>0.916535</td>\n",
              "      <td>1.220526</td>\n",
              "      <td>-0.704305</td>\n",
              "      <td>1.272711</td>\n",
              "      <td>-0.812275</td>\n",
              "      <td>-0.030251</td>\n",
              "      <td>-1.456950</td>\n",
              "      <td>-1.898626</td>\n",
              "      <td>0.077330</td>\n",
              "      <td>0.291625</td>\n",
              "      <td>1.273781</td>\n",
              "      <td>0.019958</td>\n",
              "      <td>-1.677920</td>\n",
              "      <td>-1.163726</td>\n",
              "      <td>-0.819647</td>\n",
              "      <td>0.169641</td>\n",
              "      <td>-0.162164</td>\n",
              "      <td>-0.254117</td>\n",
              "      <td>-0.041599</td>\n",
              "    </tr>\n",
              "    <tr>\n",
              "      <th>284804</th>\n",
              "      <td>1.641974</td>\n",
              "      <td>0.980024</td>\n",
              "      <td>-0.182434</td>\n",
              "      <td>-2.143205</td>\n",
              "      <td>-0.393984</td>\n",
              "      <td>1.905833</td>\n",
              "      <td>2.275262</td>\n",
              "      <td>-0.239939</td>\n",
              "      <td>0.593140</td>\n",
              "      <td>0.393630</td>\n",
              "      <td>-0.445225</td>\n",
              "      <td>0.403262</td>\n",
              "      <td>0.063169</td>\n",
              "      <td>-0.184571</td>\n",
              "      <td>-0.532657</td>\n",
              "      <td>1.452270</td>\n",
              "      <td>0.160589</td>\n",
              "      <td>0.369114</td>\n",
              "      <td>0.472041</td>\n",
              "      <td>-0.709121</td>\n",
              "      <td>0.001811</td>\n",
              "      <td>0.315913</td>\n",
              "      <td>0.796788</td>\n",
              "      <td>-0.060053</td>\n",
              "      <td>1.056944</td>\n",
              "      <td>0.509797</td>\n",
              "      <td>-0.181182</td>\n",
              "      <td>0.011037</td>\n",
              "      <td>-0.080467</td>\n",
              "      <td>-0.081839</td>\n",
              "      <td>-0.041599</td>\n",
              "    </tr>\n",
              "    <tr>\n",
              "      <th>284805</th>\n",
              "      <td>1.641974</td>\n",
              "      <td>-0.122755</td>\n",
              "      <td>0.321250</td>\n",
              "      <td>0.463320</td>\n",
              "      <td>0.487192</td>\n",
              "      <td>-0.273836</td>\n",
              "      <td>0.468155</td>\n",
              "      <td>-0.554672</td>\n",
              "      <td>0.568631</td>\n",
              "      <td>0.356887</td>\n",
              "      <td>-0.366558</td>\n",
              "      <td>-1.894609</td>\n",
              "      <td>-0.963657</td>\n",
              "      <td>-1.047032</td>\n",
              "      <td>0.469046</td>\n",
              "      <td>2.144141</td>\n",
              "      <td>-0.694523</td>\n",
              "      <td>0.600385</td>\n",
              "      <td>1.329055</td>\n",
              "      <td>3.559840</td>\n",
              "      <td>0.165300</td>\n",
              "      <td>0.361112</td>\n",
              "      <td>1.102451</td>\n",
              "      <td>-0.261503</td>\n",
              "      <td>0.203428</td>\n",
              "      <td>-1.091855</td>\n",
              "      <td>1.133635</td>\n",
              "      <td>0.269604</td>\n",
              "      <td>0.316687</td>\n",
              "      <td>-0.313249</td>\n",
              "      <td>-0.041599</td>\n",
              "    </tr>\n",
              "    <tr>\n",
              "      <th>284806</th>\n",
              "      <td>1.642058</td>\n",
              "      <td>-0.272331</td>\n",
              "      <td>-0.114899</td>\n",
              "      <td>0.463866</td>\n",
              "      <td>-0.357570</td>\n",
              "      <td>-0.009089</td>\n",
              "      <td>-0.487602</td>\n",
              "      <td>1.274769</td>\n",
              "      <td>-0.347176</td>\n",
              "      <td>0.442532</td>\n",
              "      <td>-0.840730</td>\n",
              "      <td>-1.019346</td>\n",
              "      <td>-0.031538</td>\n",
              "      <td>-0.188986</td>\n",
              "      <td>-0.087958</td>\n",
              "      <td>0.045158</td>\n",
              "      <td>-0.345358</td>\n",
              "      <td>-0.777521</td>\n",
              "      <td>0.199755</td>\n",
              "      <td>-0.314625</td>\n",
              "      <td>0.496739</td>\n",
              "      <td>0.355411</td>\n",
              "      <td>0.886149</td>\n",
              "      <td>0.603365</td>\n",
              "      <td>0.014526</td>\n",
              "      <td>-0.908631</td>\n",
              "      <td>-1.696853</td>\n",
              "      <td>-0.005984</td>\n",
              "      <td>0.041350</td>\n",
              "      <td>0.514355</td>\n",
              "      <td>-0.041599</td>\n",
              "    </tr>\n",
              "  </tbody>\n",
              "</table>\n",
              "<p>284807 rows × 31 columns</p>\n",
              "</div>"
            ],
            "text/plain": [
              "            Time        V1        V2  ...       V28    Amount     Class\n",
              "0      -1.996583 -0.694242 -0.044075  ... -0.063781  0.244964 -0.041599\n",
              "1      -1.996583  0.608496  0.161176  ...  0.044608 -0.342475 -0.041599\n",
              "2      -1.996562 -0.693500 -0.811578  ... -0.181021  1.160686 -0.041599\n",
              "3      -1.996562 -0.493325 -0.112169  ...  0.186189  0.140534 -0.041599\n",
              "4      -1.996541 -0.591330  0.531541  ...  0.651816 -0.073403 -0.041599\n",
              "...          ...       ...       ...  ...       ...       ...       ...\n",
              "284802  1.641931 -6.065842  6.099286  ...  2.495529 -0.350151 -0.041599\n",
              "284803  1.641952 -0.374121 -0.033356  ... -0.162164 -0.254117 -0.041599\n",
              "284804  1.641974  0.980024 -0.182434  ... -0.080467 -0.081839 -0.041599\n",
              "284805  1.641974 -0.122755  0.321250  ...  0.316687 -0.313249 -0.041599\n",
              "284806  1.642058 -0.272331 -0.114899  ...  0.041350  0.514355 -0.041599\n",
              "\n",
              "[284807 rows x 31 columns]"
            ]
          },
          "metadata": {
            "tags": []
          },
          "execution_count": 176
        }
      ]
    },
    {
      "cell_type": "code",
      "metadata": {
        "id": "KGW9-o5sJudF"
      },
      "source": [
        "sample=data.iloc[:,:30]\n",
        "label=data.iloc[:,-1]"
      ],
      "execution_count": null,
      "outputs": []
    },
    {
      "cell_type": "code",
      "metadata": {
        "id": "3S-zAmfQJudF"
      },
      "source": [
        "from sklearn.model_selection import train_test_split\n",
        "X_train,X_test,y_train,y_test=train_test_split(data,label,test_size=.30,random_state=42)\n"
      ],
      "execution_count": null,
      "outputs": []
    },
    {
      "cell_type": "code",
      "metadata": {
        "id": "-yaM5IkNJudG",
        "colab": {
          "base_uri": "https://localhost:8080/"
        },
        "outputId": "a7ce3198-9d77-4eae-b8ba-6016019a7572"
      },
      "source": [
        "len(X_train)"
      ],
      "execution_count": null,
      "outputs": [
        {
          "output_type": "execute_result",
          "data": {
            "text/plain": [
              "199364"
            ]
          },
          "metadata": {
            "tags": []
          },
          "execution_count": 179
        }
      ]
    },
    {
      "cell_type": "code",
      "metadata": {
        "id": "OeBvbnvkJudG",
        "colab": {
          "base_uri": "https://localhost:8080/"
        },
        "outputId": "5486f566-d3a5-4694-87b6-ffe9a9d44b67"
      },
      "source": [
        "len(X_test)"
      ],
      "execution_count": null,
      "outputs": [
        {
          "output_type": "execute_result",
          "data": {
            "text/plain": [
              "85443"
            ]
          },
          "metadata": {
            "tags": []
          },
          "execution_count": 180
        }
      ]
    },
    {
      "cell_type": "code",
      "metadata": {
        "id": "n-BlupWTSOnj"
      },
      "source": [
        "X_train2,X_test2,y_train2,y_tes2t=train_test_split(data,label,train_size=.50,random_state=42)"
      ],
      "execution_count": null,
      "outputs": []
    },
    {
      "cell_type": "code",
      "metadata": {
        "colab": {
          "base_uri": "https://localhost:8080/"
        },
        "id": "7cYDV924SdYl",
        "outputId": "b2718845-2985-4a25-ed9e-7213ede3423c"
      },
      "source": [
        "len(X_train2)"
      ],
      "execution_count": null,
      "outputs": [
        {
          "output_type": "execute_result",
          "data": {
            "text/plain": [
              "142403"
            ]
          },
          "metadata": {
            "tags": []
          },
          "execution_count": 182
        }
      ]
    },
    {
      "cell_type": "code",
      "metadata": {
        "colab": {
          "base_uri": "https://localhost:8080/"
        },
        "id": "qTFpnMTsSdHj",
        "outputId": "99786e64-7702-4ec8-a700-bdd4e127a986"
      },
      "source": [
        "len(X_test2)"
      ],
      "execution_count": null,
      "outputs": [
        {
          "output_type": "execute_result",
          "data": {
            "text/plain": [
              "142404"
            ]
          },
          "metadata": {
            "tags": []
          },
          "execution_count": 183
        }
      ]
    },
    {
      "cell_type": "code",
      "metadata": {
        "colab": {
          "base_uri": "https://localhost:8080/"
        },
        "id": "Dh20YpIWrkKU",
        "outputId": "ad231911-f54b-4ab5-fcc4-5d81fcdd9fde"
      },
      "source": [
        "print(f\"shape of training data is :{X_train2.shape}\")\n",
        "print(f\"shape of training label is :{y_train2.shape}\")     \n",
        "print(f\"shape of testing data is :{X_test.shape}\")   \n",
        "print(f\"shape of testing label is :{y_test.shape}\") "
      ],
      "execution_count": null,
      "outputs": [
        {
          "output_type": "stream",
          "text": [
            "shape of training data is :(142403, 31)\n",
            "shape of training label is :(142403,)\n",
            "shape of testing data is :(85443, 31)\n",
            "shape of testing label is :(85443,)\n"
          ],
          "name": "stdout"
        }
      ]
    },
    {
      "cell_type": "code",
      "metadata": {
        "id": "ZZumz83gSrRo"
      },
      "source": [
        ""
      ],
      "execution_count": null,
      "outputs": []
    },
    {
      "cell_type": "code",
      "metadata": {
        "id": "T7PQi-f2SrHt",
        "colab": {
          "base_uri": "https://localhost:8080/"
        },
        "outputId": "1cd980be-5064-499b-ac25-188a93820756"
      },
      "source": [
        "\n",
        "\n",
        "network.summary"
      ],
      "execution_count": null,
      "outputs": [
        {
          "output_type": "execute_result",
          "data": {
            "text/plain": [
              "<bound method Model.summary of <tensorflow.python.keras.engine.sequential.Sequential object at 0x7f0f12d77fd0>>"
            ]
          },
          "metadata": {
            "tags": []
          },
          "execution_count": 185
        }
      ]
    },
    {
      "cell_type": "code",
      "metadata": {
        "id": "2iXz9_LkqtCk"
      },
      "source": [
        "from tensorflow.keras import models\n",
        "from tensorflow.keras import layers\n",
        "\n",
        "network = models.Sequential()\n",
        "network.add(layers.Dense(10,activation=\"tanh\",input_shape=(len(X_train2.columns),) ))\n",
        "network.add(layers.Dense(8,activation=\"tanh\",input_shape=(data.shape[1],) ))\n",
        "network.add(layers.Dense(6,activation=\"tanh\",input_shape=(data.shape[1],) ))\n",
        "network.add(layers.Dense(1,activation=\"sigmoid\"))\n",
        "network.compile(optimizer='rmsprop',loss='binary_crossentropy',metrics=['acc'])\n",
        "\n",
        " "
      ],
      "execution_count": null,
      "outputs": []
    },
    {
      "cell_type": "code",
      "metadata": {
        "id": "jGiTINfLptu6"
      },
      "source": [
        "\n"
      ],
      "execution_count": null,
      "outputs": []
    },
    {
      "cell_type": "code",
      "metadata": {
        "id": "6bIMAttISq8-",
        "colab": {
          "base_uri": "https://localhost:8080/"
        },
        "outputId": "98fcc523-7ce0-4ea3-fe32-004f0d84555f"
      },
      "source": [
        "\n",
        "\n",
        "history=model.fit(X_train2,y_train2, epochs=100,validation_split = 0.3)"
      ],
      "execution_count": null,
      "outputs": [
        {
          "output_type": "stream",
          "text": [
            "Epoch 1/100\n",
            "3116/3116 [==============================] - 4s 1ms/step - loss: 2.7340 - accuracy: 0.9980 - val_loss: 2.7464 - val_accuracy: 0.9977\n",
            "Epoch 2/100\n",
            "3116/3116 [==============================] - 4s 1ms/step - loss: 2.7340 - accuracy: 0.9980 - val_loss: 2.7464 - val_accuracy: 0.9977\n",
            "Epoch 3/100\n",
            "3116/3116 [==============================] - 4s 1ms/step - loss: 2.7340 - accuracy: 0.9980 - val_loss: 2.7464 - val_accuracy: 0.9977\n",
            "Epoch 4/100\n",
            "3116/3116 [==============================] - 4s 1ms/step - loss: 2.7340 - accuracy: 0.9980 - val_loss: 2.7464 - val_accuracy: 0.9977\n",
            "Epoch 5/100\n",
            "3116/3116 [==============================] - 4s 1ms/step - loss: 2.7340 - accuracy: 0.9980 - val_loss: 2.7464 - val_accuracy: 0.9977\n",
            "Epoch 6/100\n",
            "3116/3116 [==============================] - 4s 1ms/step - loss: 2.7340 - accuracy: 0.9980 - val_loss: 2.7464 - val_accuracy: 0.9977\n",
            "Epoch 7/100\n",
            "3116/3116 [==============================] - 4s 1ms/step - loss: 2.7340 - accuracy: 0.9980 - val_loss: 2.7464 - val_accuracy: 0.9977\n",
            "Epoch 8/100\n",
            "3116/3116 [==============================] - 4s 1ms/step - loss: 2.7340 - accuracy: 0.9980 - val_loss: 2.7464 - val_accuracy: 0.9977\n",
            "Epoch 9/100\n",
            "3116/3116 [==============================] - 4s 1ms/step - loss: 2.7340 - accuracy: 0.9980 - val_loss: 2.7464 - val_accuracy: 0.9977\n",
            "Epoch 10/100\n",
            "3116/3116 [==============================] - 4s 1ms/step - loss: 2.7340 - accuracy: 0.9980 - val_loss: 2.7464 - val_accuracy: 0.9977\n",
            "Epoch 11/100\n",
            "3116/3116 [==============================] - 4s 1ms/step - loss: 2.7340 - accuracy: 0.9980 - val_loss: 2.7464 - val_accuracy: 0.9977\n",
            "Epoch 12/100\n",
            "3116/3116 [==============================] - 4s 1ms/step - loss: 2.7340 - accuracy: 0.9980 - val_loss: 2.7464 - val_accuracy: 0.9977\n",
            "Epoch 13/100\n",
            "3116/3116 [==============================] - 4s 1ms/step - loss: 2.7340 - accuracy: 0.9980 - val_loss: 2.7464 - val_accuracy: 0.9977\n",
            "Epoch 14/100\n",
            "3116/3116 [==============================] - 4s 1ms/step - loss: 2.7340 - accuracy: 0.9980 - val_loss: 2.7464 - val_accuracy: 0.9977\n",
            "Epoch 15/100\n",
            "3116/3116 [==============================] - 4s 1ms/step - loss: 2.7340 - accuracy: 0.9980 - val_loss: 2.7464 - val_accuracy: 0.9977\n",
            "Epoch 16/100\n",
            "3116/3116 [==============================] - 4s 1ms/step - loss: 2.7340 - accuracy: 0.9980 - val_loss: 2.7464 - val_accuracy: 0.9977\n",
            "Epoch 17/100\n",
            "3116/3116 [==============================] - 4s 1ms/step - loss: 2.7340 - accuracy: 0.9980 - val_loss: 2.7464 - val_accuracy: 0.9977\n",
            "Epoch 18/100\n",
            "3116/3116 [==============================] - 4s 1ms/step - loss: 2.7340 - accuracy: 0.9980 - val_loss: 2.7464 - val_accuracy: 0.9977\n",
            "Epoch 19/100\n",
            "3116/3116 [==============================] - 4s 1ms/step - loss: 2.7340 - accuracy: 0.9980 - val_loss: 2.7464 - val_accuracy: 0.9977\n",
            "Epoch 20/100\n",
            "3116/3116 [==============================] - 4s 1ms/step - loss: 2.7340 - accuracy: 0.9980 - val_loss: 2.7464 - val_accuracy: 0.9977\n",
            "Epoch 21/100\n",
            "3116/3116 [==============================] - 4s 1ms/step - loss: 2.7340 - accuracy: 0.9980 - val_loss: 2.7464 - val_accuracy: 0.9977\n",
            "Epoch 22/100\n",
            "3116/3116 [==============================] - 4s 1ms/step - loss: 2.7340 - accuracy: 0.9980 - val_loss: 2.7464 - val_accuracy: 0.9977\n",
            "Epoch 23/100\n",
            "3116/3116 [==============================] - 4s 1ms/step - loss: 2.7340 - accuracy: 0.9980 - val_loss: 2.7464 - val_accuracy: 0.9977\n",
            "Epoch 24/100\n",
            "3116/3116 [==============================] - 4s 1ms/step - loss: 2.7340 - accuracy: 0.9980 - val_loss: 2.7464 - val_accuracy: 0.9977\n",
            "Epoch 25/100\n",
            "3116/3116 [==============================] - 4s 1ms/step - loss: 2.7340 - accuracy: 0.9980 - val_loss: 2.7464 - val_accuracy: 0.9977\n",
            "Epoch 26/100\n",
            "3116/3116 [==============================] - 4s 1ms/step - loss: 2.7340 - accuracy: 0.9980 - val_loss: 2.7464 - val_accuracy: 0.9977\n",
            "Epoch 27/100\n",
            "3116/3116 [==============================] - 4s 1ms/step - loss: 2.7340 - accuracy: 0.9980 - val_loss: 2.7464 - val_accuracy: 0.9977\n",
            "Epoch 28/100\n",
            "3116/3116 [==============================] - 4s 1ms/step - loss: 2.7340 - accuracy: 0.9980 - val_loss: 2.7464 - val_accuracy: 0.9977\n",
            "Epoch 29/100\n",
            "3116/3116 [==============================] - 4s 1ms/step - loss: 2.7340 - accuracy: 0.9980 - val_loss: 2.7464 - val_accuracy: 0.9977\n",
            "Epoch 30/100\n",
            "3116/3116 [==============================] - 4s 1ms/step - loss: 2.7340 - accuracy: 0.9980 - val_loss: 2.7464 - val_accuracy: 0.9977\n",
            "Epoch 31/100\n",
            "3116/3116 [==============================] - 5s 2ms/step - loss: 2.7340 - accuracy: 0.9980 - val_loss: 2.7464 - val_accuracy: 0.9977\n",
            "Epoch 32/100\n",
            "3116/3116 [==============================] - 4s 1ms/step - loss: 2.7340 - accuracy: 0.9980 - val_loss: 2.7464 - val_accuracy: 0.9977\n",
            "Epoch 33/100\n",
            "3116/3116 [==============================] - 4s 1ms/step - loss: 2.7340 - accuracy: 0.9980 - val_loss: 2.7464 - val_accuracy: 0.9977\n",
            "Epoch 34/100\n",
            "3116/3116 [==============================] - 4s 1ms/step - loss: 2.7340 - accuracy: 0.9980 - val_loss: 2.7464 - val_accuracy: 0.9977\n",
            "Epoch 35/100\n",
            "3116/3116 [==============================] - 4s 1ms/step - loss: 2.7340 - accuracy: 0.9980 - val_loss: 2.7464 - val_accuracy: 0.9977\n",
            "Epoch 36/100\n",
            "3116/3116 [==============================] - 4s 1ms/step - loss: 2.7340 - accuracy: 0.9980 - val_loss: 2.7464 - val_accuracy: 0.9977\n",
            "Epoch 37/100\n",
            "3116/3116 [==============================] - 4s 1ms/step - loss: 2.7340 - accuracy: 0.9980 - val_loss: 2.7464 - val_accuracy: 0.9977\n",
            "Epoch 38/100\n",
            "3116/3116 [==============================] - 4s 1ms/step - loss: 2.7340 - accuracy: 0.9980 - val_loss: 2.7464 - val_accuracy: 0.9977\n",
            "Epoch 39/100\n",
            "3116/3116 [==============================] - 4s 1ms/step - loss: 2.7340 - accuracy: 0.9980 - val_loss: 2.7464 - val_accuracy: 0.9977\n",
            "Epoch 40/100\n",
            "3116/3116 [==============================] - 4s 1ms/step - loss: 2.7340 - accuracy: 0.9980 - val_loss: 2.7464 - val_accuracy: 0.9977\n",
            "Epoch 41/100\n",
            "3116/3116 [==============================] - 4s 1ms/step - loss: 2.7340 - accuracy: 0.9980 - val_loss: 2.7464 - val_accuracy: 0.9977\n",
            "Epoch 42/100\n",
            "3116/3116 [==============================] - 4s 1ms/step - loss: 2.7340 - accuracy: 0.9980 - val_loss: 2.7464 - val_accuracy: 0.9977\n",
            "Epoch 43/100\n",
            "3116/3116 [==============================] - 4s 1ms/step - loss: 2.7340 - accuracy: 0.9980 - val_loss: 2.7464 - val_accuracy: 0.9977\n",
            "Epoch 44/100\n",
            "3116/3116 [==============================] - 4s 1ms/step - loss: 2.7340 - accuracy: 0.9980 - val_loss: 2.7464 - val_accuracy: 0.9977\n",
            "Epoch 45/100\n",
            "3116/3116 [==============================] - 4s 1ms/step - loss: 2.7340 - accuracy: 0.9980 - val_loss: 2.7464 - val_accuracy: 0.9977\n",
            "Epoch 46/100\n",
            "3116/3116 [==============================] - 4s 1ms/step - loss: 2.7340 - accuracy: 0.9980 - val_loss: 2.7464 - val_accuracy: 0.9977\n",
            "Epoch 47/100\n",
            "3116/3116 [==============================] - 4s 1ms/step - loss: 2.7340 - accuracy: 0.9980 - val_loss: 2.7464 - val_accuracy: 0.9977\n",
            "Epoch 48/100\n",
            "3116/3116 [==============================] - 4s 1ms/step - loss: 2.7340 - accuracy: 0.9980 - val_loss: 2.7464 - val_accuracy: 0.9977\n",
            "Epoch 49/100\n",
            "3116/3116 [==============================] - 4s 1ms/step - loss: 2.7340 - accuracy: 0.9980 - val_loss: 2.7464 - val_accuracy: 0.9977\n",
            "Epoch 50/100\n",
            "3116/3116 [==============================] - 4s 1ms/step - loss: 2.7340 - accuracy: 0.9980 - val_loss: 2.7464 - val_accuracy: 0.9977\n",
            "Epoch 51/100\n",
            "3116/3116 [==============================] - 5s 2ms/step - loss: 2.7340 - accuracy: 0.9980 - val_loss: 2.7464 - val_accuracy: 0.9977\n",
            "Epoch 52/100\n",
            "3116/3116 [==============================] - 5s 2ms/step - loss: 2.7340 - accuracy: 0.9980 - val_loss: 2.7464 - val_accuracy: 0.9977\n",
            "Epoch 53/100\n",
            "3116/3116 [==============================] - 4s 1ms/step - loss: 2.7340 - accuracy: 0.9980 - val_loss: 2.7464 - val_accuracy: 0.9977\n",
            "Epoch 54/100\n",
            "3116/3116 [==============================] - 4s 1ms/step - loss: 2.7340 - accuracy: 0.9980 - val_loss: 2.7464 - val_accuracy: 0.9977\n",
            "Epoch 55/100\n",
            "3116/3116 [==============================] - 4s 1ms/step - loss: 2.7340 - accuracy: 0.9980 - val_loss: 2.7464 - val_accuracy: 0.9977\n",
            "Epoch 56/100\n",
            "3116/3116 [==============================] - 4s 1ms/step - loss: 2.7340 - accuracy: 0.9980 - val_loss: 2.7464 - val_accuracy: 0.9977\n",
            "Epoch 57/100\n",
            "3116/3116 [==============================] - 4s 1ms/step - loss: 2.7340 - accuracy: 0.9980 - val_loss: 2.7464 - val_accuracy: 0.9977\n",
            "Epoch 58/100\n",
            "3116/3116 [==============================] - 4s 1ms/step - loss: 2.7340 - accuracy: 0.9980 - val_loss: 2.7464 - val_accuracy: 0.9977\n",
            "Epoch 59/100\n",
            "3116/3116 [==============================] - 4s 1ms/step - loss: 2.7340 - accuracy: 0.9980 - val_loss: 2.7464 - val_accuracy: 0.9977\n",
            "Epoch 60/100\n",
            "3116/3116 [==============================] - 4s 1ms/step - loss: 2.7340 - accuracy: 0.9980 - val_loss: 2.7464 - val_accuracy: 0.9977\n",
            "Epoch 61/100\n",
            "3116/3116 [==============================] - 4s 1ms/step - loss: 2.7340 - accuracy: 0.9980 - val_loss: 2.7464 - val_accuracy: 0.9977\n",
            "Epoch 62/100\n",
            "3116/3116 [==============================] - 4s 1ms/step - loss: 2.7340 - accuracy: 0.9980 - val_loss: 2.7464 - val_accuracy: 0.9977\n",
            "Epoch 63/100\n",
            "3116/3116 [==============================] - 4s 1ms/step - loss: 2.7340 - accuracy: 0.9980 - val_loss: 2.7464 - val_accuracy: 0.9977\n",
            "Epoch 64/100\n",
            "3116/3116 [==============================] - 4s 1ms/step - loss: 2.7340 - accuracy: 0.9980 - val_loss: 2.7464 - val_accuracy: 0.9977\n",
            "Epoch 65/100\n",
            "3116/3116 [==============================] - 4s 1ms/step - loss: 2.7340 - accuracy: 0.9980 - val_loss: 2.7464 - val_accuracy: 0.9977\n",
            "Epoch 66/100\n",
            "3116/3116 [==============================] - 4s 1ms/step - loss: 2.7340 - accuracy: 0.9980 - val_loss: 2.7464 - val_accuracy: 0.9977\n",
            "Epoch 67/100\n",
            "3116/3116 [==============================] - 4s 1ms/step - loss: 2.7340 - accuracy: 0.9980 - val_loss: 2.7464 - val_accuracy: 0.9977\n",
            "Epoch 68/100\n",
            "3116/3116 [==============================] - 4s 1ms/step - loss: 2.7340 - accuracy: 0.9980 - val_loss: 2.7464 - val_accuracy: 0.9977\n",
            "Epoch 69/100\n",
            "3116/3116 [==============================] - 4s 1ms/step - loss: 2.7340 - accuracy: 0.9980 - val_loss: 2.7464 - val_accuracy: 0.9977\n",
            "Epoch 70/100\n",
            "3116/3116 [==============================] - 4s 1ms/step - loss: 2.7340 - accuracy: 0.9980 - val_loss: 2.7464 - val_accuracy: 0.9977\n",
            "Epoch 71/100\n",
            "3116/3116 [==============================] - 4s 1ms/step - loss: 2.7340 - accuracy: 0.9980 - val_loss: 2.7464 - val_accuracy: 0.9977\n",
            "Epoch 72/100\n",
            "3116/3116 [==============================] - 4s 1ms/step - loss: 2.7340 - accuracy: 0.9980 - val_loss: 2.7464 - val_accuracy: 0.9977\n",
            "Epoch 73/100\n",
            "3116/3116 [==============================] - 4s 1ms/step - loss: 2.7340 - accuracy: 0.9980 - val_loss: 2.7464 - val_accuracy: 0.9977\n",
            "Epoch 74/100\n",
            "3116/3116 [==============================] - 4s 1ms/step - loss: 2.7340 - accuracy: 0.9980 - val_loss: 2.7464 - val_accuracy: 0.9977\n",
            "Epoch 75/100\n",
            "3116/3116 [==============================] - 4s 1ms/step - loss: 2.7340 - accuracy: 0.9980 - val_loss: 2.7464 - val_accuracy: 0.9977\n",
            "Epoch 76/100\n",
            "3116/3116 [==============================] - 4s 1ms/step - loss: 2.7340 - accuracy: 0.9980 - val_loss: 2.7464 - val_accuracy: 0.9977\n",
            "Epoch 77/100\n",
            "3116/3116 [==============================] - 4s 1ms/step - loss: 2.7340 - accuracy: 0.9980 - val_loss: 2.7464 - val_accuracy: 0.9977\n",
            "Epoch 78/100\n",
            "3116/3116 [==============================] - 4s 1ms/step - loss: 2.7340 - accuracy: 0.9980 - val_loss: 2.7464 - val_accuracy: 0.9977\n",
            "Epoch 79/100\n",
            "3116/3116 [==============================] - 4s 1ms/step - loss: 2.7340 - accuracy: 0.9980 - val_loss: 2.7464 - val_accuracy: 0.9977\n",
            "Epoch 80/100\n",
            "3116/3116 [==============================] - 4s 1ms/step - loss: 2.7340 - accuracy: 0.9980 - val_loss: 2.7464 - val_accuracy: 0.9977\n",
            "Epoch 81/100\n",
            "3116/3116 [==============================] - 4s 1ms/step - loss: 2.7340 - accuracy: 0.9980 - val_loss: 2.7464 - val_accuracy: 0.9977\n",
            "Epoch 82/100\n",
            "3116/3116 [==============================] - 4s 1ms/step - loss: 2.7340 - accuracy: 0.9980 - val_loss: 2.7464 - val_accuracy: 0.9977\n",
            "Epoch 83/100\n",
            "3116/3116 [==============================] - 4s 1ms/step - loss: 2.7340 - accuracy: 0.9980 - val_loss: 2.7464 - val_accuracy: 0.9977\n",
            "Epoch 84/100\n",
            "3116/3116 [==============================] - 4s 1ms/step - loss: 2.7340 - accuracy: 0.9980 - val_loss: 2.7464 - val_accuracy: 0.9977\n",
            "Epoch 85/100\n",
            "3116/3116 [==============================] - 4s 1ms/step - loss: 2.7340 - accuracy: 0.9980 - val_loss: 2.7464 - val_accuracy: 0.9977\n",
            "Epoch 86/100\n",
            "3116/3116 [==============================] - 4s 1ms/step - loss: 2.7340 - accuracy: 0.9980 - val_loss: 2.7464 - val_accuracy: 0.9977\n",
            "Epoch 87/100\n",
            "3116/3116 [==============================] - 4s 1ms/step - loss: 2.7340 - accuracy: 0.9980 - val_loss: 2.7464 - val_accuracy: 0.9977\n",
            "Epoch 88/100\n",
            "3116/3116 [==============================] - 4s 1ms/step - loss: 2.7340 - accuracy: 0.9980 - val_loss: 2.7464 - val_accuracy: 0.9977\n",
            "Epoch 89/100\n",
            "3116/3116 [==============================] - 4s 1ms/step - loss: 2.7340 - accuracy: 0.9980 - val_loss: 2.7464 - val_accuracy: 0.9977\n",
            "Epoch 90/100\n",
            "3116/3116 [==============================] - 4s 1ms/step - loss: 2.7340 - accuracy: 0.9980 - val_loss: 2.7464 - val_accuracy: 0.9977\n",
            "Epoch 91/100\n",
            "3116/3116 [==============================] - 4s 1ms/step - loss: 2.7340 - accuracy: 0.9980 - val_loss: 2.7464 - val_accuracy: 0.9977\n",
            "Epoch 92/100\n",
            "3116/3116 [==============================] - 4s 1ms/step - loss: 2.7340 - accuracy: 0.9980 - val_loss: 2.7464 - val_accuracy: 0.9977\n",
            "Epoch 93/100\n",
            "3116/3116 [==============================] - 4s 1ms/step - loss: 2.7340 - accuracy: 0.9980 - val_loss: 2.7464 - val_accuracy: 0.9977\n",
            "Epoch 94/100\n",
            "3116/3116 [==============================] - 4s 1ms/step - loss: 2.7340 - accuracy: 0.9980 - val_loss: 2.7464 - val_accuracy: 0.9977\n",
            "Epoch 95/100\n",
            "3116/3116 [==============================] - 4s 1ms/step - loss: 2.7340 - accuracy: 0.9980 - val_loss: 2.7464 - val_accuracy: 0.9977\n",
            "Epoch 96/100\n",
            "3116/3116 [==============================] - 4s 1ms/step - loss: 2.7340 - accuracy: 0.9980 - val_loss: 2.7464 - val_accuracy: 0.9977\n",
            "Epoch 97/100\n",
            "3116/3116 [==============================] - 4s 1ms/step - loss: 2.7340 - accuracy: 0.9980 - val_loss: 2.7464 - val_accuracy: 0.9977\n",
            "Epoch 98/100\n",
            "3116/3116 [==============================] - 4s 1ms/step - loss: 2.7340 - accuracy: 0.9980 - val_loss: 2.7464 - val_accuracy: 0.9977\n",
            "Epoch 99/100\n",
            "3116/3116 [==============================] - 4s 1ms/step - loss: 2.7340 - accuracy: 0.9980 - val_loss: 2.7464 - val_accuracy: 0.9977\n",
            "Epoch 100/100\n",
            "3116/3116 [==============================] - 4s 1ms/step - loss: 2.7340 - accuracy: 0.9980 - val_loss: 2.7464 - val_accuracy: 0.9977\n"
          ],
          "name": "stdout"
        }
      ]
    },
    {
      "cell_type": "code",
      "metadata": {
        "colab": {
          "base_uri": "https://localhost:8080/"
        },
        "id": "llYYuiAFvaqs",
        "outputId": "1767f707-a49b-4458-9c94-523fe0c8074c"
      },
      "source": [
        "loss, accuracy = model.evaluate(X_test, y_test)"
      ],
      "execution_count": null,
      "outputs": [
        {
          "output_type": "stream",
          "text": [
            "2671/2671 [==============================] - 3s 989us/step - loss: 2.7419 - accuracy: 0.9981\n"
          ],
          "name": "stdout"
        }
      ]
    },
    {
      "cell_type": "code",
      "metadata": {
        "colab": {
          "base_uri": "https://localhost:8080/",
          "height": 295
        },
        "id": "Q_hXKwNg3uqG",
        "outputId": "06fc5283-9803-49e6-8eba-5ad1f5029673"
      },
      "source": [
        "loss = history.history['loss']\n",
        "val_loss = history.history['val_loss']\n",
        "epochs = range(1, len(loss) + 1)\n",
        "plt.plot(epochs, loss,\"go\",label='Training loss')\n",
        "plt.plot(epochs, val_loss, 'y', label='Validation loss')\n",
        "plt.title('Training and validation loss')\n",
        "plt.xlabel('Epochs')\n",
        "plt.ylabel('Loss')\n",
        "plt.legend()\n",
        "plt.grid()\n",
        "plt.show()"
      ],
      "execution_count": null,
      "outputs": [
        {
          "output_type": "display_data",
          "data": {
            "image/png": "[encoded data removed]",
            "text/plain": [
              "<Figure size 432x288 with 1 Axes>"
            ]
          },
          "metadata": {
            "tags": [],
            "needs_background": "light"
          }
        }
      ]
    },
    {
      "cell_type": "code",
      "metadata": {
        "colab": {
          "base_uri": "https://localhost:8080/"
        },
        "id": "tuz5XgdmrN4q",
        "outputId": "d1f25bb2-523d-46e9-de0c-dea6acb0f15a"
      },
      "source": [
        "\n",
        "loss\n"
      ],
      "execution_count": null,
      "outputs": [
        {
          "output_type": "execute_result",
          "data": {
            "text/plain": [
              "2.741854429244995"
            ]
          },
          "metadata": {
            "tags": []
          },
          "execution_count": 189
        }
      ]
    },
    {
      "cell_type": "code",
      "metadata": {
        "colab": {
          "base_uri": "https://localhost:8080/"
        },
        "id": "dTgFtZedw4Nv",
        "outputId": "42d44249-f943-435d-e75c-bf4f4db232a5"
      },
      "source": [
        "accuracy "
      ],
      "execution_count": null,
      "outputs": [
        {
          "output_type": "execute_result",
          "data": {
            "text/plain": [
              "0.9981157183647156"
            ]
          },
          "metadata": {
            "tags": []
          },
          "execution_count": 190
        }
      ]
    },
    {
      "cell_type": "code",
      "metadata": {
        "colab": {
          "base_uri": "https://localhost:8080/"
        },
        "id": "GZWDfmhou6ab",
        "outputId": "57633ea2-c7cd-4a04-ecb6-c5b8ac0c6534"
      },
      "source": [
        "y = model.predict(X_test).astype(dtype=\"u8\")\n",
        "\n",
        "y\n"
      ],
      "execution_count": null,
      "outputs": [
        {
          "output_type": "execute_result",
          "data": {
            "text/plain": [
              "array([[               41505, 18446744073709551600,                    8,\n",
              "        ..., 18446744073709551615,                  364,\n",
              "                           1],\n",
              "       [               44261,                    0, 18446744073709551614,\n",
              "        ...,                    0,                  520,\n",
              "                           0],\n",
              "       [               35484,                    1,                    0,\n",
              "        ...,                    0,                   31,\n",
              "                           0],\n",
              "       ...,\n",
              "       [               31911,                    0, 18446744073709551615,\n",
              "        ...,                    0,                  195,\n",
              "                           0],\n",
              "       [              141043,                    2,                    0,\n",
              "        ...,                    0,                    0,\n",
              "                           0],\n",
              "       [               61191,                    1,                    0,\n",
              "        ...,                    0,                   10,\n",
              "                           0]], dtype=uint64)"
            ]
          },
          "metadata": {
            "tags": []
          },
          "execution_count": 214
        }
      ]
    },
    {
      "cell_type": "code",
      "metadata": {
        "id": "teIHnsDfpG0h"
      },
      "source": [
        "y = model.predict(X_test).astype(dtype=\"int\")\n",
        "\n",
        "x=X_test\n"
      ],
      "execution_count": null,
      "outputs": []
    },
    {
      "cell_type": "code",
      "metadata": {
        "colab": {
          "base_uri": "https://localhost:8080/"
        },
        "id": "hzYDslGY2Qc_",
        "outputId": "fcff1a2c-b7c1-4990-9a45-910f939c9e20"
      },
      "source": [
        ""
      ],
      "execution_count": null,
      "outputs": [
        {
          "output_type": "execute_result",
          "data": {
            "text/plain": [
              "(85443, 31)"
            ]
          },
          "metadata": {
            "tags": []
          },
          "execution_count": 206
        }
      ]
    },
    {
      "cell_type": "code",
      "metadata": {
        "colab": {
          "base_uri": "https://localhost:8080/",
          "height": 295
        },
        "id": "9uSH6Kr72Xw1",
        "outputId": "b9c34359-8bbc-4aef-8a11-38398ee929bb"
      },
      "source": [
        "x.shape\n",
        "plt.scatter(x, y, label= \"Actual price\", color= \"green\", marker= \"p\", s=50)\n",
        "plt.scatter(y, y, label= \"Predicted Price\", color= \"blue\", marker= \"d\", s=50)\n",
        "plt.xlabel('Price')\n",
        "plt.ylabel('Rows')\n",
        "plt.title('Actual price vs predicted price!')\n",
        "plt.legend()\n",
        "plt.grid()\n",
        "plt.show()"
      ],
      "execution_count": null,
      "outputs": [
        {
          "output_type": "display_data",
          "data": {
            "image/png": "[encoded data removed]",
            "text/plain": [
              "<Figure size 432x288 with 1 Axes>"
            ]
          },
          "metadata": {
            "tags": [],
            "needs_background": "light"
          }
        }
      ]
    },
    {
      "cell_type": "code",
      "metadata": {
        "id": "XwkANSYjxkLA"
      },
      "source": [
        ""
      ],
      "execution_count": null,
      "outputs": []
    },
    {
      "cell_type": "code",
      "metadata": {
        "id": "L_LniYYymnBa"
      },
      "source": [
        ""
      ],
      "execution_count": null,
      "outputs": []
    },
    {
      "cell_type": "code",
      "metadata": {
        "id": "r6obnHKpwfeG"
      },
      "source": [
        ""
      ],
      "execution_count": null,
      "outputs": []
    },
    {
      "cell_type": "code",
      "metadata": {
        "id": "gv8078adkjBY"
      },
      "source": [
        ""
      ],
      "execution_count": null,
      "outputs": []
    }
  ]
}